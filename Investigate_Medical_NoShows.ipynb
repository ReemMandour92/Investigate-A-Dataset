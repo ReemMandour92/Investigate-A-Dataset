{
 "cells": [
  {
   "cell_type": "markdown",
   "id": "248fbd81",
   "metadata": {},
   "source": [
    "# Medical appointments No shows\n",
    "#### by: Reem Mandour"
   ]
  },
  {
   "cell_type": "markdown",
   "id": "super-contamination",
   "metadata": {},
   "source": [
    "<img src=\"MedicalAppointment.jpg\" alt=\"MedicalAppointment Page\" title=\"MedicalAppointment Kaggle page\" /><br>"
   ]
  },
  {
   "cell_type": "markdown",
   "id": "desperate-significance",
   "metadata": {},
   "source": [
    "Import necessary packages. Most importantly <strong>% Matplotlib inline</strong> to display visuals in same page, and <strong>sns.set_style</strong> to control visuals' background theme."
   ]
  },
  {
   "cell_type": "code",
   "execution_count": 1,
   "id": "023e201b",
   "metadata": {},
   "outputs": [],
   "source": [
    "import numpy as np\n",
    "import pandas as pd\n",
    "import matplotlib.pyplot as plt\n",
    "import seaborn as sns\n",
    "%matplotlib inline\n",
    "sns.set_style('darkgrid')"
   ]
  },
  {
   "cell_type": "markdown",
   "id": "judicial-offering",
   "metadata": {},
   "source": [
    "<strong>Note:</strong> This code is commented for optimization. when uncommented, cells take time to execute all queried rows."
   ]
  },
  {
   "cell_type": "code",
   "execution_count": 2,
   "id": "interim-circulation",
   "metadata": {},
   "outputs": [],
   "source": [
    "# Display columns and rows fully with no collapse\n",
    "#pd.set_option('display.max_rows',None)\n",
    "#pd.set_option('display.max_columns',None)"
   ]
  },
  {
   "cell_type": "markdown",
   "id": "exempt-foundation",
   "metadata": {},
   "source": [
    "## Question Posed:"
   ]
  },
  {
   "cell_type": "markdown",
   "id": "intense-stable",
   "metadata": {},
   "source": [
    "* Why do 30% of the patients not show up for their scheduled appointment according to given data? <br>\n",
    "* How do factors of appointments differ and what can we infer from them?"
   ]
  },
  {
   "cell_type": "markdown",
   "id": "secret-pregnancy",
   "metadata": {},
   "source": [
    "## Gather Data"
   ]
  },
  {
   "cell_type": "markdown",
   "id": "opponent-pulse",
   "metadata": {},
   "source": [
    "CSV file is downloaded from udacity servers. Original source on <a href=\"https://www.kaggle.com/joniarroba/noshowappointments\"> Kaggle</a>"
   ]
  },
  {
   "cell_type": "code",
   "execution_count": 3,
   "id": "e9975ff5",
   "metadata": {},
   "outputs": [],
   "source": [
    "# Load CSV file using pandas function read_csv\n",
    "df_medical = pd.read_csv('noshowappointments-kagglev2-may-2016.csv')"
   ]
  },
  {
   "cell_type": "code",
   "execution_count": 4,
   "id": "92294489",
   "metadata": {},
   "outputs": [
    {
     "data": {
      "text/html": [
       "<div>\n",
       "<style scoped>\n",
       "    .dataframe tbody tr th:only-of-type {\n",
       "        vertical-align: middle;\n",
       "    }\n",
       "\n",
       "    .dataframe tbody tr th {\n",
       "        vertical-align: top;\n",
       "    }\n",
       "\n",
       "    .dataframe thead th {\n",
       "        text-align: right;\n",
       "    }\n",
       "</style>\n",
       "<table border=\"1\" class=\"dataframe\">\n",
       "  <thead>\n",
       "    <tr style=\"text-align: right;\">\n",
       "      <th></th>\n",
       "      <th>PatientId</th>\n",
       "      <th>AppointmentID</th>\n",
       "      <th>Gender</th>\n",
       "      <th>ScheduledDay</th>\n",
       "      <th>AppointmentDay</th>\n",
       "      <th>Age</th>\n",
       "      <th>Neighbourhood</th>\n",
       "      <th>Scholarship</th>\n",
       "      <th>Hipertension</th>\n",
       "      <th>Diabetes</th>\n",
       "      <th>Alcoholism</th>\n",
       "      <th>Handcap</th>\n",
       "      <th>SMS_received</th>\n",
       "      <th>No-show</th>\n",
       "    </tr>\n",
       "  </thead>\n",
       "  <tbody>\n",
       "    <tr>\n",
       "      <th>0</th>\n",
       "      <td>2.987250e+13</td>\n",
       "      <td>5642903</td>\n",
       "      <td>F</td>\n",
       "      <td>2016-04-29T18:38:08Z</td>\n",
       "      <td>2016-04-29T00:00:00Z</td>\n",
       "      <td>62</td>\n",
       "      <td>JARDIM DA PENHA</td>\n",
       "      <td>0</td>\n",
       "      <td>1</td>\n",
       "      <td>0</td>\n",
       "      <td>0</td>\n",
       "      <td>0</td>\n",
       "      <td>0</td>\n",
       "      <td>No</td>\n",
       "    </tr>\n",
       "    <tr>\n",
       "      <th>1</th>\n",
       "      <td>5.589978e+14</td>\n",
       "      <td>5642503</td>\n",
       "      <td>M</td>\n",
       "      <td>2016-04-29T16:08:27Z</td>\n",
       "      <td>2016-04-29T00:00:00Z</td>\n",
       "      <td>56</td>\n",
       "      <td>JARDIM DA PENHA</td>\n",
       "      <td>0</td>\n",
       "      <td>0</td>\n",
       "      <td>0</td>\n",
       "      <td>0</td>\n",
       "      <td>0</td>\n",
       "      <td>0</td>\n",
       "      <td>No</td>\n",
       "    </tr>\n",
       "    <tr>\n",
       "      <th>2</th>\n",
       "      <td>4.262962e+12</td>\n",
       "      <td>5642549</td>\n",
       "      <td>F</td>\n",
       "      <td>2016-04-29T16:19:04Z</td>\n",
       "      <td>2016-04-29T00:00:00Z</td>\n",
       "      <td>62</td>\n",
       "      <td>MATA DA PRAIA</td>\n",
       "      <td>0</td>\n",
       "      <td>0</td>\n",
       "      <td>0</td>\n",
       "      <td>0</td>\n",
       "      <td>0</td>\n",
       "      <td>0</td>\n",
       "      <td>No</td>\n",
       "    </tr>\n",
       "    <tr>\n",
       "      <th>3</th>\n",
       "      <td>8.679512e+11</td>\n",
       "      <td>5642828</td>\n",
       "      <td>F</td>\n",
       "      <td>2016-04-29T17:29:31Z</td>\n",
       "      <td>2016-04-29T00:00:00Z</td>\n",
       "      <td>8</td>\n",
       "      <td>PONTAL DE CAMBURI</td>\n",
       "      <td>0</td>\n",
       "      <td>0</td>\n",
       "      <td>0</td>\n",
       "      <td>0</td>\n",
       "      <td>0</td>\n",
       "      <td>0</td>\n",
       "      <td>No</td>\n",
       "    </tr>\n",
       "    <tr>\n",
       "      <th>4</th>\n",
       "      <td>8.841186e+12</td>\n",
       "      <td>5642494</td>\n",
       "      <td>F</td>\n",
       "      <td>2016-04-29T16:07:23Z</td>\n",
       "      <td>2016-04-29T00:00:00Z</td>\n",
       "      <td>56</td>\n",
       "      <td>JARDIM DA PENHA</td>\n",
       "      <td>0</td>\n",
       "      <td>1</td>\n",
       "      <td>1</td>\n",
       "      <td>0</td>\n",
       "      <td>0</td>\n",
       "      <td>0</td>\n",
       "      <td>No</td>\n",
       "    </tr>\n",
       "  </tbody>\n",
       "</table>\n",
       "</div>"
      ],
      "text/plain": [
       "      PatientId  AppointmentID Gender          ScheduledDay  \\\n",
       "0  2.987250e+13        5642903      F  2016-04-29T18:38:08Z   \n",
       "1  5.589978e+14        5642503      M  2016-04-29T16:08:27Z   \n",
       "2  4.262962e+12        5642549      F  2016-04-29T16:19:04Z   \n",
       "3  8.679512e+11        5642828      F  2016-04-29T17:29:31Z   \n",
       "4  8.841186e+12        5642494      F  2016-04-29T16:07:23Z   \n",
       "\n",
       "         AppointmentDay  Age      Neighbourhood  Scholarship  Hipertension  \\\n",
       "0  2016-04-29T00:00:00Z   62    JARDIM DA PENHA            0             1   \n",
       "1  2016-04-29T00:00:00Z   56    JARDIM DA PENHA            0             0   \n",
       "2  2016-04-29T00:00:00Z   62      MATA DA PRAIA            0             0   \n",
       "3  2016-04-29T00:00:00Z    8  PONTAL DE CAMBURI            0             0   \n",
       "4  2016-04-29T00:00:00Z   56    JARDIM DA PENHA            0             1   \n",
       "\n",
       "   Diabetes  Alcoholism  Handcap  SMS_received No-show  \n",
       "0         0           0        0             0      No  \n",
       "1         0           0        0             0      No  \n",
       "2         0           0        0             0      No  \n",
       "3         0           0        0             0      No  \n",
       "4         1           0        0             0      No  "
      ]
     },
     "execution_count": 4,
     "metadata": {},
     "output_type": "execute_result"
    }
   ],
   "source": [
    "df_medical.head()"
   ]
  },
  {
   "cell_type": "markdown",
   "id": "intimate-helen",
   "metadata": {},
   "source": [
    "## Assess Data"
   ]
  },
  {
   "cell_type": "markdown",
   "id": "contained-amount",
   "metadata": {},
   "source": [
    "1) Columns should always have meaningful names for the following reasons: clarity,  easy code access with .operator, and ,although not impacting syntax, abiding to pep-8 standard. For these reasons,  Rename PatientId to patient_id, AppointmentID to appointment_id, Gender to gender, ScheduledDay to scheduled_date, AppointmentDay to appointment_date, Age to age, Neibourhood to neibourhood, Scholarship to scholarship, Hipertension to hypertension, Diabeted to diabetes, Alcoholism to acoholism, Handcap, to handicap, No-show to no_show.py<br>\n",
    "2) Patient id is loaded incorrectly with float datatype. It must be string to preserve accuracy and prevent having it in statistical calculation like describe() function. It is loaded with datatype for the reason in [to be added]<br>\n",
    "3) Appointment Id is unique , but has a great hidden error. Two or more appointments for the same person on the same day has two or more unique Ids. With this scarce dataset, they are considered the same unless other variable or columns are added. This is to be explained in detail later in limitations section .<br>\n",
    "4) Scheduled day and appointment day must be datetime. Scheduled day has timestamp whereas appointment day has no timestamp so we cannot take timestamp in our measurments. Truncate Timestamp for consistency of data <br>\n",
    "5) Age variable or column has unrealistic data. It is not logical to have people with 115 years old age. These number go far beyond the human's life span. There are proposed reasinons for this which will be discussed in limitations section<br>\n",
    "6) Scholarship, Hipertension, Diabetes, Alcoholism, Handicap are boolean variables. Instead of having 0 or 1, it is better ti give them precise datatypes and equivilant data to 0 or 1.<br>\n",
    "   Note: Handicap column has values 2, 3, 4 , although it is boolean according to kaggle. Any value other than zero is considered True. Values with 2, 3, 4 also have proposed reasons explained later in limitations section<br>\n",
    "7) No-show variable changed to boolean from No/yes for consistency of data. To have a good and consistent dataset structure as well as semantics. All variables should have their close precise datatypes. [[4]](#ref_links4) <br>\n",
    "8) When AppointmentID is removed, data has a lot of duplicate patients with same appointments on the same day.<br>\n",
    "9)  Add new column or variable called days_diff, which states the difference between appointment day and scheduled day. [[5]](#ref_links5) <br>\n",
    "10) There are rows with scheduled date greater than appointment date, which is impossibe to happen. [[6]](#ref_links6)<br>\n",
    "11) Investigating further in dataset shows that whenever an SMS is received, a new row is inserted. We have three cases in this case:[[3]](#ref_links3)\n",
    "    <ul>\n",
    "    <li>\n",
    "      A Patient scheduled an appointment and SMS is received, but did not show so no-show = True. In this case,  original     column has a no-show row set to true and a new column is recorded.\n",
    "    </li>\n",
    "    <li>\n",
    "      A Patient scheduled an appointment and SMS is received, but patient showed so no-show = False. In this case,  original column has a no-show row set to False and a new column is recorded.\n",
    "    </li>\n",
    "    <li>\n",
    "      A Patient scheduled an appointment and SMS is not received, but patient showed so no-show = True. In this case,  original column has a no-show row set to False and a new column is recorded with no show = True.\n",
    "    </li>\n",
    "    </ul>\n",
    "12) Overlapping dates: it is illogical to have a row of patient scheduling on 10th of july and appointment on 12th of july, and another row saying scheduled day is 12th of july and appointment 12th of july. until further columns are added(discussed in limitations section), this is considered duplicate added too on visit day. [[3]](#ref_links3)"
   ]
  },
  {
   "cell_type": "code",
   "execution_count": 5,
   "id": "a0cc5efb",
   "metadata": {},
   "outputs": [
    {
     "name": "stdout",
     "output_type": "stream",
     "text": [
      "<class 'pandas.core.frame.DataFrame'>\n",
      "RangeIndex: 110527 entries, 0 to 110526\n",
      "Data columns (total 14 columns):\n",
      "PatientId         110527 non-null float64\n",
      "AppointmentID     110527 non-null int64\n",
      "Gender            110527 non-null object\n",
      "ScheduledDay      110527 non-null object\n",
      "AppointmentDay    110527 non-null object\n",
      "Age               110527 non-null int64\n",
      "Neighbourhood     110527 non-null object\n",
      "Scholarship       110527 non-null int64\n",
      "Hipertension      110527 non-null int64\n",
      "Diabetes          110527 non-null int64\n",
      "Alcoholism        110527 non-null int64\n",
      "Handcap           110527 non-null int64\n",
      "SMS_received      110527 non-null int64\n",
      "No-show           110527 non-null object\n",
      "dtypes: float64(1), int64(8), object(5)\n",
      "memory usage: 11.8+ MB\n"
     ]
    }
   ],
   "source": [
    "# Assess Issue 1, 2\n",
    "df_medical.info()"
   ]
  },
  {
   "cell_type": "code",
   "execution_count": 6,
   "id": "0bdfb259",
   "metadata": {},
   "outputs": [
    {
     "data": {
      "text/plain": [
       "dtype('float64')"
      ]
     },
     "execution_count": 6,
     "metadata": {},
     "output_type": "execute_result"
    }
   ],
   "source": [
    "# Asses Issue 2\n",
    "# patient id is float , should be loaded as int. Will convert to string to preserve accuracy\n",
    "df_medical.PatientId.dtype"
   ]
  },
  {
   "cell_type": "code",
   "execution_count": 7,
   "id": "0e8b759d",
   "metadata": {},
   "outputs": [
    {
     "data": {
      "text/plain": [
       "8.221459e+14    88\n",
       "9.963767e+10    84\n",
       "2.688613e+13    70\n",
       "3.353478e+13    65\n",
       "2.584244e+11    62\n",
       "7.579746e+13    62\n",
       "8.713749e+14    62\n",
       "6.264199e+12    62\n",
       "6.684488e+13    57\n",
       "8.722785e+11    55\n",
       "8.923969e+13    54\n",
       "8.435224e+09    51\n",
       "8.534397e+14    50\n",
       "1.447997e+13    46\n",
       "6.543360e+13    46\n",
       "8.189452e+13    42\n",
       "9.452745e+12    42\n",
       "1.882323e+14    40\n",
       "9.496197e+12    38\n",
       "2.271580e+12    38\n",
       "1.336493e+13    37\n",
       "1.484143e+12    35\n",
       "8.883500e+13    34\n",
       "9.861628e+14    34\n",
       "7.124589e+14    33\n",
       "4.167557e+14    30\n",
       "6.128878e+12    30\n",
       "8.121397e+13    29\n",
       "8.634164e+12    24\n",
       "3.699499e+13    23\n",
       "                ..\n",
       "6.375629e+12     1\n",
       "9.369127e+12     1\n",
       "5.375556e+14     1\n",
       "1.662184e+11     1\n",
       "7.234615e+13     1\n",
       "9.649990e+12     1\n",
       "6.912783e+10     1\n",
       "1.954265e+13     1\n",
       "2.736377e+10     1\n",
       "5.532694e+11     1\n",
       "7.149583e+12     1\n",
       "8.676752e+13     1\n",
       "7.838359e+13     1\n",
       "5.962625e+11     1\n",
       "4.919862e+13     1\n",
       "3.477350e+14     1\n",
       "1.626595e+13     1\n",
       "7.794917e+12     1\n",
       "1.161950e+13     1\n",
       "5.615364e+14     1\n",
       "4.355592e+11     1\n",
       "1.321328e+12     1\n",
       "1.751987e+13     1\n",
       "4.262579e+13     1\n",
       "3.115681e+13     1\n",
       "1.222828e+13     1\n",
       "6.821231e+11     1\n",
       "7.163981e+14     1\n",
       "9.798964e+14     1\n",
       "2.724571e+11     1\n",
       "Name: PatientId, Length: 62299, dtype: int64"
      ]
     },
     "execution_count": 7,
     "metadata": {},
     "output_type": "execute_result"
    }
   ],
   "source": [
    "# More than one appointment for the same patient\n",
    "df_medical.PatientId.value_counts()"
   ]
  },
  {
   "cell_type": "code",
   "execution_count": 8,
   "id": "2781a560",
   "metadata": {},
   "outputs": [
    {
     "data": {
      "text/plain": [
       "48228"
      ]
     },
     "execution_count": 8,
     "metadata": {},
     "output_type": "execute_result"
    }
   ],
   "source": [
    "# we have more than one reservation per patient\n",
    "df_medical.PatientId.duplicated().sum()"
   ]
  },
  {
   "cell_type": "code",
   "execution_count": 9,
   "id": "a4450ded",
   "metadata": {},
   "outputs": [
    {
     "data": {
      "text/plain": [
       "0"
      ]
     },
     "execution_count": 9,
     "metadata": {},
     "output_type": "execute_result"
    }
   ],
   "source": [
    "# Assess Issue 3\n",
    "# Data with Appointment Id is unique, so no issue.\n",
    "df_medical.AppointmentID.duplicated().sum()"
   ]
  },
  {
   "cell_type": "code",
   "execution_count": 10,
   "id": "pressed-upgrade",
   "metadata": {},
   "outputs": [
    {
     "data": {
      "text/plain": [
       "28700"
      ]
     },
     "execution_count": 10,
     "metadata": {},
     "output_type": "execute_result"
    }
   ],
   "source": [
    "# # Assess Issue 4\n",
    "# Data without Appointment Id has duplicates, that is to be studied further and dropped. Discussed in detail in cleaning section\n",
    "df_medical.duplicated(subset=['PatientId', 'Gender', 'Neighbourhood', 'Scholarship', 'Hipertension',\n",
    "       'Diabetes', 'Alcoholism', 'Handcap', 'SMS_received', 'No-show']).sum()"
   ]
  },
  {
   "cell_type": "code",
   "execution_count": 11,
   "id": "c6526746",
   "metadata": {},
   "outputs": [
    {
     "data": {
      "text/html": [
       "<div>\n",
       "<style scoped>\n",
       "    .dataframe tbody tr th:only-of-type {\n",
       "        vertical-align: middle;\n",
       "    }\n",
       "\n",
       "    .dataframe tbody tr th {\n",
       "        vertical-align: top;\n",
       "    }\n",
       "\n",
       "    .dataframe thead th {\n",
       "        text-align: right;\n",
       "    }\n",
       "</style>\n",
       "<table border=\"1\" class=\"dataframe\">\n",
       "  <thead>\n",
       "    <tr style=\"text-align: right;\">\n",
       "      <th></th>\n",
       "      <th>PatientId</th>\n",
       "      <th>AppointmentID</th>\n",
       "      <th>Age</th>\n",
       "      <th>Scholarship</th>\n",
       "      <th>Hipertension</th>\n",
       "      <th>Diabetes</th>\n",
       "      <th>Alcoholism</th>\n",
       "      <th>Handcap</th>\n",
       "      <th>SMS_received</th>\n",
       "    </tr>\n",
       "  </thead>\n",
       "  <tbody>\n",
       "    <tr>\n",
       "      <th>count</th>\n",
       "      <td>1.105270e+05</td>\n",
       "      <td>1.105270e+05</td>\n",
       "      <td>110527.000000</td>\n",
       "      <td>110527.000000</td>\n",
       "      <td>110527.000000</td>\n",
       "      <td>110527.000000</td>\n",
       "      <td>110527.000000</td>\n",
       "      <td>110527.000000</td>\n",
       "      <td>110527.000000</td>\n",
       "    </tr>\n",
       "    <tr>\n",
       "      <th>mean</th>\n",
       "      <td>1.474963e+14</td>\n",
       "      <td>5.675305e+06</td>\n",
       "      <td>37.088874</td>\n",
       "      <td>0.098266</td>\n",
       "      <td>0.197246</td>\n",
       "      <td>0.071865</td>\n",
       "      <td>0.030400</td>\n",
       "      <td>0.022248</td>\n",
       "      <td>0.321026</td>\n",
       "    </tr>\n",
       "    <tr>\n",
       "      <th>std</th>\n",
       "      <td>2.560949e+14</td>\n",
       "      <td>7.129575e+04</td>\n",
       "      <td>23.110205</td>\n",
       "      <td>0.297675</td>\n",
       "      <td>0.397921</td>\n",
       "      <td>0.258265</td>\n",
       "      <td>0.171686</td>\n",
       "      <td>0.161543</td>\n",
       "      <td>0.466873</td>\n",
       "    </tr>\n",
       "    <tr>\n",
       "      <th>min</th>\n",
       "      <td>3.921784e+04</td>\n",
       "      <td>5.030230e+06</td>\n",
       "      <td>-1.000000</td>\n",
       "      <td>0.000000</td>\n",
       "      <td>0.000000</td>\n",
       "      <td>0.000000</td>\n",
       "      <td>0.000000</td>\n",
       "      <td>0.000000</td>\n",
       "      <td>0.000000</td>\n",
       "    </tr>\n",
       "    <tr>\n",
       "      <th>25%</th>\n",
       "      <td>4.172614e+12</td>\n",
       "      <td>5.640286e+06</td>\n",
       "      <td>18.000000</td>\n",
       "      <td>0.000000</td>\n",
       "      <td>0.000000</td>\n",
       "      <td>0.000000</td>\n",
       "      <td>0.000000</td>\n",
       "      <td>0.000000</td>\n",
       "      <td>0.000000</td>\n",
       "    </tr>\n",
       "    <tr>\n",
       "      <th>50%</th>\n",
       "      <td>3.173184e+13</td>\n",
       "      <td>5.680573e+06</td>\n",
       "      <td>37.000000</td>\n",
       "      <td>0.000000</td>\n",
       "      <td>0.000000</td>\n",
       "      <td>0.000000</td>\n",
       "      <td>0.000000</td>\n",
       "      <td>0.000000</td>\n",
       "      <td>0.000000</td>\n",
       "    </tr>\n",
       "    <tr>\n",
       "      <th>75%</th>\n",
       "      <td>9.439172e+13</td>\n",
       "      <td>5.725524e+06</td>\n",
       "      <td>55.000000</td>\n",
       "      <td>0.000000</td>\n",
       "      <td>0.000000</td>\n",
       "      <td>0.000000</td>\n",
       "      <td>0.000000</td>\n",
       "      <td>0.000000</td>\n",
       "      <td>1.000000</td>\n",
       "    </tr>\n",
       "    <tr>\n",
       "      <th>max</th>\n",
       "      <td>9.999816e+14</td>\n",
       "      <td>5.790484e+06</td>\n",
       "      <td>115.000000</td>\n",
       "      <td>1.000000</td>\n",
       "      <td>1.000000</td>\n",
       "      <td>1.000000</td>\n",
       "      <td>1.000000</td>\n",
       "      <td>4.000000</td>\n",
       "      <td>1.000000</td>\n",
       "    </tr>\n",
       "  </tbody>\n",
       "</table>\n",
       "</div>"
      ],
      "text/plain": [
       "          PatientId  AppointmentID            Age    Scholarship  \\\n",
       "count  1.105270e+05   1.105270e+05  110527.000000  110527.000000   \n",
       "mean   1.474963e+14   5.675305e+06      37.088874       0.098266   \n",
       "std    2.560949e+14   7.129575e+04      23.110205       0.297675   \n",
       "min    3.921784e+04   5.030230e+06      -1.000000       0.000000   \n",
       "25%    4.172614e+12   5.640286e+06      18.000000       0.000000   \n",
       "50%    3.173184e+13   5.680573e+06      37.000000       0.000000   \n",
       "75%    9.439172e+13   5.725524e+06      55.000000       0.000000   \n",
       "max    9.999816e+14   5.790484e+06     115.000000       1.000000   \n",
       "\n",
       "        Hipertension       Diabetes     Alcoholism        Handcap  \\\n",
       "count  110527.000000  110527.000000  110527.000000  110527.000000   \n",
       "mean        0.197246       0.071865       0.030400       0.022248   \n",
       "std         0.397921       0.258265       0.171686       0.161543   \n",
       "min         0.000000       0.000000       0.000000       0.000000   \n",
       "25%         0.000000       0.000000       0.000000       0.000000   \n",
       "50%         0.000000       0.000000       0.000000       0.000000   \n",
       "75%         0.000000       0.000000       0.000000       0.000000   \n",
       "max         1.000000       1.000000       1.000000       4.000000   \n",
       "\n",
       "        SMS_received  \n",
       "count  110527.000000  \n",
       "mean        0.321026  \n",
       "std         0.466873  \n",
       "min         0.000000  \n",
       "25%         0.000000  \n",
       "50%         0.000000  \n",
       "75%         1.000000  \n",
       "max         1.000000  "
      ]
     },
     "execution_count": 11,
     "metadata": {},
     "output_type": "execute_result"
    }
   ],
   "source": [
    "# patientid and Appointment id must not have any statistical calculation; They must be converted to string\n",
    "# Also, other variables except age are boolean variables, so statistical info should be interpreted from them\n",
    "df_medical.describe()"
   ]
  },
  {
   "cell_type": "code",
   "execution_count": 12,
   "id": "emerging-brave",
   "metadata": {},
   "outputs": [
    {
     "data": {
      "text/plain": [
       " 0      3539\n",
       " 1      2273\n",
       " 52     1746\n",
       " 49     1652\n",
       " 53     1651\n",
       " 56     1635\n",
       " 38     1629\n",
       " 59     1624\n",
       " 2      1618\n",
       " 50     1613\n",
       " 57     1603\n",
       " 36     1580\n",
       " 51     1567\n",
       " 19     1545\n",
       " 39     1536\n",
       " 37     1533\n",
       " 54     1530\n",
       " 34     1526\n",
       " 33     1524\n",
       " 30     1521\n",
       " 6      1521\n",
       " 3      1513\n",
       " 17     1509\n",
       " 32     1505\n",
       " 5      1489\n",
       " 44     1487\n",
       " 18     1487\n",
       " 58     1469\n",
       " 46     1460\n",
       " 45     1453\n",
       "        ... \n",
       " 74      602\n",
       " 76      571\n",
       " 75      544\n",
       " 78      541\n",
       " 77      527\n",
       " 80      511\n",
       " 81      434\n",
       " 82      392\n",
       " 79      390\n",
       " 84      311\n",
       " 83      280\n",
       " 85      275\n",
       " 86      260\n",
       " 87      184\n",
       " 89      173\n",
       " 88      126\n",
       " 90      109\n",
       " 92       86\n",
       " 91       66\n",
       " 93       53\n",
       " 94       33\n",
       " 95       24\n",
       " 96       17\n",
       " 97       11\n",
       " 98        6\n",
       " 115       5\n",
       " 100       4\n",
       " 102       2\n",
       " 99        1\n",
       "-1         1\n",
       "Name: Age, Length: 104, dtype: int64"
      ]
     },
     "execution_count": 12,
     "metadata": {},
     "output_type": "execute_result"
    }
   ],
   "source": [
    "# Asses Issue 5\n",
    "# Age has illogical data\n",
    "df_medical.Age.value_counts()"
   ]
  },
  {
   "cell_type": "code",
   "execution_count": 13,
   "id": "advisory-royalty",
   "metadata": {},
   "outputs": [
    {
     "data": {
      "text/html": [
       "<div>\n",
       "<style scoped>\n",
       "    .dataframe tbody tr th:only-of-type {\n",
       "        vertical-align: middle;\n",
       "    }\n",
       "\n",
       "    .dataframe tbody tr th {\n",
       "        vertical-align: top;\n",
       "    }\n",
       "\n",
       "    .dataframe thead th {\n",
       "        text-align: right;\n",
       "    }\n",
       "</style>\n",
       "<table border=\"1\" class=\"dataframe\">\n",
       "  <thead>\n",
       "    <tr style=\"text-align: right;\">\n",
       "      <th></th>\n",
       "      <th>PatientId</th>\n",
       "      <th>AppointmentID</th>\n",
       "      <th>Gender</th>\n",
       "      <th>ScheduledDay</th>\n",
       "      <th>AppointmentDay</th>\n",
       "      <th>Age</th>\n",
       "      <th>Neighbourhood</th>\n",
       "      <th>Scholarship</th>\n",
       "      <th>Hipertension</th>\n",
       "      <th>Diabetes</th>\n",
       "      <th>Alcoholism</th>\n",
       "      <th>Handcap</th>\n",
       "      <th>SMS_received</th>\n",
       "      <th>No-show</th>\n",
       "    </tr>\n",
       "  </thead>\n",
       "  <tbody>\n",
       "    <tr>\n",
       "      <th>63912</th>\n",
       "      <td>3.196321e+13</td>\n",
       "      <td>5700278</td>\n",
       "      <td>F</td>\n",
       "      <td>2016-05-16T09:17:44Z</td>\n",
       "      <td>2016-05-19T00:00:00Z</td>\n",
       "      <td>115</td>\n",
       "      <td>ANDORINHAS</td>\n",
       "      <td>0</td>\n",
       "      <td>0</td>\n",
       "      <td>0</td>\n",
       "      <td>0</td>\n",
       "      <td>1</td>\n",
       "      <td>0</td>\n",
       "      <td>Yes</td>\n",
       "    </tr>\n",
       "    <tr>\n",
       "      <th>63915</th>\n",
       "      <td>3.196321e+13</td>\n",
       "      <td>5700279</td>\n",
       "      <td>F</td>\n",
       "      <td>2016-05-16T09:17:44Z</td>\n",
       "      <td>2016-05-19T00:00:00Z</td>\n",
       "      <td>115</td>\n",
       "      <td>ANDORINHAS</td>\n",
       "      <td>0</td>\n",
       "      <td>0</td>\n",
       "      <td>0</td>\n",
       "      <td>0</td>\n",
       "      <td>1</td>\n",
       "      <td>0</td>\n",
       "      <td>Yes</td>\n",
       "    </tr>\n",
       "    <tr>\n",
       "      <th>68127</th>\n",
       "      <td>3.196321e+13</td>\n",
       "      <td>5562812</td>\n",
       "      <td>F</td>\n",
       "      <td>2016-04-08T14:29:17Z</td>\n",
       "      <td>2016-05-16T00:00:00Z</td>\n",
       "      <td>115</td>\n",
       "      <td>ANDORINHAS</td>\n",
       "      <td>0</td>\n",
       "      <td>0</td>\n",
       "      <td>0</td>\n",
       "      <td>0</td>\n",
       "      <td>1</td>\n",
       "      <td>0</td>\n",
       "      <td>Yes</td>\n",
       "    </tr>\n",
       "    <tr>\n",
       "      <th>76284</th>\n",
       "      <td>3.196321e+13</td>\n",
       "      <td>5744037</td>\n",
       "      <td>F</td>\n",
       "      <td>2016-05-30T09:44:51Z</td>\n",
       "      <td>2016-05-30T00:00:00Z</td>\n",
       "      <td>115</td>\n",
       "      <td>ANDORINHAS</td>\n",
       "      <td>0</td>\n",
       "      <td>0</td>\n",
       "      <td>0</td>\n",
       "      <td>0</td>\n",
       "      <td>1</td>\n",
       "      <td>0</td>\n",
       "      <td>No</td>\n",
       "    </tr>\n",
       "    <tr>\n",
       "      <th>97666</th>\n",
       "      <td>7.482346e+14</td>\n",
       "      <td>5717451</td>\n",
       "      <td>F</td>\n",
       "      <td>2016-05-19T07:57:56Z</td>\n",
       "      <td>2016-06-03T00:00:00Z</td>\n",
       "      <td>115</td>\n",
       "      <td>SÃO JOSÉ</td>\n",
       "      <td>0</td>\n",
       "      <td>1</td>\n",
       "      <td>0</td>\n",
       "      <td>0</td>\n",
       "      <td>0</td>\n",
       "      <td>1</td>\n",
       "      <td>No</td>\n",
       "    </tr>\n",
       "  </tbody>\n",
       "</table>\n",
       "</div>"
      ],
      "text/plain": [
       "          PatientId  AppointmentID Gender          ScheduledDay  \\\n",
       "63912  3.196321e+13        5700278      F  2016-05-16T09:17:44Z   \n",
       "63915  3.196321e+13        5700279      F  2016-05-16T09:17:44Z   \n",
       "68127  3.196321e+13        5562812      F  2016-04-08T14:29:17Z   \n",
       "76284  3.196321e+13        5744037      F  2016-05-30T09:44:51Z   \n",
       "97666  7.482346e+14        5717451      F  2016-05-19T07:57:56Z   \n",
       "\n",
       "             AppointmentDay  Age Neighbourhood  Scholarship  Hipertension  \\\n",
       "63912  2016-05-19T00:00:00Z  115    ANDORINHAS            0             0   \n",
       "63915  2016-05-19T00:00:00Z  115    ANDORINHAS            0             0   \n",
       "68127  2016-05-16T00:00:00Z  115    ANDORINHAS            0             0   \n",
       "76284  2016-05-30T00:00:00Z  115    ANDORINHAS            0             0   \n",
       "97666  2016-06-03T00:00:00Z  115      SÃO JOSÉ            0             1   \n",
       "\n",
       "       Diabetes  Alcoholism  Handcap  SMS_received No-show  \n",
       "63912         0           0        1             0     Yes  \n",
       "63915         0           0        1             0     Yes  \n",
       "68127         0           0        1             0     Yes  \n",
       "76284         0           0        1             0      No  \n",
       "97666         0           0        0             1      No  "
      ]
     },
     "execution_count": 13,
     "metadata": {},
     "output_type": "execute_result"
    }
   ],
   "source": [
    "# Assess Issue 5\n",
    "# querying one of illogical aga data\n",
    "df_medical.query('Age == 115')"
   ]
  },
  {
   "cell_type": "code",
   "execution_count": 14,
   "id": "challenging-collar",
   "metadata": {},
   "outputs": [
    {
     "data": {
      "text/plain": [
       "0    99666\n",
       "1    10861\n",
       "Name: Scholarship, dtype: int64"
      ]
     },
     "execution_count": 14,
     "metadata": {},
     "output_type": "execute_result"
    }
   ],
   "source": [
    "# Assess Issue 6\n",
    "# Must be changed to boolean\n",
    "df_medical.Scholarship.value_counts()"
   ]
  },
  {
   "cell_type": "code",
   "execution_count": 15,
   "id": "tough-creation",
   "metadata": {},
   "outputs": [
    {
     "data": {
      "text/plain": [
       "0    88726\n",
       "1    21801\n",
       "Name: Hipertension, dtype: int64"
      ]
     },
     "execution_count": 15,
     "metadata": {},
     "output_type": "execute_result"
    }
   ],
   "source": [
    "# Assess Issue 6\n",
    "# Must be changed to boolean\n",
    "df_medical.Hipertension.value_counts()"
   ]
  },
  {
   "cell_type": "code",
   "execution_count": 16,
   "id": "instrumental-viewer",
   "metadata": {},
   "outputs": [
    {
     "data": {
      "text/plain": [
       "0    102584\n",
       "1      7943\n",
       "Name: Diabetes, dtype: int64"
      ]
     },
     "execution_count": 16,
     "metadata": {},
     "output_type": "execute_result"
    }
   ],
   "source": [
    "# Assess Issue 6\n",
    "# Must be changed to boolean\n",
    "df_medical.Diabetes.value_counts()"
   ]
  },
  {
   "cell_type": "code",
   "execution_count": 17,
   "id": "physical-dressing",
   "metadata": {},
   "outputs": [
    {
     "data": {
      "text/plain": [
       "0    107167\n",
       "1      3360\n",
       "Name: Alcoholism, dtype: int64"
      ]
     },
     "execution_count": 17,
     "metadata": {},
     "output_type": "execute_result"
    }
   ],
   "source": [
    "# Assess Issue 6\n",
    "# Must be changed to boolean\n",
    "df_medical.Alcoholism.value_counts()"
   ]
  },
  {
   "cell_type": "code",
   "execution_count": 18,
   "id": "norman-associate",
   "metadata": {},
   "outputs": [
    {
     "data": {
      "text/plain": [
       "0    108286\n",
       "1      2042\n",
       "2       183\n",
       "3        13\n",
       "4         3\n",
       "Name: Handcap, dtype: int64"
      ]
     },
     "execution_count": 18,
     "metadata": {},
     "output_type": "execute_result"
    }
   ],
   "source": [
    "# Assess Issue 6\n",
    "# Must be changed to boolean\n",
    "df_medical.Handcap.value_counts()"
   ]
  },
  {
   "cell_type": "code",
   "execution_count": 19,
   "id": "republican-adrian",
   "metadata": {},
   "outputs": [
    {
     "data": {
      "text/plain": [
       "No     88208\n",
       "Yes    22319\n",
       "Name: No-show, dtype: int64"
      ]
     },
     "execution_count": 19,
     "metadata": {},
     "output_type": "execute_result"
    }
   ],
   "source": [
    "# Assess Issue 7\n",
    "# Change datatype to boolean and No/yes to False/True\n",
    "df_medical['No-show'].value_counts()"
   ]
  },
  {
   "cell_type": "code",
   "execution_count": 20,
   "id": "indian-convention",
   "metadata": {},
   "outputs": [
    {
     "data": {
      "text/html": [
       "<div>\n",
       "<style scoped>\n",
       "    .dataframe tbody tr th:only-of-type {\n",
       "        vertical-align: middle;\n",
       "    }\n",
       "\n",
       "    .dataframe tbody tr th {\n",
       "        vertical-align: top;\n",
       "    }\n",
       "\n",
       "    .dataframe thead th {\n",
       "        text-align: right;\n",
       "    }\n",
       "</style>\n",
       "<table border=\"1\" class=\"dataframe\">\n",
       "  <thead>\n",
       "    <tr style=\"text-align: right;\">\n",
       "      <th></th>\n",
       "      <th>PatientId</th>\n",
       "      <th>AppointmentID</th>\n",
       "      <th>Gender</th>\n",
       "      <th>ScheduledDay</th>\n",
       "      <th>AppointmentDay</th>\n",
       "      <th>Age</th>\n",
       "      <th>Neighbourhood</th>\n",
       "      <th>Scholarship</th>\n",
       "      <th>Hipertension</th>\n",
       "      <th>Diabetes</th>\n",
       "      <th>Alcoholism</th>\n",
       "      <th>Handcap</th>\n",
       "      <th>SMS_received</th>\n",
       "      <th>No-show</th>\n",
       "    </tr>\n",
       "  </thead>\n",
       "  <tbody>\n",
       "    <tr>\n",
       "      <th>71533</th>\n",
       "      <td>9.982316e+14</td>\n",
       "      <td>5686628</td>\n",
       "      <td>F</td>\n",
       "      <td>2016-05-11T13:49:20Z</td>\n",
       "      <td>2016-05-05T00:00:00Z</td>\n",
       "      <td>81</td>\n",
       "      <td>SANTO ANTÔNIO</td>\n",
       "      <td>0</td>\n",
       "      <td>0</td>\n",
       "      <td>0</td>\n",
       "      <td>0</td>\n",
       "      <td>0</td>\n",
       "      <td>0</td>\n",
       "      <td>Yes</td>\n",
       "    </tr>\n",
       "  </tbody>\n",
       "</table>\n",
       "</div>"
      ],
      "text/plain": [
       "          PatientId  AppointmentID Gender          ScheduledDay  \\\n",
       "71533  9.982316e+14        5686628      F  2016-05-11T13:49:20Z   \n",
       "\n",
       "             AppointmentDay  Age  Neighbourhood  Scholarship  Hipertension  \\\n",
       "71533  2016-05-05T00:00:00Z   81  SANTO ANTÔNIO            0             0   \n",
       "\n",
       "       Diabetes  Alcoholism  Handcap  SMS_received No-show  \n",
       "71533         0           0        0             0     Yes  "
      ]
     },
     "execution_count": 20,
     "metadata": {},
     "output_type": "execute_result"
    }
   ],
   "source": [
    "# Assess Issue 10\n",
    "# Scheduled date greater than appointment date\n",
    "df_medical.query('AppointmentID == 5686628')"
   ]
  },
  {
   "cell_type": "code",
   "execution_count": 21,
   "id": "creative-touch",
   "metadata": {},
   "outputs": [
    {
     "data": {
      "text/html": [
       "<div>\n",
       "<style scoped>\n",
       "    .dataframe tbody tr th:only-of-type {\n",
       "        vertical-align: middle;\n",
       "    }\n",
       "\n",
       "    .dataframe tbody tr th {\n",
       "        vertical-align: top;\n",
       "    }\n",
       "\n",
       "    .dataframe thead th {\n",
       "        text-align: right;\n",
       "    }\n",
       "</style>\n",
       "<table border=\"1\" class=\"dataframe\">\n",
       "  <thead>\n",
       "    <tr style=\"text-align: right;\">\n",
       "      <th></th>\n",
       "      <th>PatientId</th>\n",
       "      <th>AppointmentID</th>\n",
       "      <th>Gender</th>\n",
       "      <th>ScheduledDay</th>\n",
       "      <th>AppointmentDay</th>\n",
       "      <th>Age</th>\n",
       "      <th>Neighbourhood</th>\n",
       "      <th>Scholarship</th>\n",
       "      <th>Hipertension</th>\n",
       "      <th>Diabetes</th>\n",
       "      <th>Alcoholism</th>\n",
       "      <th>Handcap</th>\n",
       "      <th>SMS_received</th>\n",
       "      <th>No-show</th>\n",
       "    </tr>\n",
       "  </thead>\n",
       "  <tbody>\n",
       "    <tr>\n",
       "      <th>287</th>\n",
       "      <td>2.246214e+13</td>\n",
       "      <td>5532909</td>\n",
       "      <td>M</td>\n",
       "      <td>2016-03-31T12:39:06Z</td>\n",
       "      <td>2016-04-29T00:00:00Z</td>\n",
       "      <td>43</td>\n",
       "      <td>CARATOÍRA</td>\n",
       "      <td>0</td>\n",
       "      <td>0</td>\n",
       "      <td>0</td>\n",
       "      <td>0</td>\n",
       "      <td>0</td>\n",
       "      <td>0</td>\n",
       "      <td>Yes</td>\n",
       "    </tr>\n",
       "    <tr>\n",
       "      <th>288</th>\n",
       "      <td>2.246214e+13</td>\n",
       "      <td>5532908</td>\n",
       "      <td>M</td>\n",
       "      <td>2016-03-31T12:39:06Z</td>\n",
       "      <td>2016-04-29T00:00:00Z</td>\n",
       "      <td>43</td>\n",
       "      <td>CARATOÍRA</td>\n",
       "      <td>0</td>\n",
       "      <td>0</td>\n",
       "      <td>0</td>\n",
       "      <td>0</td>\n",
       "      <td>0</td>\n",
       "      <td>1</td>\n",
       "      <td>Yes</td>\n",
       "    </tr>\n",
       "    <tr>\n",
       "      <th>56945</th>\n",
       "      <td>2.246214e+13</td>\n",
       "      <td>5688305</td>\n",
       "      <td>M</td>\n",
       "      <td>2016-05-12T07:14:55Z</td>\n",
       "      <td>2016-05-12T00:00:00Z</td>\n",
       "      <td>43</td>\n",
       "      <td>CARATOÍRA</td>\n",
       "      <td>0</td>\n",
       "      <td>0</td>\n",
       "      <td>0</td>\n",
       "      <td>0</td>\n",
       "      <td>0</td>\n",
       "      <td>0</td>\n",
       "      <td>No</td>\n",
       "    </tr>\n",
       "  </tbody>\n",
       "</table>\n",
       "</div>"
      ],
      "text/plain": [
       "          PatientId  AppointmentID Gender          ScheduledDay  \\\n",
       "287    2.246214e+13        5532909      M  2016-03-31T12:39:06Z   \n",
       "288    2.246214e+13        5532908      M  2016-03-31T12:39:06Z   \n",
       "56945  2.246214e+13        5688305      M  2016-05-12T07:14:55Z   \n",
       "\n",
       "             AppointmentDay  Age Neighbourhood  Scholarship  Hipertension  \\\n",
       "287    2016-04-29T00:00:00Z   43     CARATOÍRA            0             0   \n",
       "288    2016-04-29T00:00:00Z   43     CARATOÍRA            0             0   \n",
       "56945  2016-05-12T00:00:00Z   43     CARATOÍRA            0             0   \n",
       "\n",
       "       Diabetes  Alcoholism  Handcap  SMS_received No-show  \n",
       "287           0           0        0             0     Yes  \n",
       "288           0           0        0             1     Yes  \n",
       "56945         0           0        0             0      No  "
      ]
     },
     "execution_count": 21,
     "metadata": {},
     "output_type": "execute_result"
    }
   ],
   "source": [
    "# Assess Issue 11\n",
    "# check Appointment ID 5532909 has SMS_received =0 and Appointment ID 5532908 is same appoint but when SMS_received =1\n",
    "df_medical.query('PatientId == 22462135793684.0')"
   ]
  },
  {
   "cell_type": "code",
   "execution_count": 22,
   "id": "prescription-finnish",
   "metadata": {},
   "outputs": [
    {
     "data": {
      "text/html": [
       "<div>\n",
       "<style scoped>\n",
       "    .dataframe tbody tr th:only-of-type {\n",
       "        vertical-align: middle;\n",
       "    }\n",
       "\n",
       "    .dataframe tbody tr th {\n",
       "        vertical-align: top;\n",
       "    }\n",
       "\n",
       "    .dataframe thead th {\n",
       "        text-align: right;\n",
       "    }\n",
       "</style>\n",
       "<table border=\"1\" class=\"dataframe\">\n",
       "  <thead>\n",
       "    <tr style=\"text-align: right;\">\n",
       "      <th></th>\n",
       "      <th>PatientId</th>\n",
       "      <th>AppointmentID</th>\n",
       "      <th>Gender</th>\n",
       "      <th>ScheduledDay</th>\n",
       "      <th>AppointmentDay</th>\n",
       "      <th>Age</th>\n",
       "      <th>Neighbourhood</th>\n",
       "      <th>Scholarship</th>\n",
       "      <th>Hipertension</th>\n",
       "      <th>Diabetes</th>\n",
       "      <th>Alcoholism</th>\n",
       "      <th>Handcap</th>\n",
       "      <th>SMS_received</th>\n",
       "      <th>No-show</th>\n",
       "    </tr>\n",
       "  </thead>\n",
       "  <tbody>\n",
       "    <tr>\n",
       "      <th>416</th>\n",
       "      <td>3.987252e+14</td>\n",
       "      <td>5496971</td>\n",
       "      <td>F</td>\n",
       "      <td>2016-03-21T15:22:03Z</td>\n",
       "      <td>2016-04-29T00:00:00Z</td>\n",
       "      <td>32</td>\n",
       "      <td>ITARARÉ</td>\n",
       "      <td>0</td>\n",
       "      <td>0</td>\n",
       "      <td>0</td>\n",
       "      <td>0</td>\n",
       "      <td>0</td>\n",
       "      <td>1</td>\n",
       "      <td>No</td>\n",
       "    </tr>\n",
       "    <tr>\n",
       "      <th>417</th>\n",
       "      <td>3.987252e+14</td>\n",
       "      <td>5496974</td>\n",
       "      <td>F</td>\n",
       "      <td>2016-03-21T15:22:17Z</td>\n",
       "      <td>2016-04-29T00:00:00Z</td>\n",
       "      <td>32</td>\n",
       "      <td>ITARARÉ</td>\n",
       "      <td>0</td>\n",
       "      <td>0</td>\n",
       "      <td>0</td>\n",
       "      <td>0</td>\n",
       "      <td>0</td>\n",
       "      <td>0</td>\n",
       "      <td>No</td>\n",
       "    </tr>\n",
       "  </tbody>\n",
       "</table>\n",
       "</div>"
      ],
      "text/plain": [
       "        PatientId  AppointmentID Gender          ScheduledDay  \\\n",
       "416  3.987252e+14        5496971      F  2016-03-21T15:22:03Z   \n",
       "417  3.987252e+14        5496974      F  2016-03-21T15:22:17Z   \n",
       "\n",
       "           AppointmentDay  Age Neighbourhood  Scholarship  Hipertension  \\\n",
       "416  2016-04-29T00:00:00Z   32       ITARARÉ            0             0   \n",
       "417  2016-04-29T00:00:00Z   32       ITARARÉ            0             0   \n",
       "\n",
       "     Diabetes  Alcoholism  Handcap  SMS_received No-show  \n",
       "416         0           0        0             1      No  \n",
       "417         0           0        0             0      No  "
      ]
     },
     "execution_count": 22,
     "metadata": {},
     "output_type": "execute_result"
    }
   ],
   "source": [
    "# Assess Issue 11\n",
    "# case 1 : SMS is received, and patient showed on appointment date. \n",
    "df_medical.query('PatientId == 398725181975621.0')"
   ]
  },
  {
   "cell_type": "code",
   "execution_count": 23,
   "id": "joint-florida",
   "metadata": {},
   "outputs": [
    {
     "data": {
      "text/html": [
       "<div>\n",
       "<style scoped>\n",
       "    .dataframe tbody tr th:only-of-type {\n",
       "        vertical-align: middle;\n",
       "    }\n",
       "\n",
       "    .dataframe tbody tr th {\n",
       "        vertical-align: top;\n",
       "    }\n",
       "\n",
       "    .dataframe thead th {\n",
       "        text-align: right;\n",
       "    }\n",
       "</style>\n",
       "<table border=\"1\" class=\"dataframe\">\n",
       "  <thead>\n",
       "    <tr style=\"text-align: right;\">\n",
       "      <th></th>\n",
       "      <th>PatientId</th>\n",
       "      <th>AppointmentID</th>\n",
       "      <th>Gender</th>\n",
       "      <th>ScheduledDay</th>\n",
       "      <th>AppointmentDay</th>\n",
       "      <th>Age</th>\n",
       "      <th>Neighbourhood</th>\n",
       "      <th>Scholarship</th>\n",
       "      <th>Hipertension</th>\n",
       "      <th>Diabetes</th>\n",
       "      <th>Alcoholism</th>\n",
       "      <th>Handcap</th>\n",
       "      <th>SMS_received</th>\n",
       "      <th>No-show</th>\n",
       "    </tr>\n",
       "  </thead>\n",
       "  <tbody>\n",
       "    <tr>\n",
       "      <th>2477</th>\n",
       "      <td>8.712838e+14</td>\n",
       "      <td>5605719</td>\n",
       "      <td>M</td>\n",
       "      <td>2016-04-20T09:22:46Z</td>\n",
       "      <td>2016-04-29T00:00:00Z</td>\n",
       "      <td>16</td>\n",
       "      <td>ROMÃO</td>\n",
       "      <td>0</td>\n",
       "      <td>0</td>\n",
       "      <td>0</td>\n",
       "      <td>0</td>\n",
       "      <td>0</td>\n",
       "      <td>1</td>\n",
       "      <td>No</td>\n",
       "    </tr>\n",
       "    <tr>\n",
       "      <th>18666</th>\n",
       "      <td>8.712838e+14</td>\n",
       "      <td>5638382</td>\n",
       "      <td>M</td>\n",
       "      <td>2016-04-29T07:59:00Z</td>\n",
       "      <td>2016-05-10T00:00:00Z</td>\n",
       "      <td>16</td>\n",
       "      <td>ROMÃO</td>\n",
       "      <td>0</td>\n",
       "      <td>0</td>\n",
       "      <td>0</td>\n",
       "      <td>0</td>\n",
       "      <td>0</td>\n",
       "      <td>1</td>\n",
       "      <td>Yes</td>\n",
       "    </tr>\n",
       "    <tr>\n",
       "      <th>18668</th>\n",
       "      <td>8.712838e+14</td>\n",
       "      <td>5638383</td>\n",
       "      <td>M</td>\n",
       "      <td>2016-04-29T07:59:00Z</td>\n",
       "      <td>2016-05-10T00:00:00Z</td>\n",
       "      <td>16</td>\n",
       "      <td>ROMÃO</td>\n",
       "      <td>0</td>\n",
       "      <td>0</td>\n",
       "      <td>0</td>\n",
       "      <td>0</td>\n",
       "      <td>0</td>\n",
       "      <td>0</td>\n",
       "      <td>Yes</td>\n",
       "    </tr>\n",
       "    <tr>\n",
       "      <th>18776</th>\n",
       "      <td>8.712838e+14</td>\n",
       "      <td>5683204</td>\n",
       "      <td>M</td>\n",
       "      <td>2016-05-11T07:19:36Z</td>\n",
       "      <td>2016-05-11T00:00:00Z</td>\n",
       "      <td>16</td>\n",
       "      <td>ROMÃO</td>\n",
       "      <td>0</td>\n",
       "      <td>0</td>\n",
       "      <td>0</td>\n",
       "      <td>0</td>\n",
       "      <td>0</td>\n",
       "      <td>0</td>\n",
       "      <td>No</td>\n",
       "    </tr>\n",
       "    <tr>\n",
       "      <th>18838</th>\n",
       "      <td>8.712838e+14</td>\n",
       "      <td>5686621</td>\n",
       "      <td>M</td>\n",
       "      <td>2016-05-11T13:48:54Z</td>\n",
       "      <td>2016-05-20T00:00:00Z</td>\n",
       "      <td>16</td>\n",
       "      <td>ROMÃO</td>\n",
       "      <td>0</td>\n",
       "      <td>0</td>\n",
       "      <td>0</td>\n",
       "      <td>0</td>\n",
       "      <td>0</td>\n",
       "      <td>0</td>\n",
       "      <td>No</td>\n",
       "    </tr>\n",
       "    <tr>\n",
       "      <th>105354</th>\n",
       "      <td>8.712838e+14</td>\n",
       "      <td>5767796</td>\n",
       "      <td>M</td>\n",
       "      <td>2016-06-03T07:06:15Z</td>\n",
       "      <td>2016-06-03T00:00:00Z</td>\n",
       "      <td>16</td>\n",
       "      <td>ROMÃO</td>\n",
       "      <td>0</td>\n",
       "      <td>0</td>\n",
       "      <td>0</td>\n",
       "      <td>0</td>\n",
       "      <td>0</td>\n",
       "      <td>0</td>\n",
       "      <td>No</td>\n",
       "    </tr>\n",
       "    <tr>\n",
       "      <th>105373</th>\n",
       "      <td>8.712838e+14</td>\n",
       "      <td>5722730</td>\n",
       "      <td>M</td>\n",
       "      <td>2016-05-20T07:36:01Z</td>\n",
       "      <td>2016-06-02T00:00:00Z</td>\n",
       "      <td>16</td>\n",
       "      <td>ROMÃO</td>\n",
       "      <td>0</td>\n",
       "      <td>0</td>\n",
       "      <td>0</td>\n",
       "      <td>0</td>\n",
       "      <td>0</td>\n",
       "      <td>0</td>\n",
       "      <td>Yes</td>\n",
       "    </tr>\n",
       "    <tr>\n",
       "      <th>105375</th>\n",
       "      <td>8.712838e+14</td>\n",
       "      <td>5722729</td>\n",
       "      <td>M</td>\n",
       "      <td>2016-05-20T07:36:01Z</td>\n",
       "      <td>2016-06-02T00:00:00Z</td>\n",
       "      <td>16</td>\n",
       "      <td>ROMÃO</td>\n",
       "      <td>0</td>\n",
       "      <td>0</td>\n",
       "      <td>0</td>\n",
       "      <td>0</td>\n",
       "      <td>0</td>\n",
       "      <td>1</td>\n",
       "      <td>Yes</td>\n",
       "    </tr>\n",
       "  </tbody>\n",
       "</table>\n",
       "</div>"
      ],
      "text/plain": [
       "           PatientId  AppointmentID Gender          ScheduledDay  \\\n",
       "2477    8.712838e+14        5605719      M  2016-04-20T09:22:46Z   \n",
       "18666   8.712838e+14        5638382      M  2016-04-29T07:59:00Z   \n",
       "18668   8.712838e+14        5638383      M  2016-04-29T07:59:00Z   \n",
       "18776   8.712838e+14        5683204      M  2016-05-11T07:19:36Z   \n",
       "18838   8.712838e+14        5686621      M  2016-05-11T13:48:54Z   \n",
       "105354  8.712838e+14        5767796      M  2016-06-03T07:06:15Z   \n",
       "105373  8.712838e+14        5722730      M  2016-05-20T07:36:01Z   \n",
       "105375  8.712838e+14        5722729      M  2016-05-20T07:36:01Z   \n",
       "\n",
       "              AppointmentDay  Age Neighbourhood  Scholarship  Hipertension  \\\n",
       "2477    2016-04-29T00:00:00Z   16         ROMÃO            0             0   \n",
       "18666   2016-05-10T00:00:00Z   16         ROMÃO            0             0   \n",
       "18668   2016-05-10T00:00:00Z   16         ROMÃO            0             0   \n",
       "18776   2016-05-11T00:00:00Z   16         ROMÃO            0             0   \n",
       "18838   2016-05-20T00:00:00Z   16         ROMÃO            0             0   \n",
       "105354  2016-06-03T00:00:00Z   16         ROMÃO            0             0   \n",
       "105373  2016-06-02T00:00:00Z   16         ROMÃO            0             0   \n",
       "105375  2016-06-02T00:00:00Z   16         ROMÃO            0             0   \n",
       "\n",
       "        Diabetes  Alcoholism  Handcap  SMS_received No-show  \n",
       "2477           0           0        0             1      No  \n",
       "18666          0           0        0             1     Yes  \n",
       "18668          0           0        0             0     Yes  \n",
       "18776          0           0        0             0      No  \n",
       "18838          0           0        0             0      No  \n",
       "105354         0           0        0             0      No  \n",
       "105373         0           0        0             0     Yes  \n",
       "105375         0           0        0             1     Yes  "
      ]
     },
     "execution_count": 23,
     "metadata": {},
     "output_type": "execute_result"
    }
   ],
   "source": [
    "# Assess Issue 11\n",
    "# case 2 : SMS is received, and patient showed on appointment date. \n",
    "df_medical.query('PatientId == 871283776126154.0')"
   ]
  },
  {
   "cell_type": "code",
   "execution_count": 24,
   "id": "increasing-spring",
   "metadata": {},
   "outputs": [
    {
     "data": {
      "text/html": [
       "<div>\n",
       "<style scoped>\n",
       "    .dataframe tbody tr th:only-of-type {\n",
       "        vertical-align: middle;\n",
       "    }\n",
       "\n",
       "    .dataframe tbody tr th {\n",
       "        vertical-align: top;\n",
       "    }\n",
       "\n",
       "    .dataframe thead th {\n",
       "        text-align: right;\n",
       "    }\n",
       "</style>\n",
       "<table border=\"1\" class=\"dataframe\">\n",
       "  <thead>\n",
       "    <tr style=\"text-align: right;\">\n",
       "      <th></th>\n",
       "      <th>PatientId</th>\n",
       "      <th>AppointmentID</th>\n",
       "      <th>Gender</th>\n",
       "      <th>ScheduledDay</th>\n",
       "      <th>AppointmentDay</th>\n",
       "      <th>Age</th>\n",
       "      <th>Neighbourhood</th>\n",
       "      <th>Scholarship</th>\n",
       "      <th>Hipertension</th>\n",
       "      <th>Diabetes</th>\n",
       "      <th>Alcoholism</th>\n",
       "      <th>Handcap</th>\n",
       "      <th>SMS_received</th>\n",
       "      <th>No-show</th>\n",
       "    </tr>\n",
       "  </thead>\n",
       "  <tbody>\n",
       "    <tr>\n",
       "      <th>109580</th>\n",
       "      <td>7.582520e+12</td>\n",
       "      <td>5772440</td>\n",
       "      <td>M</td>\n",
       "      <td>2016-06-03T15:25:26Z</td>\n",
       "      <td>2016-06-07T00:00:00Z</td>\n",
       "      <td>52</td>\n",
       "      <td>COMDUSA</td>\n",
       "      <td>0</td>\n",
       "      <td>0</td>\n",
       "      <td>1</td>\n",
       "      <td>0</td>\n",
       "      <td>0</td>\n",
       "      <td>0</td>\n",
       "      <td>No</td>\n",
       "    </tr>\n",
       "    <tr>\n",
       "      <th>109585</th>\n",
       "      <td>7.582520e+12</td>\n",
       "      <td>5772435</td>\n",
       "      <td>M</td>\n",
       "      <td>2016-06-03T15:24:36Z</td>\n",
       "      <td>2016-06-07T00:00:00Z</td>\n",
       "      <td>52</td>\n",
       "      <td>COMDUSA</td>\n",
       "      <td>0</td>\n",
       "      <td>0</td>\n",
       "      <td>1</td>\n",
       "      <td>0</td>\n",
       "      <td>0</td>\n",
       "      <td>1</td>\n",
       "      <td>Yes</td>\n",
       "    </tr>\n",
       "  </tbody>\n",
       "</table>\n",
       "</div>"
      ],
      "text/plain": [
       "           PatientId  AppointmentID Gender          ScheduledDay  \\\n",
       "109580  7.582520e+12        5772440      M  2016-06-03T15:25:26Z   \n",
       "109585  7.582520e+12        5772435      M  2016-06-03T15:24:36Z   \n",
       "\n",
       "              AppointmentDay  Age Neighbourhood  Scholarship  Hipertension  \\\n",
       "109580  2016-06-07T00:00:00Z   52       COMDUSA            0             0   \n",
       "109585  2016-06-07T00:00:00Z   52       COMDUSA            0             0   \n",
       "\n",
       "        Diabetes  Alcoholism  Handcap  SMS_received No-show  \n",
       "109580         1           0        0             0      No  \n",
       "109585         1           0        0             1     Yes  "
      ]
     },
     "execution_count": 24,
     "metadata": {},
     "output_type": "execute_result"
    }
   ],
   "source": [
    "# Assess Issue 11\n",
    "# case 3 : SMS is not received, and patient showed on appointment date. \n",
    "df_medical.query('PatientId == 7582519769766.0')"
   ]
  },
  {
   "cell_type": "markdown",
   "id": "atomic-sword",
   "metadata": {},
   "source": [
    "## Clean Data"
   ]
  },
  {
   "cell_type": "markdown",
   "id": "continent-bargain",
   "metadata": {},
   "source": [
    "Quality Issue 1: rename all dataset columns. <br>\n",
    "Quality Issue 2: Patient Id must be converted from float to int, to remove trailing zeros, then to string to preserve accuracy.<br>\n",
    "Quality Issue 3: Appointment Id is dropped due to inaccuracy of appointment id generation numbers.<br>\n",
    "Quality Issue 4: convert Scheduled day and Appointment day to datetime, and truncate timestamp.<br>\n",
    "Quality Issue 5: Age contains unrealistic data which prevents us from interpreting any further information about no shows people, so column is dropped.<br>\n",
    "Quality Issue 6: Scholarship, Hypertension, Diabetes, Alcoholism, Handicap are converted to boolean variables.<br>\n",
    "Quality Issue 7: No show converted to boolean for consistency of dataset structure.<br>\n",
    "Quality Issue 8: drop duplicates in dataset to preserve unique data only.<br>\n",
    "Quality Issue 9: Add days_diff column, to compute difference in days between scheduled and appointment dates.<br>\n",
    "Quality Issue 10: drop data which has scheduled date greater than appointment date.<br>\n",
    "Quality Issue 11: drop rows with duplicate scheduled and appointment dates having SMS_received = 0.<br>\n",
    "Quality Issue 12: overlapping dates resolved but dropping rows with days_diff=0. These patients do have more than one row duplicated on patient_id and appointment date. So, we need the row with most accurate info."
   ]
  },
  {
   "cell_type": "markdown",
   "id": "incorporated-distributor",
   "metadata": {},
   "source": [
    "### Make a copy of original data"
   ]
  },
  {
   "cell_type": "code",
   "execution_count": 25,
   "id": "considered-custody",
   "metadata": {},
   "outputs": [],
   "source": [
    "df_medical_copy = df_medical.copy()"
   ]
  },
  {
   "cell_type": "markdown",
   "id": "satisfied-tourism",
   "metadata": {},
   "source": [
    "### Define: \n",
    "Quality Issue 1: rename all dataset columns."
   ]
  },
  {
   "cell_type": "markdown",
   "id": "taken-desire",
   "metadata": {},
   "source": [
    "### Code:"
   ]
  },
  {
   "cell_type": "code",
   "execution_count": 26,
   "id": "opened-harris",
   "metadata": {},
   "outputs": [],
   "source": [
    "df_medical_copy.rename(columns={'PatientId': 'patient_id', \n",
    "                           'AppointmentID':'appointment_id', \n",
    "                           'Gender':'gender',\n",
    "                           'ScheduledDay': 'scheduled_date',\n",
    "                           'AppointmentDay': 'appointment_date',\n",
    "                           'Age': 'age',\n",
    "                           'Neighbourhood':'neighbourhood',\n",
    "                           'Scholarship':'scholarship',\n",
    "                           'Hipertension':'hypertension',          \n",
    "                           'Diabetes':'diabetes',\n",
    "                           'Alcoholism': 'alcoholism',\n",
    "                           'Handcap':'handicap',\n",
    "                           'No-show':'no_show'},inplace=True)"
   ]
  },
  {
   "cell_type": "markdown",
   "id": "different-coffee",
   "metadata": {},
   "source": [
    "### Test:"
   ]
  },
  {
   "cell_type": "code",
   "execution_count": 27,
   "id": "missing-explosion",
   "metadata": {},
   "outputs": [
    {
     "data": {
      "text/plain": [
       "Index(['patient_id', 'appointment_id', 'gender', 'scheduled_date',\n",
       "       'appointment_date', 'age', 'neighbourhood', 'scholarship',\n",
       "       'hypertension', 'diabetes', 'alcoholism', 'handicap', 'SMS_received',\n",
       "       'no_show'],\n",
       "      dtype='object')"
      ]
     },
     "execution_count": 27,
     "metadata": {},
     "output_type": "execute_result"
    }
   ],
   "source": [
    "df_medical_copy.columns"
   ]
  },
  {
   "cell_type": "markdown",
   "id": "legitimate-coalition",
   "metadata": {},
   "source": [
    "### Define:\n",
    "Quality 2 Issue: Patient Id must be converted from float to int, to remove trailing zeros, then to string to preserve accuracy"
   ]
  },
  {
   "cell_type": "markdown",
   "id": "promotional-possession",
   "metadata": {},
   "source": [
    "### Code:"
   ]
  },
  {
   "cell_type": "code",
   "execution_count": 28,
   "id": "exciting-transaction",
   "metadata": {},
   "outputs": [],
   "source": [
    "# convert to int64\n",
    "df_medical_copy.patient_id = df_medical_copy.patient_id.astype(np.int64)\n",
    "# convert from int64 to string\n",
    "df_medical_copy.patient_id = df_medical_copy.patient_id.astype(str)"
   ]
  },
  {
   "cell_type": "markdown",
   "id": "alternate-times",
   "metadata": {},
   "source": [
    "### Test:"
   ]
  },
  {
   "cell_type": "code",
   "execution_count": 29,
   "id": "sixth-packaging",
   "metadata": {},
   "outputs": [
    {
     "data": {
      "text/plain": [
       "'object'"
      ]
     },
     "execution_count": 29,
     "metadata": {},
     "output_type": "execute_result"
    }
   ],
   "source": [
    "df_medical_copy.patient_id.dtype.name"
   ]
  },
  {
   "cell_type": "markdown",
   "id": "difficult-ratio",
   "metadata": {},
   "source": [
    "### Define:\n",
    "Quality Issue 3: Appointment Id is dropped due to inaccuracy of appointment id generation numbers."
   ]
  },
  {
   "cell_type": "markdown",
   "id": "prospective-continent",
   "metadata": {},
   "source": [
    "### Code:"
   ]
  },
  {
   "cell_type": "code",
   "execution_count": 30,
   "id": "related-onion",
   "metadata": {},
   "outputs": [],
   "source": [
    "df_medical_copy.drop(columns={'appointment_id'}, inplace=True)"
   ]
  },
  {
   "cell_type": "markdown",
   "id": "parental-copying",
   "metadata": {},
   "source": [
    "### Test:"
   ]
  },
  {
   "cell_type": "code",
   "execution_count": 31,
   "id": "green-jewelry",
   "metadata": {},
   "outputs": [
    {
     "data": {
      "text/plain": [
       "Index(['patient_id', 'gender', 'scheduled_date', 'appointment_date', 'age',\n",
       "       'neighbourhood', 'scholarship', 'hypertension', 'diabetes',\n",
       "       'alcoholism', 'handicap', 'SMS_received', 'no_show'],\n",
       "      dtype='object')"
      ]
     },
     "execution_count": 31,
     "metadata": {},
     "output_type": "execute_result"
    }
   ],
   "source": [
    "df_medical_copy.columns"
   ]
  },
  {
   "cell_type": "markdown",
   "id": "floating-seeker",
   "metadata": {},
   "source": [
    "### Define:\n",
    "Quality Issue 4a: convert Scheduled day to datetime  [[2]](#ref_links2)"
   ]
  },
  {
   "cell_type": "markdown",
   "id": "composed-police",
   "metadata": {},
   "source": [
    "### Code:"
   ]
  },
  {
   "cell_type": "code",
   "execution_count": 32,
   "id": "turned-highway",
   "metadata": {},
   "outputs": [],
   "source": [
    "# convert string to date to get data in accurate format\n",
    "df_medical_copy.scheduled_date = pd.to_datetime(df_medical_copy.scheduled_date)\n",
    "# Truncate timestamp; when timestamp is truncated, column datatype automatically changes to object from datetime\n",
    "df_medical_copy.scheduled_date = df_medical_copy.scheduled_date.dt.date\n",
    "# restore datetime datatype \n",
    "df_medical_copy.scheduled_date = pd.to_datetime(df_medical_copy.scheduled_date)"
   ]
  },
  {
   "cell_type": "markdown",
   "id": "annual-university",
   "metadata": {},
   "source": [
    "### Test:"
   ]
  },
  {
   "cell_type": "code",
   "execution_count": 33,
   "id": "empirical-cement",
   "metadata": {},
   "outputs": [
    {
     "data": {
      "text/plain": [
       "'datetime64[ns]'"
      ]
     },
     "execution_count": 33,
     "metadata": {},
     "output_type": "execute_result"
    }
   ],
   "source": [
    "df_medical_copy.scheduled_date.dtype.name"
   ]
  },
  {
   "cell_type": "code",
   "execution_count": 34,
   "id": "about-siemens",
   "metadata": {},
   "outputs": [
    {
     "data": {
      "text/html": [
       "<div>\n",
       "<style scoped>\n",
       "    .dataframe tbody tr th:only-of-type {\n",
       "        vertical-align: middle;\n",
       "    }\n",
       "\n",
       "    .dataframe tbody tr th {\n",
       "        vertical-align: top;\n",
       "    }\n",
       "\n",
       "    .dataframe thead th {\n",
       "        text-align: right;\n",
       "    }\n",
       "</style>\n",
       "<table border=\"1\" class=\"dataframe\">\n",
       "  <thead>\n",
       "    <tr style=\"text-align: right;\">\n",
       "      <th></th>\n",
       "      <th>scheduled_date</th>\n",
       "    </tr>\n",
       "  </thead>\n",
       "  <tbody>\n",
       "    <tr>\n",
       "      <th>0</th>\n",
       "      <td>2016-04-29</td>\n",
       "    </tr>\n",
       "    <tr>\n",
       "      <th>1</th>\n",
       "      <td>2016-04-29</td>\n",
       "    </tr>\n",
       "    <tr>\n",
       "      <th>2</th>\n",
       "      <td>2016-04-29</td>\n",
       "    </tr>\n",
       "    <tr>\n",
       "      <th>3</th>\n",
       "      <td>2016-04-29</td>\n",
       "    </tr>\n",
       "    <tr>\n",
       "      <th>4</th>\n",
       "      <td>2016-04-29</td>\n",
       "    </tr>\n",
       "    <tr>\n",
       "      <th>5</th>\n",
       "      <td>2016-04-27</td>\n",
       "    </tr>\n",
       "    <tr>\n",
       "      <th>6</th>\n",
       "      <td>2016-04-27</td>\n",
       "    </tr>\n",
       "    <tr>\n",
       "      <th>7</th>\n",
       "      <td>2016-04-27</td>\n",
       "    </tr>\n",
       "    <tr>\n",
       "      <th>8</th>\n",
       "      <td>2016-04-29</td>\n",
       "    </tr>\n",
       "    <tr>\n",
       "      <th>9</th>\n",
       "      <td>2016-04-27</td>\n",
       "    </tr>\n",
       "    <tr>\n",
       "      <th>10</th>\n",
       "      <td>2016-04-27</td>\n",
       "    </tr>\n",
       "    <tr>\n",
       "      <th>11</th>\n",
       "      <td>2016-04-26</td>\n",
       "    </tr>\n",
       "    <tr>\n",
       "      <th>12</th>\n",
       "      <td>2016-04-28</td>\n",
       "    </tr>\n",
       "    <tr>\n",
       "      <th>13</th>\n",
       "      <td>2016-04-28</td>\n",
       "    </tr>\n",
       "    <tr>\n",
       "      <th>14</th>\n",
       "      <td>2016-04-28</td>\n",
       "    </tr>\n",
       "    <tr>\n",
       "      <th>15</th>\n",
       "      <td>2016-04-26</td>\n",
       "    </tr>\n",
       "    <tr>\n",
       "      <th>16</th>\n",
       "      <td>2016-04-28</td>\n",
       "    </tr>\n",
       "    <tr>\n",
       "      <th>17</th>\n",
       "      <td>2016-04-28</td>\n",
       "    </tr>\n",
       "    <tr>\n",
       "      <th>18</th>\n",
       "      <td>2016-04-26</td>\n",
       "    </tr>\n",
       "    <tr>\n",
       "      <th>19</th>\n",
       "      <td>2016-04-29</td>\n",
       "    </tr>\n",
       "    <tr>\n",
       "      <th>20</th>\n",
       "      <td>2016-04-27</td>\n",
       "    </tr>\n",
       "    <tr>\n",
       "      <th>21</th>\n",
       "      <td>2016-04-27</td>\n",
       "    </tr>\n",
       "    <tr>\n",
       "      <th>22</th>\n",
       "      <td>2016-04-25</td>\n",
       "    </tr>\n",
       "    <tr>\n",
       "      <th>23</th>\n",
       "      <td>2016-04-28</td>\n",
       "    </tr>\n",
       "    <tr>\n",
       "      <th>24</th>\n",
       "      <td>2016-04-29</td>\n",
       "    </tr>\n",
       "    <tr>\n",
       "      <th>25</th>\n",
       "      <td>2016-04-26</td>\n",
       "    </tr>\n",
       "    <tr>\n",
       "      <th>26</th>\n",
       "      <td>2016-04-29</td>\n",
       "    </tr>\n",
       "    <tr>\n",
       "      <th>27</th>\n",
       "      <td>2016-04-27</td>\n",
       "    </tr>\n",
       "    <tr>\n",
       "      <th>28</th>\n",
       "      <td>2016-04-29</td>\n",
       "    </tr>\n",
       "    <tr>\n",
       "      <th>29</th>\n",
       "      <td>2016-04-29</td>\n",
       "    </tr>\n",
       "    <tr>\n",
       "      <th>...</th>\n",
       "      <td>...</td>\n",
       "    </tr>\n",
       "    <tr>\n",
       "      <th>110497</th>\n",
       "      <td>2016-06-01</td>\n",
       "    </tr>\n",
       "    <tr>\n",
       "      <th>110498</th>\n",
       "      <td>2016-06-08</td>\n",
       "    </tr>\n",
       "    <tr>\n",
       "      <th>110499</th>\n",
       "      <td>2016-06-01</td>\n",
       "    </tr>\n",
       "    <tr>\n",
       "      <th>110500</th>\n",
       "      <td>2016-06-08</td>\n",
       "    </tr>\n",
       "    <tr>\n",
       "      <th>110501</th>\n",
       "      <td>2016-06-01</td>\n",
       "    </tr>\n",
       "    <tr>\n",
       "      <th>110502</th>\n",
       "      <td>2016-06-08</td>\n",
       "    </tr>\n",
       "    <tr>\n",
       "      <th>110503</th>\n",
       "      <td>2016-06-01</td>\n",
       "    </tr>\n",
       "    <tr>\n",
       "      <th>110504</th>\n",
       "      <td>2016-06-08</td>\n",
       "    </tr>\n",
       "    <tr>\n",
       "      <th>110505</th>\n",
       "      <td>2016-06-01</td>\n",
       "    </tr>\n",
       "    <tr>\n",
       "      <th>110506</th>\n",
       "      <td>2016-06-01</td>\n",
       "    </tr>\n",
       "    <tr>\n",
       "      <th>110507</th>\n",
       "      <td>2016-06-08</td>\n",
       "    </tr>\n",
       "    <tr>\n",
       "      <th>110508</th>\n",
       "      <td>2016-06-01</td>\n",
       "    </tr>\n",
       "    <tr>\n",
       "      <th>110509</th>\n",
       "      <td>2016-06-08</td>\n",
       "    </tr>\n",
       "    <tr>\n",
       "      <th>110510</th>\n",
       "      <td>2016-06-01</td>\n",
       "    </tr>\n",
       "    <tr>\n",
       "      <th>110511</th>\n",
       "      <td>2016-06-08</td>\n",
       "    </tr>\n",
       "    <tr>\n",
       "      <th>110512</th>\n",
       "      <td>2016-06-08</td>\n",
       "    </tr>\n",
       "    <tr>\n",
       "      <th>110513</th>\n",
       "      <td>2016-06-08</td>\n",
       "    </tr>\n",
       "    <tr>\n",
       "      <th>110514</th>\n",
       "      <td>2016-06-08</td>\n",
       "    </tr>\n",
       "    <tr>\n",
       "      <th>110515</th>\n",
       "      <td>2016-06-06</td>\n",
       "    </tr>\n",
       "    <tr>\n",
       "      <th>110516</th>\n",
       "      <td>2016-06-07</td>\n",
       "    </tr>\n",
       "    <tr>\n",
       "      <th>110517</th>\n",
       "      <td>2016-06-07</td>\n",
       "    </tr>\n",
       "    <tr>\n",
       "      <th>110518</th>\n",
       "      <td>2016-04-27</td>\n",
       "    </tr>\n",
       "    <tr>\n",
       "      <th>110519</th>\n",
       "      <td>2016-04-27</td>\n",
       "    </tr>\n",
       "    <tr>\n",
       "      <th>110520</th>\n",
       "      <td>2016-05-03</td>\n",
       "    </tr>\n",
       "    <tr>\n",
       "      <th>110521</th>\n",
       "      <td>2016-05-03</td>\n",
       "    </tr>\n",
       "    <tr>\n",
       "      <th>110522</th>\n",
       "      <td>2016-05-03</td>\n",
       "    </tr>\n",
       "    <tr>\n",
       "      <th>110523</th>\n",
       "      <td>2016-05-03</td>\n",
       "    </tr>\n",
       "    <tr>\n",
       "      <th>110524</th>\n",
       "      <td>2016-04-27</td>\n",
       "    </tr>\n",
       "    <tr>\n",
       "      <th>110525</th>\n",
       "      <td>2016-04-27</td>\n",
       "    </tr>\n",
       "    <tr>\n",
       "      <th>110526</th>\n",
       "      <td>2016-04-27</td>\n",
       "    </tr>\n",
       "  </tbody>\n",
       "</table>\n",
       "<p>110527 rows × 1 columns</p>\n",
       "</div>"
      ],
      "text/plain": [
       "       scheduled_date\n",
       "0          2016-04-29\n",
       "1          2016-04-29\n",
       "2          2016-04-29\n",
       "3          2016-04-29\n",
       "4          2016-04-29\n",
       "5          2016-04-27\n",
       "6          2016-04-27\n",
       "7          2016-04-27\n",
       "8          2016-04-29\n",
       "9          2016-04-27\n",
       "10         2016-04-27\n",
       "11         2016-04-26\n",
       "12         2016-04-28\n",
       "13         2016-04-28\n",
       "14         2016-04-28\n",
       "15         2016-04-26\n",
       "16         2016-04-28\n",
       "17         2016-04-28\n",
       "18         2016-04-26\n",
       "19         2016-04-29\n",
       "20         2016-04-27\n",
       "21         2016-04-27\n",
       "22         2016-04-25\n",
       "23         2016-04-28\n",
       "24         2016-04-29\n",
       "25         2016-04-26\n",
       "26         2016-04-29\n",
       "27         2016-04-27\n",
       "28         2016-04-29\n",
       "29         2016-04-29\n",
       "...               ...\n",
       "110497     2016-06-01\n",
       "110498     2016-06-08\n",
       "110499     2016-06-01\n",
       "110500     2016-06-08\n",
       "110501     2016-06-01\n",
       "110502     2016-06-08\n",
       "110503     2016-06-01\n",
       "110504     2016-06-08\n",
       "110505     2016-06-01\n",
       "110506     2016-06-01\n",
       "110507     2016-06-08\n",
       "110508     2016-06-01\n",
       "110509     2016-06-08\n",
       "110510     2016-06-01\n",
       "110511     2016-06-08\n",
       "110512     2016-06-08\n",
       "110513     2016-06-08\n",
       "110514     2016-06-08\n",
       "110515     2016-06-06\n",
       "110516     2016-06-07\n",
       "110517     2016-06-07\n",
       "110518     2016-04-27\n",
       "110519     2016-04-27\n",
       "110520     2016-05-03\n",
       "110521     2016-05-03\n",
       "110522     2016-05-03\n",
       "110523     2016-05-03\n",
       "110524     2016-04-27\n",
       "110525     2016-04-27\n",
       "110526     2016-04-27\n",
       "\n",
       "[110527 rows x 1 columns]"
      ]
     },
     "execution_count": 34,
     "metadata": {},
     "output_type": "execute_result"
    }
   ],
   "source": [
    "df_medical_copy.scheduled_date.to_frame()"
   ]
  },
  {
   "cell_type": "markdown",
   "id": "persistent-bargain",
   "metadata": {},
   "source": [
    "### Define:\n",
    "Quality Issue 4b: convert appointment day to datetime  [[2]](#ref_links2)"
   ]
  },
  {
   "cell_type": "markdown",
   "id": "trying-labor",
   "metadata": {},
   "source": [
    "### Code:"
   ]
  },
  {
   "cell_type": "code",
   "execution_count": 35,
   "id": "square-employer",
   "metadata": {},
   "outputs": [],
   "source": [
    "# appointment date in data has no timestamp.Column just has day which is converted easily to datetime\n",
    "df_medical_copy.appointment_date = pd.to_datetime(df_medical_copy.appointment_date)"
   ]
  },
  {
   "cell_type": "markdown",
   "id": "geographic-penalty",
   "metadata": {},
   "source": [
    "### Test:"
   ]
  },
  {
   "cell_type": "code",
   "execution_count": 36,
   "id": "universal-teddy",
   "metadata": {},
   "outputs": [
    {
     "data": {
      "text/plain": [
       "'datetime64[ns]'"
      ]
     },
     "execution_count": 36,
     "metadata": {},
     "output_type": "execute_result"
    }
   ],
   "source": [
    "df_medical_copy.appointment_date.dtype.name"
   ]
  },
  {
   "cell_type": "code",
   "execution_count": 37,
   "id": "japanese-grave",
   "metadata": {},
   "outputs": [
    {
     "data": {
      "text/html": [
       "<div>\n",
       "<style scoped>\n",
       "    .dataframe tbody tr th:only-of-type {\n",
       "        vertical-align: middle;\n",
       "    }\n",
       "\n",
       "    .dataframe tbody tr th {\n",
       "        vertical-align: top;\n",
       "    }\n",
       "\n",
       "    .dataframe thead th {\n",
       "        text-align: right;\n",
       "    }\n",
       "</style>\n",
       "<table border=\"1\" class=\"dataframe\">\n",
       "  <thead>\n",
       "    <tr style=\"text-align: right;\">\n",
       "      <th></th>\n",
       "      <th>appointment_date</th>\n",
       "    </tr>\n",
       "  </thead>\n",
       "  <tbody>\n",
       "    <tr>\n",
       "      <th>0</th>\n",
       "      <td>2016-04-29</td>\n",
       "    </tr>\n",
       "    <tr>\n",
       "      <th>1</th>\n",
       "      <td>2016-04-29</td>\n",
       "    </tr>\n",
       "    <tr>\n",
       "      <th>2</th>\n",
       "      <td>2016-04-29</td>\n",
       "    </tr>\n",
       "    <tr>\n",
       "      <th>3</th>\n",
       "      <td>2016-04-29</td>\n",
       "    </tr>\n",
       "    <tr>\n",
       "      <th>4</th>\n",
       "      <td>2016-04-29</td>\n",
       "    </tr>\n",
       "    <tr>\n",
       "      <th>5</th>\n",
       "      <td>2016-04-29</td>\n",
       "    </tr>\n",
       "    <tr>\n",
       "      <th>6</th>\n",
       "      <td>2016-04-29</td>\n",
       "    </tr>\n",
       "    <tr>\n",
       "      <th>7</th>\n",
       "      <td>2016-04-29</td>\n",
       "    </tr>\n",
       "    <tr>\n",
       "      <th>8</th>\n",
       "      <td>2016-04-29</td>\n",
       "    </tr>\n",
       "    <tr>\n",
       "      <th>9</th>\n",
       "      <td>2016-04-29</td>\n",
       "    </tr>\n",
       "    <tr>\n",
       "      <th>10</th>\n",
       "      <td>2016-04-29</td>\n",
       "    </tr>\n",
       "    <tr>\n",
       "      <th>11</th>\n",
       "      <td>2016-04-29</td>\n",
       "    </tr>\n",
       "    <tr>\n",
       "      <th>12</th>\n",
       "      <td>2016-04-29</td>\n",
       "    </tr>\n",
       "    <tr>\n",
       "      <th>13</th>\n",
       "      <td>2016-04-29</td>\n",
       "    </tr>\n",
       "    <tr>\n",
       "      <th>14</th>\n",
       "      <td>2016-04-29</td>\n",
       "    </tr>\n",
       "    <tr>\n",
       "      <th>15</th>\n",
       "      <td>2016-04-29</td>\n",
       "    </tr>\n",
       "    <tr>\n",
       "      <th>16</th>\n",
       "      <td>2016-04-29</td>\n",
       "    </tr>\n",
       "    <tr>\n",
       "      <th>17</th>\n",
       "      <td>2016-04-29</td>\n",
       "    </tr>\n",
       "    <tr>\n",
       "      <th>18</th>\n",
       "      <td>2016-04-29</td>\n",
       "    </tr>\n",
       "    <tr>\n",
       "      <th>19</th>\n",
       "      <td>2016-04-29</td>\n",
       "    </tr>\n",
       "    <tr>\n",
       "      <th>20</th>\n",
       "      <td>2016-04-29</td>\n",
       "    </tr>\n",
       "    <tr>\n",
       "      <th>21</th>\n",
       "      <td>2016-04-29</td>\n",
       "    </tr>\n",
       "    <tr>\n",
       "      <th>22</th>\n",
       "      <td>2016-04-29</td>\n",
       "    </tr>\n",
       "    <tr>\n",
       "      <th>23</th>\n",
       "      <td>2016-04-29</td>\n",
       "    </tr>\n",
       "    <tr>\n",
       "      <th>24</th>\n",
       "      <td>2016-04-29</td>\n",
       "    </tr>\n",
       "    <tr>\n",
       "      <th>25</th>\n",
       "      <td>2016-04-29</td>\n",
       "    </tr>\n",
       "    <tr>\n",
       "      <th>26</th>\n",
       "      <td>2016-04-29</td>\n",
       "    </tr>\n",
       "    <tr>\n",
       "      <th>27</th>\n",
       "      <td>2016-04-29</td>\n",
       "    </tr>\n",
       "    <tr>\n",
       "      <th>28</th>\n",
       "      <td>2016-04-29</td>\n",
       "    </tr>\n",
       "    <tr>\n",
       "      <th>29</th>\n",
       "      <td>2016-04-29</td>\n",
       "    </tr>\n",
       "    <tr>\n",
       "      <th>...</th>\n",
       "      <td>...</td>\n",
       "    </tr>\n",
       "    <tr>\n",
       "      <th>110497</th>\n",
       "      <td>2016-06-01</td>\n",
       "    </tr>\n",
       "    <tr>\n",
       "      <th>110498</th>\n",
       "      <td>2016-06-08</td>\n",
       "    </tr>\n",
       "    <tr>\n",
       "      <th>110499</th>\n",
       "      <td>2016-06-01</td>\n",
       "    </tr>\n",
       "    <tr>\n",
       "      <th>110500</th>\n",
       "      <td>2016-06-08</td>\n",
       "    </tr>\n",
       "    <tr>\n",
       "      <th>110501</th>\n",
       "      <td>2016-06-01</td>\n",
       "    </tr>\n",
       "    <tr>\n",
       "      <th>110502</th>\n",
       "      <td>2016-06-08</td>\n",
       "    </tr>\n",
       "    <tr>\n",
       "      <th>110503</th>\n",
       "      <td>2016-06-01</td>\n",
       "    </tr>\n",
       "    <tr>\n",
       "      <th>110504</th>\n",
       "      <td>2016-06-08</td>\n",
       "    </tr>\n",
       "    <tr>\n",
       "      <th>110505</th>\n",
       "      <td>2016-06-01</td>\n",
       "    </tr>\n",
       "    <tr>\n",
       "      <th>110506</th>\n",
       "      <td>2016-06-01</td>\n",
       "    </tr>\n",
       "    <tr>\n",
       "      <th>110507</th>\n",
       "      <td>2016-06-08</td>\n",
       "    </tr>\n",
       "    <tr>\n",
       "      <th>110508</th>\n",
       "      <td>2016-06-01</td>\n",
       "    </tr>\n",
       "    <tr>\n",
       "      <th>110509</th>\n",
       "      <td>2016-06-08</td>\n",
       "    </tr>\n",
       "    <tr>\n",
       "      <th>110510</th>\n",
       "      <td>2016-06-01</td>\n",
       "    </tr>\n",
       "    <tr>\n",
       "      <th>110511</th>\n",
       "      <td>2016-06-08</td>\n",
       "    </tr>\n",
       "    <tr>\n",
       "      <th>110512</th>\n",
       "      <td>2016-06-08</td>\n",
       "    </tr>\n",
       "    <tr>\n",
       "      <th>110513</th>\n",
       "      <td>2016-06-08</td>\n",
       "    </tr>\n",
       "    <tr>\n",
       "      <th>110514</th>\n",
       "      <td>2016-06-08</td>\n",
       "    </tr>\n",
       "    <tr>\n",
       "      <th>110515</th>\n",
       "      <td>2016-06-08</td>\n",
       "    </tr>\n",
       "    <tr>\n",
       "      <th>110516</th>\n",
       "      <td>2016-06-08</td>\n",
       "    </tr>\n",
       "    <tr>\n",
       "      <th>110517</th>\n",
       "      <td>2016-06-07</td>\n",
       "    </tr>\n",
       "    <tr>\n",
       "      <th>110518</th>\n",
       "      <td>2016-06-07</td>\n",
       "    </tr>\n",
       "    <tr>\n",
       "      <th>110519</th>\n",
       "      <td>2016-06-07</td>\n",
       "    </tr>\n",
       "    <tr>\n",
       "      <th>110520</th>\n",
       "      <td>2016-06-07</td>\n",
       "    </tr>\n",
       "    <tr>\n",
       "      <th>110521</th>\n",
       "      <td>2016-06-07</td>\n",
       "    </tr>\n",
       "    <tr>\n",
       "      <th>110522</th>\n",
       "      <td>2016-06-07</td>\n",
       "    </tr>\n",
       "    <tr>\n",
       "      <th>110523</th>\n",
       "      <td>2016-06-07</td>\n",
       "    </tr>\n",
       "    <tr>\n",
       "      <th>110524</th>\n",
       "      <td>2016-06-07</td>\n",
       "    </tr>\n",
       "    <tr>\n",
       "      <th>110525</th>\n",
       "      <td>2016-06-07</td>\n",
       "    </tr>\n",
       "    <tr>\n",
       "      <th>110526</th>\n",
       "      <td>2016-06-07</td>\n",
       "    </tr>\n",
       "  </tbody>\n",
       "</table>\n",
       "<p>110527 rows × 1 columns</p>\n",
       "</div>"
      ],
      "text/plain": [
       "       appointment_date\n",
       "0            2016-04-29\n",
       "1            2016-04-29\n",
       "2            2016-04-29\n",
       "3            2016-04-29\n",
       "4            2016-04-29\n",
       "5            2016-04-29\n",
       "6            2016-04-29\n",
       "7            2016-04-29\n",
       "8            2016-04-29\n",
       "9            2016-04-29\n",
       "10           2016-04-29\n",
       "11           2016-04-29\n",
       "12           2016-04-29\n",
       "13           2016-04-29\n",
       "14           2016-04-29\n",
       "15           2016-04-29\n",
       "16           2016-04-29\n",
       "17           2016-04-29\n",
       "18           2016-04-29\n",
       "19           2016-04-29\n",
       "20           2016-04-29\n",
       "21           2016-04-29\n",
       "22           2016-04-29\n",
       "23           2016-04-29\n",
       "24           2016-04-29\n",
       "25           2016-04-29\n",
       "26           2016-04-29\n",
       "27           2016-04-29\n",
       "28           2016-04-29\n",
       "29           2016-04-29\n",
       "...                 ...\n",
       "110497       2016-06-01\n",
       "110498       2016-06-08\n",
       "110499       2016-06-01\n",
       "110500       2016-06-08\n",
       "110501       2016-06-01\n",
       "110502       2016-06-08\n",
       "110503       2016-06-01\n",
       "110504       2016-06-08\n",
       "110505       2016-06-01\n",
       "110506       2016-06-01\n",
       "110507       2016-06-08\n",
       "110508       2016-06-01\n",
       "110509       2016-06-08\n",
       "110510       2016-06-01\n",
       "110511       2016-06-08\n",
       "110512       2016-06-08\n",
       "110513       2016-06-08\n",
       "110514       2016-06-08\n",
       "110515       2016-06-08\n",
       "110516       2016-06-08\n",
       "110517       2016-06-07\n",
       "110518       2016-06-07\n",
       "110519       2016-06-07\n",
       "110520       2016-06-07\n",
       "110521       2016-06-07\n",
       "110522       2016-06-07\n",
       "110523       2016-06-07\n",
       "110524       2016-06-07\n",
       "110525       2016-06-07\n",
       "110526       2016-06-07\n",
       "\n",
       "[110527 rows x 1 columns]"
      ]
     },
     "execution_count": 37,
     "metadata": {},
     "output_type": "execute_result"
    }
   ],
   "source": [
    "df_medical_copy.appointment_date.to_frame()"
   ]
  },
  {
   "cell_type": "markdown",
   "id": "active-sword",
   "metadata": {},
   "source": [
    "### Define: \n",
    "Quality Issue 5: Age contains unrealistic data which prevents us from interpreting any further information about no shows people, so column is dropped."
   ]
  },
  {
   "cell_type": "markdown",
   "id": "secure-hearts",
   "metadata": {},
   "source": [
    "### Code:"
   ]
  },
  {
   "cell_type": "code",
   "execution_count": 38,
   "id": "continued-timothy",
   "metadata": {},
   "outputs": [],
   "source": [
    "df_medical_copy.drop(columns={'age'}, inplace=True)"
   ]
  },
  {
   "cell_type": "markdown",
   "id": "statutory-patient",
   "metadata": {},
   "source": [
    "### Test:"
   ]
  },
  {
   "cell_type": "code",
   "execution_count": 39,
   "id": "unavailable-saskatchewan",
   "metadata": {},
   "outputs": [
    {
     "data": {
      "text/plain": [
       "Index(['patient_id', 'gender', 'scheduled_date', 'appointment_date',\n",
       "       'neighbourhood', 'scholarship', 'hypertension', 'diabetes',\n",
       "       'alcoholism', 'handicap', 'SMS_received', 'no_show'],\n",
       "      dtype='object')"
      ]
     },
     "execution_count": 39,
     "metadata": {},
     "output_type": "execute_result"
    }
   ],
   "source": [
    "df_medical_copy.columns"
   ]
  },
  {
   "cell_type": "markdown",
   "id": "suited-hierarchy",
   "metadata": {},
   "source": [
    "### Define:\n",
    "Quality Issue 6: Scholarship, Hypertension, Diabetes, Alcoholism, Handicap are converted to boolean variables."
   ]
  },
  {
   "cell_type": "markdown",
   "id": "eligible-cabinet",
   "metadata": {},
   "source": [
    "### Code:"
   ]
  },
  {
   "cell_type": "code",
   "execution_count": 40,
   "id": "hindu-emerald",
   "metadata": {},
   "outputs": [],
   "source": [
    "#1 convert all variables or columns to bool\n",
    "df_medical_copy.scholarship = df_medical_copy.scholarship.astype(bool)\n",
    "df_medical_copy.hypertension = df_medical_copy.hypertension.astype(bool)\n",
    "df_medical_copy.diabetes = df_medical_copy.diabetes.astype(bool)\n",
    "df_medical_copy.alcoholism = df_medical_copy.alcoholism.astype(bool)\n",
    "df_medical_copy.handicap = df_medical_copy.handicap.astype(bool)"
   ]
  },
  {
   "cell_type": "markdown",
   "id": "agricultural-memorabilia",
   "metadata": {},
   "source": [
    "### Test:"
   ]
  },
  {
   "cell_type": "code",
   "execution_count": 41,
   "id": "neural-gilbert",
   "metadata": {},
   "outputs": [
    {
     "name": "stdout",
     "output_type": "stream",
     "text": [
      "<class 'pandas.core.frame.DataFrame'>\n",
      "RangeIndex: 110527 entries, 0 to 110526\n",
      "Data columns (total 12 columns):\n",
      "patient_id          110527 non-null object\n",
      "gender              110527 non-null object\n",
      "scheduled_date      110527 non-null datetime64[ns]\n",
      "appointment_date    110527 non-null datetime64[ns]\n",
      "neighbourhood       110527 non-null object\n",
      "scholarship         110527 non-null bool\n",
      "hypertension        110527 non-null bool\n",
      "diabetes            110527 non-null bool\n",
      "alcoholism          110527 non-null bool\n",
      "handicap            110527 non-null bool\n",
      "SMS_received        110527 non-null int64\n",
      "no_show             110527 non-null object\n",
      "dtypes: bool(5), datetime64[ns](2), int64(1), object(4)\n",
      "memory usage: 6.4+ MB\n"
     ]
    }
   ],
   "source": [
    "df_medical_copy.info()"
   ]
  },
  {
   "cell_type": "markdown",
   "id": "mexican-karen",
   "metadata": {},
   "source": [
    "<em>Scholarship:</em>"
   ]
  },
  {
   "cell_type": "code",
   "execution_count": 42,
   "id": "warming-conditions",
   "metadata": {},
   "outputs": [
    {
     "data": {
      "text/plain": [
       "0    99666\n",
       "1    10861\n",
       "Name: Scholarship, dtype: int64"
      ]
     },
     "execution_count": 42,
     "metadata": {},
     "output_type": "execute_result"
    }
   ],
   "source": [
    "# Original data before cleaning\n",
    "df_medical.Scholarship.value_counts()"
   ]
  },
  {
   "cell_type": "code",
   "execution_count": 43,
   "id": "dynamic-violation",
   "metadata": {},
   "outputs": [
    {
     "data": {
      "text/plain": [
       "False    99666\n",
       "True     10861\n",
       "Name: scholarship, dtype: int64"
      ]
     },
     "execution_count": 43,
     "metadata": {},
     "output_type": "execute_result"
    }
   ],
   "source": [
    "#Data after cleaning\n",
    "df_medical_copy.scholarship.value_counts()"
   ]
  },
  {
   "cell_type": "markdown",
   "id": "connected-jacksonville",
   "metadata": {},
   "source": [
    "<em>Hypertension:</em>"
   ]
  },
  {
   "cell_type": "code",
   "execution_count": 44,
   "id": "induced-wright",
   "metadata": {},
   "outputs": [
    {
     "data": {
      "text/plain": [
       "0    88726\n",
       "1    21801\n",
       "Name: Hipertension, dtype: int64"
      ]
     },
     "execution_count": 44,
     "metadata": {},
     "output_type": "execute_result"
    }
   ],
   "source": [
    "# Original data before cleaning\n",
    "df_medical.Hipertension.value_counts()"
   ]
  },
  {
   "cell_type": "code",
   "execution_count": 45,
   "id": "religious-shift",
   "metadata": {},
   "outputs": [
    {
     "data": {
      "text/plain": [
       "False    88726\n",
       "True     21801\n",
       "Name: hypertension, dtype: int64"
      ]
     },
     "execution_count": 45,
     "metadata": {},
     "output_type": "execute_result"
    }
   ],
   "source": [
    "#Data after cleaning\n",
    "df_medical_copy.hypertension.value_counts()"
   ]
  },
  {
   "cell_type": "markdown",
   "id": "injured-ballet",
   "metadata": {},
   "source": [
    "<em>Diabetes:</em>"
   ]
  },
  {
   "cell_type": "code",
   "execution_count": 46,
   "id": "expired-horizontal",
   "metadata": {},
   "outputs": [
    {
     "data": {
      "text/plain": [
       "0    102584\n",
       "1      7943\n",
       "Name: Diabetes, dtype: int64"
      ]
     },
     "execution_count": 46,
     "metadata": {},
     "output_type": "execute_result"
    }
   ],
   "source": [
    "# Original data before cleaning\n",
    "df_medical.Diabetes.value_counts()"
   ]
  },
  {
   "cell_type": "code",
   "execution_count": 47,
   "id": "characteristic-sacramento",
   "metadata": {},
   "outputs": [
    {
     "data": {
      "text/plain": [
       "False    102584\n",
       "True       7943\n",
       "Name: diabetes, dtype: int64"
      ]
     },
     "execution_count": 47,
     "metadata": {},
     "output_type": "execute_result"
    }
   ],
   "source": [
    "#Data after cleaning\n",
    "df_medical_copy.diabetes.value_counts()"
   ]
  },
  {
   "cell_type": "markdown",
   "id": "falling-petite",
   "metadata": {},
   "source": [
    "<em>Alcoholism:</em>"
   ]
  },
  {
   "cell_type": "code",
   "execution_count": 48,
   "id": "moving-arcade",
   "metadata": {},
   "outputs": [
    {
     "data": {
      "text/plain": [
       "0    107167\n",
       "1      3360\n",
       "Name: Alcoholism, dtype: int64"
      ]
     },
     "execution_count": 48,
     "metadata": {},
     "output_type": "execute_result"
    }
   ],
   "source": [
    "# Original data before cleaning\n",
    "df_medical.Alcoholism.value_counts()"
   ]
  },
  {
   "cell_type": "code",
   "execution_count": 49,
   "id": "addressed-playing",
   "metadata": {},
   "outputs": [
    {
     "data": {
      "text/plain": [
       "False    107167\n",
       "True       3360\n",
       "Name: alcoholism, dtype: int64"
      ]
     },
     "execution_count": 49,
     "metadata": {},
     "output_type": "execute_result"
    }
   ],
   "source": [
    "#Data after cleaning\n",
    "df_medical_copy.alcoholism.value_counts()"
   ]
  },
  {
   "cell_type": "markdown",
   "id": "likely-cleaning",
   "metadata": {},
   "source": [
    "<em>Handicap:</em>"
   ]
  },
  {
   "cell_type": "code",
   "execution_count": 50,
   "id": "understanding-curve",
   "metadata": {},
   "outputs": [
    {
     "data": {
      "text/plain": [
       "0    108286\n",
       "1      2042\n",
       "2       183\n",
       "3        13\n",
       "4         3\n",
       "Name: Handcap, dtype: int64"
      ]
     },
     "execution_count": 50,
     "metadata": {},
     "output_type": "execute_result"
    }
   ],
   "source": [
    "# Original data before cleaning\n",
    "df_medical.Handcap.value_counts()"
   ]
  },
  {
   "cell_type": "code",
   "execution_count": 51,
   "id": "touched-mission",
   "metadata": {},
   "outputs": [
    {
     "data": {
      "text/plain": [
       "False    108286\n",
       "True       2241\n",
       "Name: handicap, dtype: int64"
      ]
     },
     "execution_count": 51,
     "metadata": {},
     "output_type": "execute_result"
    }
   ],
   "source": [
    "#Data after cleaning\n",
    "df_medical_copy.handicap.value_counts()"
   ]
  },
  {
   "cell_type": "markdown",
   "id": "unexpected-participation",
   "metadata": {},
   "source": [
    "### Define:\n",
    "Quality Issue 7: No show converted to boolean for consistency of dataset structure."
   ]
  },
  {
   "cell_type": "code",
   "execution_count": 52,
   "id": "convinced-consent",
   "metadata": {},
   "outputs": [],
   "source": [
    "# use pandas replace function\n",
    "df_medical_copy.no_show = df_medical_copy.no_show.replace({'Yes': True, 'No': False})"
   ]
  },
  {
   "cell_type": "code",
   "execution_count": 53,
   "id": "foreign-frederick",
   "metadata": {},
   "outputs": [],
   "source": [
    "# convert datatype to boolean\n",
    "df_medical_copy.no_show = df_medical_copy.no_show.astype(bool)"
   ]
  },
  {
   "cell_type": "markdown",
   "id": "emotional-nancy",
   "metadata": {},
   "source": [
    "### Test:"
   ]
  },
  {
   "cell_type": "code",
   "execution_count": 54,
   "id": "significant-characterization",
   "metadata": {},
   "outputs": [
    {
     "data": {
      "text/plain": [
       "'object'"
      ]
     },
     "execution_count": 54,
     "metadata": {},
     "output_type": "execute_result"
    }
   ],
   "source": [
    "# datatype in original dataset\n",
    "df_medical['No-show'].dtype.name"
   ]
  },
  {
   "cell_type": "code",
   "execution_count": 55,
   "id": "literary-contest",
   "metadata": {},
   "outputs": [
    {
     "data": {
      "text/plain": [
       "'bool'"
      ]
     },
     "execution_count": 55,
     "metadata": {},
     "output_type": "execute_result"
    }
   ],
   "source": [
    "# datatype in copied dataset\n",
    "df_medical_copy.no_show.dtype.name"
   ]
  },
  {
   "cell_type": "code",
   "execution_count": 56,
   "id": "computational-victor",
   "metadata": {},
   "outputs": [
    {
     "data": {
      "text/plain": [
       "No     88208\n",
       "Yes    22319\n",
       "Name: No-show, dtype: int64"
      ]
     },
     "execution_count": 56,
     "metadata": {},
     "output_type": "execute_result"
    }
   ],
   "source": [
    "# values in original dataset\n",
    "df_medical['No-show'].value_counts()"
   ]
  },
  {
   "cell_type": "code",
   "execution_count": 57,
   "id": "nonprofit-rough",
   "metadata": {},
   "outputs": [
    {
     "data": {
      "text/plain": [
       "False    88208\n",
       "True     22319\n",
       "Name: no_show, dtype: int64"
      ]
     },
     "execution_count": 57,
     "metadata": {},
     "output_type": "execute_result"
    }
   ],
   "source": [
    "#equivilant False/True values in copied dataset\n",
    "df_medical_copy.no_show.value_counts()"
   ]
  },
  {
   "cell_type": "markdown",
   "id": "graduate-citizen",
   "metadata": {},
   "source": [
    "### Define:\n",
    "Quality Issue 8: Drop duplicates in dataset to preserve unique data only.<br>\n",
    "<strong>Reminder:</strong> In Assess section, The reason behind dropping appointment id is stated and resolved in <em>quality 3</em>. Now comes the turn to drop duplicate rows for patients, which are revealed when appointment_id column is dropped."
   ]
  },
  {
   "cell_type": "code",
   "execution_count": 58,
   "id": "informative-senior",
   "metadata": {},
   "outputs": [
    {
     "data": {
      "text/plain": [
       "4222"
      ]
     },
     "execution_count": 58,
     "metadata": {},
     "output_type": "execute_result"
    }
   ],
   "source": [
    "df_medical_copy.duplicated().sum()"
   ]
  },
  {
   "cell_type": "markdown",
   "id": "otherwise-preserve",
   "metadata": {},
   "source": [
    "### Code:"
   ]
  },
  {
   "cell_type": "code",
   "execution_count": 59,
   "id": "separated-orientation",
   "metadata": {},
   "outputs": [],
   "source": [
    "df_medical_copy.drop_duplicates(inplace=True)"
   ]
  },
  {
   "cell_type": "code",
   "execution_count": 60,
   "id": "cognitive-parking",
   "metadata": {},
   "outputs": [],
   "source": [
    "df_medical_copy.reset_index(drop=True, inplace=True)"
   ]
  },
  {
   "cell_type": "markdown",
   "id": "lucky-plenty",
   "metadata": {},
   "source": [
    "### Test:"
   ]
  },
  {
   "cell_type": "code",
   "execution_count": 61,
   "id": "compound-tonight",
   "metadata": {},
   "outputs": [
    {
     "data": {
      "text/plain": [
       "(110527, 14)"
      ]
     },
     "execution_count": 61,
     "metadata": {},
     "output_type": "execute_result"
    }
   ],
   "source": [
    "# original data with no columns dropped\n",
    "df_medical.shape"
   ]
  },
  {
   "cell_type": "code",
   "execution_count": 62,
   "id": "exotic-piece",
   "metadata": {},
   "outputs": [
    {
     "data": {
      "text/plain": [
       "(106305, 12)"
      ]
     },
     "execution_count": 62,
     "metadata": {},
     "output_type": "execute_result"
    }
   ],
   "source": [
    "# copied data with columns dropped\n",
    "df_medical_copy.shape"
   ]
  },
  {
   "cell_type": "markdown",
   "id": "virgin-murder",
   "metadata": {},
   "source": [
    "### Define\n",
    "Quality Issue 9: Add days_diff column, to compute difference in days between scheduled and appointment dates."
   ]
  },
  {
   "cell_type": "markdown",
   "id": "developed-appendix",
   "metadata": {},
   "source": [
    "### Code:"
   ]
  },
  {
   "cell_type": "code",
   "execution_count": 63,
   "id": "hispanic-fiction",
   "metadata": {},
   "outputs": [],
   "source": [
    "# elapsed time\n",
    "df_medical_copy['days_diff'] = df_medical_copy['appointment_date'] - df_medical_copy['scheduled_date']\n",
    "df_medical_copy['days_diff']=df_medical_copy['days_diff']/np.timedelta64(1,'D')"
   ]
  },
  {
   "cell_type": "code",
   "execution_count": 64,
   "id": "champion-pleasure",
   "metadata": {},
   "outputs": [],
   "source": [
    "# convert column datatype from float64 to int64\n",
    "df_medical_copy['days_diff'] = df_medical_copy['days_diff'].astype(np.int64)"
   ]
  },
  {
   "cell_type": "markdown",
   "id": "retired-procurement",
   "metadata": {},
   "source": [
    "### Test:"
   ]
  },
  {
   "cell_type": "code",
   "execution_count": 65,
   "id": "entire-transparency",
   "metadata": {},
   "outputs": [
    {
     "data": {
      "text/plain": [
       " 0      35564\n",
       " 2       6641\n",
       " 4       5235\n",
       " 1       5110\n",
       " 7       4804\n",
       " 6       3990\n",
       " 5       3243\n",
       " 14      2860\n",
       " 3       2686\n",
       " 8       2273\n",
       " 21      1839\n",
       " 28      1670\n",
       " 13      1657\n",
       " 9       1580\n",
       " 15      1470\n",
       " 10      1359\n",
       " 20      1158\n",
       " 22      1138\n",
       " 16      1131\n",
       " 12      1093\n",
       " 17      1087\n",
       " 29      1069\n",
       " 19      1015\n",
       " 18       997\n",
       " 27       995\n",
       " 11       960\n",
       " 35       952\n",
       " 23       814\n",
       " 34       795\n",
       " 26       721\n",
       "        ...  \n",
       " 98         5\n",
       " 112        5\n",
       " 103        5\n",
       " 109        5\n",
       " 108        5\n",
       " 102        4\n",
       "-1          4\n",
       " 105        4\n",
       " 96         4\n",
       " 119        4\n",
       " 122        3\n",
       " 92         3\n",
       " 115        2\n",
       " 93         2\n",
       " 110        2\n",
       " 107        2\n",
       " 97         2\n",
       " 94         2\n",
       " 123        1\n",
       " 101        1\n",
       " 126        1\n",
       " 125        1\n",
       " 139        1\n",
       " 151        1\n",
       " 132        1\n",
       " 117        1\n",
       " 146        1\n",
       " 82         1\n",
       "-6          1\n",
       " 127        1\n",
       "Name: days_diff, Length: 131, dtype: int64"
      ]
     },
     "execution_count": 65,
     "metadata": {},
     "output_type": "execute_result"
    }
   ],
   "source": [
    "df_medical_copy['days_diff'].value_counts()"
   ]
  },
  {
   "cell_type": "markdown",
   "id": "acceptable-argentina",
   "metadata": {},
   "source": [
    "### Define:\n",
    "Quality Issue 10: drop data which has scheduled date greater than appointment date."
   ]
  },
  {
   "cell_type": "markdown",
   "id": "sunset-procurement",
   "metadata": {},
   "source": [
    "### Code:"
   ]
  },
  {
   "cell_type": "code",
   "execution_count": 66,
   "id": "ahead-syntax",
   "metadata": {},
   "outputs": [
    {
     "data": {
      "text/html": [
       "<div>\n",
       "<style scoped>\n",
       "    .dataframe tbody tr th:only-of-type {\n",
       "        vertical-align: middle;\n",
       "    }\n",
       "\n",
       "    .dataframe tbody tr th {\n",
       "        vertical-align: top;\n",
       "    }\n",
       "\n",
       "    .dataframe thead th {\n",
       "        text-align: right;\n",
       "    }\n",
       "</style>\n",
       "<table border=\"1\" class=\"dataframe\">\n",
       "  <thead>\n",
       "    <tr style=\"text-align: right;\">\n",
       "      <th></th>\n",
       "      <th>patient_id</th>\n",
       "      <th>gender</th>\n",
       "      <th>scheduled_date</th>\n",
       "      <th>appointment_date</th>\n",
       "      <th>neighbourhood</th>\n",
       "      <th>scholarship</th>\n",
       "      <th>hypertension</th>\n",
       "      <th>diabetes</th>\n",
       "      <th>alcoholism</th>\n",
       "      <th>handicap</th>\n",
       "      <th>SMS_received</th>\n",
       "      <th>no_show</th>\n",
       "      <th>days_diff</th>\n",
       "    </tr>\n",
       "  </thead>\n",
       "  <tbody>\n",
       "    <tr>\n",
       "      <th>26031</th>\n",
       "      <td>7839272661752</td>\n",
       "      <td>M</td>\n",
       "      <td>2016-05-10</td>\n",
       "      <td>2016-05-09</td>\n",
       "      <td>RESISTÊNCIA</td>\n",
       "      <td>False</td>\n",
       "      <td>False</td>\n",
       "      <td>False</td>\n",
       "      <td>False</td>\n",
       "      <td>True</td>\n",
       "      <td>0</td>\n",
       "      <td>True</td>\n",
       "      <td>-1</td>\n",
       "    </tr>\n",
       "    <tr>\n",
       "      <th>53223</th>\n",
       "      <td>7896293967868</td>\n",
       "      <td>F</td>\n",
       "      <td>2016-05-18</td>\n",
       "      <td>2016-05-17</td>\n",
       "      <td>SANTO ANTÔNIO</td>\n",
       "      <td>False</td>\n",
       "      <td>False</td>\n",
       "      <td>False</td>\n",
       "      <td>False</td>\n",
       "      <td>True</td>\n",
       "      <td>0</td>\n",
       "      <td>True</td>\n",
       "      <td>-1</td>\n",
       "    </tr>\n",
       "    <tr>\n",
       "      <th>61770</th>\n",
       "      <td>24252258389979</td>\n",
       "      <td>F</td>\n",
       "      <td>2016-05-05</td>\n",
       "      <td>2016-05-04</td>\n",
       "      <td>CONSOLAÇÃO</td>\n",
       "      <td>False</td>\n",
       "      <td>False</td>\n",
       "      <td>False</td>\n",
       "      <td>False</td>\n",
       "      <td>False</td>\n",
       "      <td>0</td>\n",
       "      <td>True</td>\n",
       "      <td>-1</td>\n",
       "    </tr>\n",
       "    <tr>\n",
       "      <th>68627</th>\n",
       "      <td>998231581612122</td>\n",
       "      <td>F</td>\n",
       "      <td>2016-05-11</td>\n",
       "      <td>2016-05-05</td>\n",
       "      <td>SANTO ANTÔNIO</td>\n",
       "      <td>False</td>\n",
       "      <td>False</td>\n",
       "      <td>False</td>\n",
       "      <td>False</td>\n",
       "      <td>False</td>\n",
       "      <td>0</td>\n",
       "      <td>True</td>\n",
       "      <td>-6</td>\n",
       "    </tr>\n",
       "    <tr>\n",
       "      <th>69431</th>\n",
       "      <td>3787481966821</td>\n",
       "      <td>M</td>\n",
       "      <td>2016-05-04</td>\n",
       "      <td>2016-05-03</td>\n",
       "      <td>TABUAZEIRO</td>\n",
       "      <td>False</td>\n",
       "      <td>False</td>\n",
       "      <td>False</td>\n",
       "      <td>False</td>\n",
       "      <td>False</td>\n",
       "      <td>0</td>\n",
       "      <td>True</td>\n",
       "      <td>-1</td>\n",
       "    </tr>\n",
       "  </tbody>\n",
       "</table>\n",
       "</div>"
      ],
      "text/plain": [
       "            patient_id gender scheduled_date appointment_date  neighbourhood  \\\n",
       "26031    7839272661752      M     2016-05-10       2016-05-09    RESISTÊNCIA   \n",
       "53223    7896293967868      F     2016-05-18       2016-05-17  SANTO ANTÔNIO   \n",
       "61770   24252258389979      F     2016-05-05       2016-05-04     CONSOLAÇÃO   \n",
       "68627  998231581612122      F     2016-05-11       2016-05-05  SANTO ANTÔNIO   \n",
       "69431    3787481966821      M     2016-05-04       2016-05-03     TABUAZEIRO   \n",
       "\n",
       "       scholarship  hypertension  diabetes  alcoholism  handicap  \\\n",
       "26031        False         False     False       False      True   \n",
       "53223        False         False     False       False      True   \n",
       "61770        False         False     False       False     False   \n",
       "68627        False         False     False       False     False   \n",
       "69431        False         False     False       False     False   \n",
       "\n",
       "       SMS_received  no_show  days_diff  \n",
       "26031             0     True         -1  \n",
       "53223             0     True         -1  \n",
       "61770             0     True         -1  \n",
       "68627             0     True         -6  \n",
       "69431             0     True         -1  "
      ]
     },
     "execution_count": 66,
     "metadata": {},
     "output_type": "execute_result"
    }
   ],
   "source": [
    "#drop days_diff < 0 ; it is not logic to have appointment date after scheduled date\n",
    "df_medical_copy.query('days_diff < 0')"
   ]
  },
  {
   "cell_type": "code",
   "execution_count": 67,
   "id": "bulgarian-poster",
   "metadata": {},
   "outputs": [],
   "source": [
    "# drop rows with condition days_diff < 0. Only 5 rows should be dropped based on query\n",
    "df_medical_copy.drop(df_medical_copy[df_medical_copy['days_diff'] < 0].index, inplace=True)"
   ]
  },
  {
   "cell_type": "code",
   "execution_count": 68,
   "id": "outstanding-devil",
   "metadata": {},
   "outputs": [],
   "source": [
    "df_medical_copy.reset_index(drop=True, inplace=True)"
   ]
  },
  {
   "cell_type": "markdown",
   "id": "bulgarian-bowling",
   "metadata": {},
   "source": [
    "### Test:"
   ]
  },
  {
   "cell_type": "code",
   "execution_count": 69,
   "id": "agreed-ridge",
   "metadata": {},
   "outputs": [
    {
     "data": {
      "text/plain": [
       "(106300, 13)"
      ]
     },
     "execution_count": 69,
     "metadata": {},
     "output_type": "execute_result"
    }
   ],
   "source": [
    "# before dropping 5 rows (106305, 12)\n",
    "df_medical_copy.shape\n",
    "# After dropping 5 rows"
   ]
  },
  {
   "cell_type": "code",
   "execution_count": 70,
   "id": "future-swing",
   "metadata": {},
   "outputs": [],
   "source": [
    "df_test = df_medical_copy[df_medical_copy.duplicated(subset={'patient_id','scheduled_date', 'appointment_date'}, keep=False)]"
   ]
  },
  {
   "cell_type": "code",
   "execution_count": 71,
   "id": "rising-million",
   "metadata": {},
   "outputs": [],
   "source": [
    "df_test  =df_test [df_test.duplicated(subset={'patient_id','scheduled_date', 'appointment_date'}, keep=False)]"
   ]
  },
  {
   "cell_type": "code",
   "execution_count": 72,
   "id": "excessive-electric",
   "metadata": {},
   "outputs": [
    {
     "data": {
      "text/html": [
       "<div>\n",
       "<style scoped>\n",
       "    .dataframe tbody tr th:only-of-type {\n",
       "        vertical-align: middle;\n",
       "    }\n",
       "\n",
       "    .dataframe tbody tr th {\n",
       "        vertical-align: top;\n",
       "    }\n",
       "\n",
       "    .dataframe thead th {\n",
       "        text-align: right;\n",
       "    }\n",
       "</style>\n",
       "<table border=\"1\" class=\"dataframe\">\n",
       "  <thead>\n",
       "    <tr style=\"text-align: right;\">\n",
       "      <th></th>\n",
       "      <th>patient_id</th>\n",
       "      <th>gender</th>\n",
       "      <th>scheduled_date</th>\n",
       "      <th>appointment_date</th>\n",
       "      <th>neighbourhood</th>\n",
       "      <th>scholarship</th>\n",
       "      <th>hypertension</th>\n",
       "      <th>diabetes</th>\n",
       "      <th>alcoholism</th>\n",
       "      <th>handicap</th>\n",
       "      <th>SMS_received</th>\n",
       "      <th>no_show</th>\n",
       "      <th>days_diff</th>\n",
       "    </tr>\n",
       "  </thead>\n",
       "  <tbody>\n",
       "    <tr>\n",
       "      <th>21</th>\n",
       "      <td>12154843752835</td>\n",
       "      <td>F</td>\n",
       "      <td>2016-04-27</td>\n",
       "      <td>2016-04-29</td>\n",
       "      <td>CONQUISTA</td>\n",
       "      <td>False</td>\n",
       "      <td>False</td>\n",
       "      <td>False</td>\n",
       "      <td>False</td>\n",
       "      <td>False</td>\n",
       "      <td>0</td>\n",
       "      <td>True</td>\n",
       "      <td>2</td>\n",
       "    </tr>\n",
       "    <tr>\n",
       "      <th>27</th>\n",
       "      <td>12154843752835</td>\n",
       "      <td>F</td>\n",
       "      <td>2016-04-27</td>\n",
       "      <td>2016-04-29</td>\n",
       "      <td>CONQUISTA</td>\n",
       "      <td>False</td>\n",
       "      <td>False</td>\n",
       "      <td>False</td>\n",
       "      <td>False</td>\n",
       "      <td>False</td>\n",
       "      <td>0</td>\n",
       "      <td>False</td>\n",
       "      <td>2</td>\n",
       "    </tr>\n",
       "    <tr>\n",
       "      <th>208</th>\n",
       "      <td>325276913139663</td>\n",
       "      <td>F</td>\n",
       "      <td>2016-04-26</td>\n",
       "      <td>2016-04-29</td>\n",
       "      <td>SANTOS DUMONT</td>\n",
       "      <td>False</td>\n",
       "      <td>False</td>\n",
       "      <td>False</td>\n",
       "      <td>False</td>\n",
       "      <td>False</td>\n",
       "      <td>0</td>\n",
       "      <td>False</td>\n",
       "      <td>3</td>\n",
       "    </tr>\n",
       "    <tr>\n",
       "      <th>286</th>\n",
       "      <td>22462135793684</td>\n",
       "      <td>M</td>\n",
       "      <td>2016-03-31</td>\n",
       "      <td>2016-04-29</td>\n",
       "      <td>CARATOÍRA</td>\n",
       "      <td>False</td>\n",
       "      <td>False</td>\n",
       "      <td>False</td>\n",
       "      <td>False</td>\n",
       "      <td>False</td>\n",
       "      <td>0</td>\n",
       "      <td>True</td>\n",
       "      <td>29</td>\n",
       "    </tr>\n",
       "    <tr>\n",
       "      <th>288</th>\n",
       "      <td>7222383233748</td>\n",
       "      <td>M</td>\n",
       "      <td>2016-04-11</td>\n",
       "      <td>2016-04-29</td>\n",
       "      <td>CARATOÍRA</td>\n",
       "      <td>False</td>\n",
       "      <td>False</td>\n",
       "      <td>False</td>\n",
       "      <td>False</td>\n",
       "      <td>False</td>\n",
       "      <td>0</td>\n",
       "      <td>False</td>\n",
       "      <td>18</td>\n",
       "    </tr>\n",
       "    <tr>\n",
       "      <th>315</th>\n",
       "      <td>17565785761493</td>\n",
       "      <td>F</td>\n",
       "      <td>2016-04-14</td>\n",
       "      <td>2016-04-29</td>\n",
       "      <td>JOANA D´ARC</td>\n",
       "      <td>False</td>\n",
       "      <td>False</td>\n",
       "      <td>False</td>\n",
       "      <td>False</td>\n",
       "      <td>False</td>\n",
       "      <td>0</td>\n",
       "      <td>False</td>\n",
       "      <td>15</td>\n",
       "    </tr>\n",
       "    <tr>\n",
       "      <th>360</th>\n",
       "      <td>74227955271117</td>\n",
       "      <td>F</td>\n",
       "      <td>2016-04-12</td>\n",
       "      <td>2016-04-29</td>\n",
       "      <td>TABUAZEIRO</td>\n",
       "      <td>False</td>\n",
       "      <td>False</td>\n",
       "      <td>False</td>\n",
       "      <td>False</td>\n",
       "      <td>False</td>\n",
       "      <td>0</td>\n",
       "      <td>False</td>\n",
       "      <td>17</td>\n",
       "    </tr>\n",
       "    <tr>\n",
       "      <th>368</th>\n",
       "      <td>95553736385433</td>\n",
       "      <td>F</td>\n",
       "      <td>2016-04-25</td>\n",
       "      <td>2016-04-29</td>\n",
       "      <td>ANDORINHAS</td>\n",
       "      <td>False</td>\n",
       "      <td>False</td>\n",
       "      <td>False</td>\n",
       "      <td>False</td>\n",
       "      <td>False</td>\n",
       "      <td>0</td>\n",
       "      <td>False</td>\n",
       "      <td>4</td>\n",
       "    </tr>\n",
       "    <tr>\n",
       "      <th>370</th>\n",
       "      <td>2213979373713</td>\n",
       "      <td>F</td>\n",
       "      <td>2016-04-25</td>\n",
       "      <td>2016-04-29</td>\n",
       "      <td>ANDORINHAS</td>\n",
       "      <td>False</td>\n",
       "      <td>True</td>\n",
       "      <td>True</td>\n",
       "      <td>False</td>\n",
       "      <td>False</td>\n",
       "      <td>0</td>\n",
       "      <td>False</td>\n",
       "      <td>4</td>\n",
       "    </tr>\n",
       "    <tr>\n",
       "      <th>413</th>\n",
       "      <td>398725181975621</td>\n",
       "      <td>F</td>\n",
       "      <td>2016-03-21</td>\n",
       "      <td>2016-04-29</td>\n",
       "      <td>ITARARÉ</td>\n",
       "      <td>False</td>\n",
       "      <td>False</td>\n",
       "      <td>False</td>\n",
       "      <td>False</td>\n",
       "      <td>False</td>\n",
       "      <td>0</td>\n",
       "      <td>False</td>\n",
       "      <td>39</td>\n",
       "    </tr>\n",
       "    <tr>\n",
       "      <th>422</th>\n",
       "      <td>8415654375685</td>\n",
       "      <td>F</td>\n",
       "      <td>2016-03-16</td>\n",
       "      <td>2016-04-29</td>\n",
       "      <td>ITARARÉ</td>\n",
       "      <td>False</td>\n",
       "      <td>False</td>\n",
       "      <td>False</td>\n",
       "      <td>False</td>\n",
       "      <td>False</td>\n",
       "      <td>0</td>\n",
       "      <td>False</td>\n",
       "      <td>44</td>\n",
       "    </tr>\n",
       "    <tr>\n",
       "      <th>464</th>\n",
       "      <td>72723339153485</td>\n",
       "      <td>M</td>\n",
       "      <td>2016-04-12</td>\n",
       "      <td>2016-04-29</td>\n",
       "      <td>NOVA PALESTINA</td>\n",
       "      <td>False</td>\n",
       "      <td>False</td>\n",
       "      <td>False</td>\n",
       "      <td>False</td>\n",
       "      <td>False</td>\n",
       "      <td>0</td>\n",
       "      <td>False</td>\n",
       "      <td>17</td>\n",
       "    </tr>\n",
       "    <tr>\n",
       "      <th>480</th>\n",
       "      <td>3884285164375</td>\n",
       "      <td>F</td>\n",
       "      <td>2016-03-15</td>\n",
       "      <td>2016-04-29</td>\n",
       "      <td>CONQUISTA</td>\n",
       "      <td>False</td>\n",
       "      <td>False</td>\n",
       "      <td>False</td>\n",
       "      <td>False</td>\n",
       "      <td>False</td>\n",
       "      <td>0</td>\n",
       "      <td>False</td>\n",
       "      <td>45</td>\n",
       "    </tr>\n",
       "    <tr>\n",
       "      <th>494</th>\n",
       "      <td>3265242147884</td>\n",
       "      <td>F</td>\n",
       "      <td>2016-03-17</td>\n",
       "      <td>2016-04-29</td>\n",
       "      <td>ITARARÉ</td>\n",
       "      <td>False</td>\n",
       "      <td>False</td>\n",
       "      <td>False</td>\n",
       "      <td>False</td>\n",
       "      <td>False</td>\n",
       "      <td>0</td>\n",
       "      <td>True</td>\n",
       "      <td>43</td>\n",
       "    </tr>\n",
       "    <tr>\n",
       "      <th>496</th>\n",
       "      <td>6642337156671</td>\n",
       "      <td>M</td>\n",
       "      <td>2016-04-25</td>\n",
       "      <td>2016-04-29</td>\n",
       "      <td>ITARARÉ</td>\n",
       "      <td>False</td>\n",
       "      <td>False</td>\n",
       "      <td>False</td>\n",
       "      <td>False</td>\n",
       "      <td>False</td>\n",
       "      <td>0</td>\n",
       "      <td>False</td>\n",
       "      <td>4</td>\n",
       "    </tr>\n",
       "    <tr>\n",
       "      <th>545</th>\n",
       "      <td>555956674526286</td>\n",
       "      <td>F</td>\n",
       "      <td>2016-03-29</td>\n",
       "      <td>2016-04-29</td>\n",
       "      <td>PARQUE MOSCOSO</td>\n",
       "      <td>False</td>\n",
       "      <td>False</td>\n",
       "      <td>False</td>\n",
       "      <td>False</td>\n",
       "      <td>False</td>\n",
       "      <td>0</td>\n",
       "      <td>False</td>\n",
       "      <td>31</td>\n",
       "    </tr>\n",
       "    <tr>\n",
       "      <th>553</th>\n",
       "      <td>74228889329742</td>\n",
       "      <td>F</td>\n",
       "      <td>2016-03-30</td>\n",
       "      <td>2016-04-29</td>\n",
       "      <td>DO MOSCOSO</td>\n",
       "      <td>False</td>\n",
       "      <td>False</td>\n",
       "      <td>False</td>\n",
       "      <td>False</td>\n",
       "      <td>False</td>\n",
       "      <td>0</td>\n",
       "      <td>False</td>\n",
       "      <td>30</td>\n",
       "    </tr>\n",
       "    <tr>\n",
       "      <th>651</th>\n",
       "      <td>8819415163844</td>\n",
       "      <td>F</td>\n",
       "      <td>2016-04-15</td>\n",
       "      <td>2016-04-29</td>\n",
       "      <td>CENTRO</td>\n",
       "      <td>False</td>\n",
       "      <td>False</td>\n",
       "      <td>False</td>\n",
       "      <td>False</td>\n",
       "      <td>False</td>\n",
       "      <td>0</td>\n",
       "      <td>False</td>\n",
       "      <td>14</td>\n",
       "    </tr>\n",
       "    <tr>\n",
       "      <th>660</th>\n",
       "      <td>56548277857</td>\n",
       "      <td>F</td>\n",
       "      <td>2016-04-19</td>\n",
       "      <td>2016-04-29</td>\n",
       "      <td>SANTO ANDRÉ</td>\n",
       "      <td>False</td>\n",
       "      <td>False</td>\n",
       "      <td>False</td>\n",
       "      <td>False</td>\n",
       "      <td>False</td>\n",
       "      <td>0</td>\n",
       "      <td>True</td>\n",
       "      <td>10</td>\n",
       "    </tr>\n",
       "    <tr>\n",
       "      <th>723</th>\n",
       "      <td>41376425863115</td>\n",
       "      <td>M</td>\n",
       "      <td>2016-04-26</td>\n",
       "      <td>2016-04-29</td>\n",
       "      <td>SÃO PEDRO</td>\n",
       "      <td>True</td>\n",
       "      <td>False</td>\n",
       "      <td>False</td>\n",
       "      <td>False</td>\n",
       "      <td>False</td>\n",
       "      <td>0</td>\n",
       "      <td>False</td>\n",
       "      <td>3</td>\n",
       "    </tr>\n",
       "    <tr>\n",
       "      <th>771</th>\n",
       "      <td>819966163483844</td>\n",
       "      <td>M</td>\n",
       "      <td>2016-04-29</td>\n",
       "      <td>2016-04-29</td>\n",
       "      <td>MARIA ORTIZ</td>\n",
       "      <td>False</td>\n",
       "      <td>False</td>\n",
       "      <td>False</td>\n",
       "      <td>False</td>\n",
       "      <td>False</td>\n",
       "      <td>0</td>\n",
       "      <td>False</td>\n",
       "      <td>0</td>\n",
       "    </tr>\n",
       "    <tr>\n",
       "      <th>787</th>\n",
       "      <td>819966163483844</td>\n",
       "      <td>M</td>\n",
       "      <td>2016-04-29</td>\n",
       "      <td>2016-04-29</td>\n",
       "      <td>MARIA ORTIZ</td>\n",
       "      <td>False</td>\n",
       "      <td>False</td>\n",
       "      <td>False</td>\n",
       "      <td>False</td>\n",
       "      <td>False</td>\n",
       "      <td>0</td>\n",
       "      <td>True</td>\n",
       "      <td>0</td>\n",
       "    </tr>\n",
       "    <tr>\n",
       "      <th>817</th>\n",
       "      <td>2594182728417</td>\n",
       "      <td>M</td>\n",
       "      <td>2016-04-05</td>\n",
       "      <td>2016-04-29</td>\n",
       "      <td>PIEDADE</td>\n",
       "      <td>False</td>\n",
       "      <td>False</td>\n",
       "      <td>False</td>\n",
       "      <td>False</td>\n",
       "      <td>False</td>\n",
       "      <td>0</td>\n",
       "      <td>False</td>\n",
       "      <td>24</td>\n",
       "    </tr>\n",
       "    <tr>\n",
       "      <th>825</th>\n",
       "      <td>38399246558559</td>\n",
       "      <td>F</td>\n",
       "      <td>2016-04-06</td>\n",
       "      <td>2016-04-29</td>\n",
       "      <td>PIEDADE</td>\n",
       "      <td>False</td>\n",
       "      <td>False</td>\n",
       "      <td>False</td>\n",
       "      <td>False</td>\n",
       "      <td>False</td>\n",
       "      <td>0</td>\n",
       "      <td>False</td>\n",
       "      <td>23</td>\n",
       "    </tr>\n",
       "    <tr>\n",
       "      <th>948</th>\n",
       "      <td>759367146896</td>\n",
       "      <td>M</td>\n",
       "      <td>2016-04-15</td>\n",
       "      <td>2016-04-29</td>\n",
       "      <td>VILA RUBIM</td>\n",
       "      <td>False</td>\n",
       "      <td>False</td>\n",
       "      <td>False</td>\n",
       "      <td>False</td>\n",
       "      <td>True</td>\n",
       "      <td>0</td>\n",
       "      <td>False</td>\n",
       "      <td>14</td>\n",
       "    </tr>\n",
       "    <tr>\n",
       "      <th>958</th>\n",
       "      <td>43329444583874</td>\n",
       "      <td>F</td>\n",
       "      <td>2016-04-25</td>\n",
       "      <td>2016-04-29</td>\n",
       "      <td>TABUAZEIRO</td>\n",
       "      <td>False</td>\n",
       "      <td>False</td>\n",
       "      <td>False</td>\n",
       "      <td>False</td>\n",
       "      <td>False</td>\n",
       "      <td>0</td>\n",
       "      <td>False</td>\n",
       "      <td>4</td>\n",
       "    </tr>\n",
       "    <tr>\n",
       "      <th>989</th>\n",
       "      <td>55838367623964</td>\n",
       "      <td>M</td>\n",
       "      <td>2016-04-01</td>\n",
       "      <td>2016-04-29</td>\n",
       "      <td>ITARARÉ</td>\n",
       "      <td>False</td>\n",
       "      <td>False</td>\n",
       "      <td>False</td>\n",
       "      <td>True</td>\n",
       "      <td>False</td>\n",
       "      <td>0</td>\n",
       "      <td>False</td>\n",
       "      <td>28</td>\n",
       "    </tr>\n",
       "    <tr>\n",
       "      <th>1059</th>\n",
       "      <td>74666356855115</td>\n",
       "      <td>F</td>\n",
       "      <td>2016-04-18</td>\n",
       "      <td>2016-04-29</td>\n",
       "      <td>SÃO JOSÉ</td>\n",
       "      <td>False</td>\n",
       "      <td>False</td>\n",
       "      <td>False</td>\n",
       "      <td>False</td>\n",
       "      <td>False</td>\n",
       "      <td>0</td>\n",
       "      <td>True</td>\n",
       "      <td>11</td>\n",
       "    </tr>\n",
       "    <tr>\n",
       "      <th>1061</th>\n",
       "      <td>2958717176658</td>\n",
       "      <td>F</td>\n",
       "      <td>2016-04-18</td>\n",
       "      <td>2016-04-29</td>\n",
       "      <td>SÃO JOSÉ</td>\n",
       "      <td>False</td>\n",
       "      <td>False</td>\n",
       "      <td>False</td>\n",
       "      <td>False</td>\n",
       "      <td>False</td>\n",
       "      <td>0</td>\n",
       "      <td>True</td>\n",
       "      <td>11</td>\n",
       "    </tr>\n",
       "    <tr>\n",
       "      <th>1066</th>\n",
       "      <td>29476766163891</td>\n",
       "      <td>M</td>\n",
       "      <td>2016-04-18</td>\n",
       "      <td>2016-04-29</td>\n",
       "      <td>SANTO ANDRÉ</td>\n",
       "      <td>False</td>\n",
       "      <td>False</td>\n",
       "      <td>False</td>\n",
       "      <td>False</td>\n",
       "      <td>False</td>\n",
       "      <td>0</td>\n",
       "      <td>False</td>\n",
       "      <td>11</td>\n",
       "    </tr>\n",
       "    <tr>\n",
       "      <th>...</th>\n",
       "      <td>...</td>\n",
       "      <td>...</td>\n",
       "      <td>...</td>\n",
       "      <td>...</td>\n",
       "      <td>...</td>\n",
       "      <td>...</td>\n",
       "      <td>...</td>\n",
       "      <td>...</td>\n",
       "      <td>...</td>\n",
       "      <td>...</td>\n",
       "      <td>...</td>\n",
       "      <td>...</td>\n",
       "      <td>...</td>\n",
       "    </tr>\n",
       "    <tr>\n",
       "      <th>104945</th>\n",
       "      <td>43979963591</td>\n",
       "      <td>F</td>\n",
       "      <td>2016-05-19</td>\n",
       "      <td>2016-06-06</td>\n",
       "      <td>MÁRIO CYPRESTE</td>\n",
       "      <td>False</td>\n",
       "      <td>False</td>\n",
       "      <td>False</td>\n",
       "      <td>False</td>\n",
       "      <td>False</td>\n",
       "      <td>0</td>\n",
       "      <td>False</td>\n",
       "      <td>18</td>\n",
       "    </tr>\n",
       "    <tr>\n",
       "      <th>104947</th>\n",
       "      <td>9128374693314</td>\n",
       "      <td>M</td>\n",
       "      <td>2016-05-18</td>\n",
       "      <td>2016-06-07</td>\n",
       "      <td>CARATOÍRA</td>\n",
       "      <td>False</td>\n",
       "      <td>False</td>\n",
       "      <td>False</td>\n",
       "      <td>False</td>\n",
       "      <td>False</td>\n",
       "      <td>0</td>\n",
       "      <td>False</td>\n",
       "      <td>20</td>\n",
       "    </tr>\n",
       "    <tr>\n",
       "      <th>104957</th>\n",
       "      <td>742312432941778</td>\n",
       "      <td>M</td>\n",
       "      <td>2016-05-18</td>\n",
       "      <td>2016-06-01</td>\n",
       "      <td>SANTA TEREZA</td>\n",
       "      <td>False</td>\n",
       "      <td>False</td>\n",
       "      <td>False</td>\n",
       "      <td>False</td>\n",
       "      <td>False</td>\n",
       "      <td>0</td>\n",
       "      <td>False</td>\n",
       "      <td>14</td>\n",
       "    </tr>\n",
       "    <tr>\n",
       "      <th>104970</th>\n",
       "      <td>45776871772</td>\n",
       "      <td>M</td>\n",
       "      <td>2016-05-20</td>\n",
       "      <td>2016-06-02</td>\n",
       "      <td>ROMÃO</td>\n",
       "      <td>False</td>\n",
       "      <td>False</td>\n",
       "      <td>False</td>\n",
       "      <td>False</td>\n",
       "      <td>False</td>\n",
       "      <td>0</td>\n",
       "      <td>True</td>\n",
       "      <td>13</td>\n",
       "    </tr>\n",
       "    <tr>\n",
       "      <th>105051</th>\n",
       "      <td>787697428886813</td>\n",
       "      <td>F</td>\n",
       "      <td>2016-05-16</td>\n",
       "      <td>2016-06-06</td>\n",
       "      <td>JOANA D´ARC</td>\n",
       "      <td>False</td>\n",
       "      <td>False</td>\n",
       "      <td>False</td>\n",
       "      <td>False</td>\n",
       "      <td>False</td>\n",
       "      <td>0</td>\n",
       "      <td>True</td>\n",
       "      <td>21</td>\n",
       "    </tr>\n",
       "    <tr>\n",
       "      <th>105058</th>\n",
       "      <td>93558583997567</td>\n",
       "      <td>M</td>\n",
       "      <td>2016-05-16</td>\n",
       "      <td>2016-06-03</td>\n",
       "      <td>RESISTÊNCIA</td>\n",
       "      <td>False</td>\n",
       "      <td>False</td>\n",
       "      <td>False</td>\n",
       "      <td>True</td>\n",
       "      <td>False</td>\n",
       "      <td>0</td>\n",
       "      <td>True</td>\n",
       "      <td>18</td>\n",
       "    </tr>\n",
       "    <tr>\n",
       "      <th>105061</th>\n",
       "      <td>245549134617978</td>\n",
       "      <td>F</td>\n",
       "      <td>2016-05-24</td>\n",
       "      <td>2016-06-03</td>\n",
       "      <td>SANTOS REIS</td>\n",
       "      <td>False</td>\n",
       "      <td>False</td>\n",
       "      <td>False</td>\n",
       "      <td>False</td>\n",
       "      <td>False</td>\n",
       "      <td>0</td>\n",
       "      <td>True</td>\n",
       "      <td>10</td>\n",
       "    </tr>\n",
       "    <tr>\n",
       "      <th>105256</th>\n",
       "      <td>51474523938942</td>\n",
       "      <td>M</td>\n",
       "      <td>2016-05-31</td>\n",
       "      <td>2016-06-02</td>\n",
       "      <td>SÃO JOSÉ</td>\n",
       "      <td>True</td>\n",
       "      <td>False</td>\n",
       "      <td>False</td>\n",
       "      <td>False</td>\n",
       "      <td>False</td>\n",
       "      <td>0</td>\n",
       "      <td>False</td>\n",
       "      <td>2</td>\n",
       "    </tr>\n",
       "    <tr>\n",
       "      <th>105345</th>\n",
       "      <td>22286615941946</td>\n",
       "      <td>M</td>\n",
       "      <td>2016-05-30</td>\n",
       "      <td>2016-06-01</td>\n",
       "      <td>CRUZAMENTO</td>\n",
       "      <td>False</td>\n",
       "      <td>False</td>\n",
       "      <td>False</td>\n",
       "      <td>False</td>\n",
       "      <td>False</td>\n",
       "      <td>0</td>\n",
       "      <td>True</td>\n",
       "      <td>2</td>\n",
       "    </tr>\n",
       "    <tr>\n",
       "      <th>105353</th>\n",
       "      <td>22286615941946</td>\n",
       "      <td>M</td>\n",
       "      <td>2016-05-30</td>\n",
       "      <td>2016-06-01</td>\n",
       "      <td>CRUZAMENTO</td>\n",
       "      <td>False</td>\n",
       "      <td>False</td>\n",
       "      <td>False</td>\n",
       "      <td>False</td>\n",
       "      <td>False</td>\n",
       "      <td>0</td>\n",
       "      <td>False</td>\n",
       "      <td>2</td>\n",
       "    </tr>\n",
       "    <tr>\n",
       "      <th>105378</th>\n",
       "      <td>7582519769766</td>\n",
       "      <td>M</td>\n",
       "      <td>2016-06-03</td>\n",
       "      <td>2016-06-07</td>\n",
       "      <td>COMDUSA</td>\n",
       "      <td>False</td>\n",
       "      <td>False</td>\n",
       "      <td>True</td>\n",
       "      <td>False</td>\n",
       "      <td>False</td>\n",
       "      <td>0</td>\n",
       "      <td>False</td>\n",
       "      <td>4</td>\n",
       "    </tr>\n",
       "    <tr>\n",
       "      <th>105401</th>\n",
       "      <td>75223983419833</td>\n",
       "      <td>F</td>\n",
       "      <td>2016-06-02</td>\n",
       "      <td>2016-06-02</td>\n",
       "      <td>JESUS DE NAZARETH</td>\n",
       "      <td>True</td>\n",
       "      <td>True</td>\n",
       "      <td>False</td>\n",
       "      <td>False</td>\n",
       "      <td>False</td>\n",
       "      <td>0</td>\n",
       "      <td>True</td>\n",
       "      <td>0</td>\n",
       "    </tr>\n",
       "    <tr>\n",
       "      <th>105426</th>\n",
       "      <td>36892216475853</td>\n",
       "      <td>F</td>\n",
       "      <td>2016-05-04</td>\n",
       "      <td>2016-06-01</td>\n",
       "      <td>ROMÃO</td>\n",
       "      <td>False</td>\n",
       "      <td>False</td>\n",
       "      <td>False</td>\n",
       "      <td>False</td>\n",
       "      <td>False</td>\n",
       "      <td>0</td>\n",
       "      <td>True</td>\n",
       "      <td>28</td>\n",
       "    </tr>\n",
       "    <tr>\n",
       "      <th>105607</th>\n",
       "      <td>842269717855536</td>\n",
       "      <td>M</td>\n",
       "      <td>2016-05-16</td>\n",
       "      <td>2016-06-03</td>\n",
       "      <td>JARDIM DA PENHA</td>\n",
       "      <td>False</td>\n",
       "      <td>False</td>\n",
       "      <td>False</td>\n",
       "      <td>False</td>\n",
       "      <td>False</td>\n",
       "      <td>0</td>\n",
       "      <td>False</td>\n",
       "      <td>18</td>\n",
       "    </tr>\n",
       "    <tr>\n",
       "      <th>105615</th>\n",
       "      <td>7639846118644</td>\n",
       "      <td>F</td>\n",
       "      <td>2016-06-03</td>\n",
       "      <td>2016-06-07</td>\n",
       "      <td>PRAIA DO SUÁ</td>\n",
       "      <td>True</td>\n",
       "      <td>False</td>\n",
       "      <td>False</td>\n",
       "      <td>False</td>\n",
       "      <td>False</td>\n",
       "      <td>0</td>\n",
       "      <td>False</td>\n",
       "      <td>4</td>\n",
       "    </tr>\n",
       "    <tr>\n",
       "      <th>105649</th>\n",
       "      <td>123123243618</td>\n",
       "      <td>F</td>\n",
       "      <td>2016-06-02</td>\n",
       "      <td>2016-06-02</td>\n",
       "      <td>JARDIM DA PENHA</td>\n",
       "      <td>False</td>\n",
       "      <td>False</td>\n",
       "      <td>False</td>\n",
       "      <td>False</td>\n",
       "      <td>False</td>\n",
       "      <td>0</td>\n",
       "      <td>True</td>\n",
       "      <td>0</td>\n",
       "    </tr>\n",
       "    <tr>\n",
       "      <th>105657</th>\n",
       "      <td>979936329365</td>\n",
       "      <td>F</td>\n",
       "      <td>2016-06-02</td>\n",
       "      <td>2016-06-06</td>\n",
       "      <td>PRAIA DO CANTO</td>\n",
       "      <td>False</td>\n",
       "      <td>False</td>\n",
       "      <td>False</td>\n",
       "      <td>False</td>\n",
       "      <td>False</td>\n",
       "      <td>0</td>\n",
       "      <td>False</td>\n",
       "      <td>4</td>\n",
       "    </tr>\n",
       "    <tr>\n",
       "      <th>105758</th>\n",
       "      <td>9949764735855</td>\n",
       "      <td>F</td>\n",
       "      <td>2016-06-03</td>\n",
       "      <td>2016-06-07</td>\n",
       "      <td>SÃO PEDRO</td>\n",
       "      <td>False</td>\n",
       "      <td>False</td>\n",
       "      <td>False</td>\n",
       "      <td>False</td>\n",
       "      <td>False</td>\n",
       "      <td>0</td>\n",
       "      <td>False</td>\n",
       "      <td>4</td>\n",
       "    </tr>\n",
       "    <tr>\n",
       "      <th>106080</th>\n",
       "      <td>49946893632496</td>\n",
       "      <td>M</td>\n",
       "      <td>2016-05-31</td>\n",
       "      <td>2016-06-07</td>\n",
       "      <td>RESISTÊNCIA</td>\n",
       "      <td>False</td>\n",
       "      <td>False</td>\n",
       "      <td>False</td>\n",
       "      <td>False</td>\n",
       "      <td>False</td>\n",
       "      <td>0</td>\n",
       "      <td>True</td>\n",
       "      <td>7</td>\n",
       "    </tr>\n",
       "    <tr>\n",
       "      <th>106149</th>\n",
       "      <td>937226335452128</td>\n",
       "      <td>F</td>\n",
       "      <td>2016-04-12</td>\n",
       "      <td>2016-06-02</td>\n",
       "      <td>RESISTÊNCIA</td>\n",
       "      <td>False</td>\n",
       "      <td>False</td>\n",
       "      <td>False</td>\n",
       "      <td>False</td>\n",
       "      <td>False</td>\n",
       "      <td>0</td>\n",
       "      <td>False</td>\n",
       "      <td>51</td>\n",
       "    </tr>\n",
       "    <tr>\n",
       "      <th>106156</th>\n",
       "      <td>8558816862914</td>\n",
       "      <td>M</td>\n",
       "      <td>2016-04-27</td>\n",
       "      <td>2016-06-01</td>\n",
       "      <td>RESISTÊNCIA</td>\n",
       "      <td>False</td>\n",
       "      <td>False</td>\n",
       "      <td>False</td>\n",
       "      <td>False</td>\n",
       "      <td>False</td>\n",
       "      <td>0</td>\n",
       "      <td>False</td>\n",
       "      <td>35</td>\n",
       "    </tr>\n",
       "    <tr>\n",
       "      <th>106157</th>\n",
       "      <td>87887915116438</td>\n",
       "      <td>F</td>\n",
       "      <td>2016-05-05</td>\n",
       "      <td>2016-06-08</td>\n",
       "      <td>RESISTÊNCIA</td>\n",
       "      <td>False</td>\n",
       "      <td>False</td>\n",
       "      <td>False</td>\n",
       "      <td>False</td>\n",
       "      <td>False</td>\n",
       "      <td>0</td>\n",
       "      <td>False</td>\n",
       "      <td>34</td>\n",
       "    </tr>\n",
       "    <tr>\n",
       "      <th>106159</th>\n",
       "      <td>87887915116438</td>\n",
       "      <td>F</td>\n",
       "      <td>2016-05-05</td>\n",
       "      <td>2016-06-08</td>\n",
       "      <td>RESISTÊNCIA</td>\n",
       "      <td>False</td>\n",
       "      <td>False</td>\n",
       "      <td>False</td>\n",
       "      <td>False</td>\n",
       "      <td>False</td>\n",
       "      <td>0</td>\n",
       "      <td>True</td>\n",
       "      <td>34</td>\n",
       "    </tr>\n",
       "    <tr>\n",
       "      <th>106171</th>\n",
       "      <td>2957278645256</td>\n",
       "      <td>F</td>\n",
       "      <td>2016-04-14</td>\n",
       "      <td>2016-06-01</td>\n",
       "      <td>RESISTÊNCIA</td>\n",
       "      <td>False</td>\n",
       "      <td>True</td>\n",
       "      <td>False</td>\n",
       "      <td>False</td>\n",
       "      <td>False</td>\n",
       "      <td>0</td>\n",
       "      <td>True</td>\n",
       "      <td>48</td>\n",
       "    </tr>\n",
       "    <tr>\n",
       "      <th>106172</th>\n",
       "      <td>76316461924825</td>\n",
       "      <td>F</td>\n",
       "      <td>2016-04-18</td>\n",
       "      <td>2016-06-08</td>\n",
       "      <td>RESISTÊNCIA</td>\n",
       "      <td>False</td>\n",
       "      <td>False</td>\n",
       "      <td>False</td>\n",
       "      <td>False</td>\n",
       "      <td>False</td>\n",
       "      <td>0</td>\n",
       "      <td>True</td>\n",
       "      <td>51</td>\n",
       "    </tr>\n",
       "    <tr>\n",
       "      <th>106183</th>\n",
       "      <td>3341854436961</td>\n",
       "      <td>F</td>\n",
       "      <td>2016-04-15</td>\n",
       "      <td>2016-06-07</td>\n",
       "      <td>RESISTÊNCIA</td>\n",
       "      <td>False</td>\n",
       "      <td>False</td>\n",
       "      <td>False</td>\n",
       "      <td>False</td>\n",
       "      <td>False</td>\n",
       "      <td>0</td>\n",
       "      <td>False</td>\n",
       "      <td>53</td>\n",
       "    </tr>\n",
       "    <tr>\n",
       "      <th>106190</th>\n",
       "      <td>388683923463</td>\n",
       "      <td>F</td>\n",
       "      <td>2016-05-03</td>\n",
       "      <td>2016-06-07</td>\n",
       "      <td>JOANA D´ARC</td>\n",
       "      <td>False</td>\n",
       "      <td>False</td>\n",
       "      <td>False</td>\n",
       "      <td>False</td>\n",
       "      <td>False</td>\n",
       "      <td>0</td>\n",
       "      <td>False</td>\n",
       "      <td>35</td>\n",
       "    </tr>\n",
       "    <tr>\n",
       "      <th>106198</th>\n",
       "      <td>74735118623635</td>\n",
       "      <td>F</td>\n",
       "      <td>2016-04-27</td>\n",
       "      <td>2016-06-06</td>\n",
       "      <td>RESISTÊNCIA</td>\n",
       "      <td>False</td>\n",
       "      <td>False</td>\n",
       "      <td>False</td>\n",
       "      <td>False</td>\n",
       "      <td>False</td>\n",
       "      <td>0</td>\n",
       "      <td>False</td>\n",
       "      <td>40</td>\n",
       "    </tr>\n",
       "    <tr>\n",
       "      <th>106204</th>\n",
       "      <td>2934141357952</td>\n",
       "      <td>F</td>\n",
       "      <td>2016-04-12</td>\n",
       "      <td>2016-06-06</td>\n",
       "      <td>RESISTÊNCIA</td>\n",
       "      <td>False</td>\n",
       "      <td>False</td>\n",
       "      <td>False</td>\n",
       "      <td>False</td>\n",
       "      <td>False</td>\n",
       "      <td>0</td>\n",
       "      <td>False</td>\n",
       "      <td>55</td>\n",
       "    </tr>\n",
       "    <tr>\n",
       "      <th>106220</th>\n",
       "      <td>55299174966973</td>\n",
       "      <td>M</td>\n",
       "      <td>2016-04-27</td>\n",
       "      <td>2016-06-01</td>\n",
       "      <td>RESISTÊNCIA</td>\n",
       "      <td>False</td>\n",
       "      <td>False</td>\n",
       "      <td>True</td>\n",
       "      <td>False</td>\n",
       "      <td>False</td>\n",
       "      <td>0</td>\n",
       "      <td>False</td>\n",
       "      <td>35</td>\n",
       "    </tr>\n",
       "  </tbody>\n",
       "</table>\n",
       "<p>2162 rows × 13 columns</p>\n",
       "</div>"
      ],
      "text/plain": [
       "             patient_id gender scheduled_date appointment_date  \\\n",
       "21       12154843752835      F     2016-04-27       2016-04-29   \n",
       "27       12154843752835      F     2016-04-27       2016-04-29   \n",
       "208     325276913139663      F     2016-04-26       2016-04-29   \n",
       "286      22462135793684      M     2016-03-31       2016-04-29   \n",
       "288       7222383233748      M     2016-04-11       2016-04-29   \n",
       "315      17565785761493      F     2016-04-14       2016-04-29   \n",
       "360      74227955271117      F     2016-04-12       2016-04-29   \n",
       "368      95553736385433      F     2016-04-25       2016-04-29   \n",
       "370       2213979373713      F     2016-04-25       2016-04-29   \n",
       "413     398725181975621      F     2016-03-21       2016-04-29   \n",
       "422       8415654375685      F     2016-03-16       2016-04-29   \n",
       "464      72723339153485      M     2016-04-12       2016-04-29   \n",
       "480       3884285164375      F     2016-03-15       2016-04-29   \n",
       "494       3265242147884      F     2016-03-17       2016-04-29   \n",
       "496       6642337156671      M     2016-04-25       2016-04-29   \n",
       "545     555956674526286      F     2016-03-29       2016-04-29   \n",
       "553      74228889329742      F     2016-03-30       2016-04-29   \n",
       "651       8819415163844      F     2016-04-15       2016-04-29   \n",
       "660         56548277857      F     2016-04-19       2016-04-29   \n",
       "723      41376425863115      M     2016-04-26       2016-04-29   \n",
       "771     819966163483844      M     2016-04-29       2016-04-29   \n",
       "787     819966163483844      M     2016-04-29       2016-04-29   \n",
       "817       2594182728417      M     2016-04-05       2016-04-29   \n",
       "825      38399246558559      F     2016-04-06       2016-04-29   \n",
       "948        759367146896      M     2016-04-15       2016-04-29   \n",
       "958      43329444583874      F     2016-04-25       2016-04-29   \n",
       "989      55838367623964      M     2016-04-01       2016-04-29   \n",
       "1059     74666356855115      F     2016-04-18       2016-04-29   \n",
       "1061      2958717176658      F     2016-04-18       2016-04-29   \n",
       "1066     29476766163891      M     2016-04-18       2016-04-29   \n",
       "...                 ...    ...            ...              ...   \n",
       "104945      43979963591      F     2016-05-19       2016-06-06   \n",
       "104947    9128374693314      M     2016-05-18       2016-06-07   \n",
       "104957  742312432941778      M     2016-05-18       2016-06-01   \n",
       "104970      45776871772      M     2016-05-20       2016-06-02   \n",
       "105051  787697428886813      F     2016-05-16       2016-06-06   \n",
       "105058   93558583997567      M     2016-05-16       2016-06-03   \n",
       "105061  245549134617978      F     2016-05-24       2016-06-03   \n",
       "105256   51474523938942      M     2016-05-31       2016-06-02   \n",
       "105345   22286615941946      M     2016-05-30       2016-06-01   \n",
       "105353   22286615941946      M     2016-05-30       2016-06-01   \n",
       "105378    7582519769766      M     2016-06-03       2016-06-07   \n",
       "105401   75223983419833      F     2016-06-02       2016-06-02   \n",
       "105426   36892216475853      F     2016-05-04       2016-06-01   \n",
       "105607  842269717855536      M     2016-05-16       2016-06-03   \n",
       "105615    7639846118644      F     2016-06-03       2016-06-07   \n",
       "105649     123123243618      F     2016-06-02       2016-06-02   \n",
       "105657     979936329365      F     2016-06-02       2016-06-06   \n",
       "105758    9949764735855      F     2016-06-03       2016-06-07   \n",
       "106080   49946893632496      M     2016-05-31       2016-06-07   \n",
       "106149  937226335452128      F     2016-04-12       2016-06-02   \n",
       "106156    8558816862914      M     2016-04-27       2016-06-01   \n",
       "106157   87887915116438      F     2016-05-05       2016-06-08   \n",
       "106159   87887915116438      F     2016-05-05       2016-06-08   \n",
       "106171    2957278645256      F     2016-04-14       2016-06-01   \n",
       "106172   76316461924825      F     2016-04-18       2016-06-08   \n",
       "106183    3341854436961      F     2016-04-15       2016-06-07   \n",
       "106190     388683923463      F     2016-05-03       2016-06-07   \n",
       "106198   74735118623635      F     2016-04-27       2016-06-06   \n",
       "106204    2934141357952      F     2016-04-12       2016-06-06   \n",
       "106220   55299174966973      M     2016-04-27       2016-06-01   \n",
       "\n",
       "            neighbourhood  scholarship  hypertension  diabetes  alcoholism  \\\n",
       "21              CONQUISTA        False         False     False       False   \n",
       "27              CONQUISTA        False         False     False       False   \n",
       "208         SANTOS DUMONT        False         False     False       False   \n",
       "286             CARATOÍRA        False         False     False       False   \n",
       "288             CARATOÍRA        False         False     False       False   \n",
       "315           JOANA D´ARC        False         False     False       False   \n",
       "360            TABUAZEIRO        False         False     False       False   \n",
       "368            ANDORINHAS        False         False     False       False   \n",
       "370            ANDORINHAS        False          True      True       False   \n",
       "413               ITARARÉ        False         False     False       False   \n",
       "422               ITARARÉ        False         False     False       False   \n",
       "464        NOVA PALESTINA        False         False     False       False   \n",
       "480             CONQUISTA        False         False     False       False   \n",
       "494               ITARARÉ        False         False     False       False   \n",
       "496               ITARARÉ        False         False     False       False   \n",
       "545        PARQUE MOSCOSO        False         False     False       False   \n",
       "553            DO MOSCOSO        False         False     False       False   \n",
       "651                CENTRO        False         False     False       False   \n",
       "660           SANTO ANDRÉ        False         False     False       False   \n",
       "723             SÃO PEDRO         True         False     False       False   \n",
       "771           MARIA ORTIZ        False         False     False       False   \n",
       "787           MARIA ORTIZ        False         False     False       False   \n",
       "817               PIEDADE        False         False     False       False   \n",
       "825               PIEDADE        False         False     False       False   \n",
       "948            VILA RUBIM        False         False     False       False   \n",
       "958            TABUAZEIRO        False         False     False       False   \n",
       "989               ITARARÉ        False         False     False        True   \n",
       "1059             SÃO JOSÉ        False         False     False       False   \n",
       "1061             SÃO JOSÉ        False         False     False       False   \n",
       "1066          SANTO ANDRÉ        False         False     False       False   \n",
       "...                   ...          ...           ...       ...         ...   \n",
       "104945     MÁRIO CYPRESTE        False         False     False       False   \n",
       "104947          CARATOÍRA        False         False     False       False   \n",
       "104957       SANTA TEREZA        False         False     False       False   \n",
       "104970              ROMÃO        False         False     False       False   \n",
       "105051        JOANA D´ARC        False         False     False       False   \n",
       "105058        RESISTÊNCIA        False         False     False        True   \n",
       "105061        SANTOS REIS        False         False     False       False   \n",
       "105256           SÃO JOSÉ         True         False     False       False   \n",
       "105345         CRUZAMENTO        False         False     False       False   \n",
       "105353         CRUZAMENTO        False         False     False       False   \n",
       "105378            COMDUSA        False         False      True       False   \n",
       "105401  JESUS DE NAZARETH         True          True     False       False   \n",
       "105426              ROMÃO        False         False     False       False   \n",
       "105607    JARDIM DA PENHA        False         False     False       False   \n",
       "105615       PRAIA DO SUÁ         True         False     False       False   \n",
       "105649    JARDIM DA PENHA        False         False     False       False   \n",
       "105657     PRAIA DO CANTO        False         False     False       False   \n",
       "105758          SÃO PEDRO        False         False     False       False   \n",
       "106080        RESISTÊNCIA        False         False     False       False   \n",
       "106149        RESISTÊNCIA        False         False     False       False   \n",
       "106156        RESISTÊNCIA        False         False     False       False   \n",
       "106157        RESISTÊNCIA        False         False     False       False   \n",
       "106159        RESISTÊNCIA        False         False     False       False   \n",
       "106171        RESISTÊNCIA        False          True     False       False   \n",
       "106172        RESISTÊNCIA        False         False     False       False   \n",
       "106183        RESISTÊNCIA        False         False     False       False   \n",
       "106190        JOANA D´ARC        False         False     False       False   \n",
       "106198        RESISTÊNCIA        False         False     False       False   \n",
       "106204        RESISTÊNCIA        False         False     False       False   \n",
       "106220        RESISTÊNCIA        False         False      True       False   \n",
       "\n",
       "        handicap  SMS_received  no_show  days_diff  \n",
       "21         False             0     True          2  \n",
       "27         False             0    False          2  \n",
       "208        False             0    False          3  \n",
       "286        False             0     True         29  \n",
       "288        False             0    False         18  \n",
       "315        False             0    False         15  \n",
       "360        False             0    False         17  \n",
       "368        False             0    False          4  \n",
       "370        False             0    False          4  \n",
       "413        False             0    False         39  \n",
       "422        False             0    False         44  \n",
       "464        False             0    False         17  \n",
       "480        False             0    False         45  \n",
       "494        False             0     True         43  \n",
       "496        False             0    False          4  \n",
       "545        False             0    False         31  \n",
       "553        False             0    False         30  \n",
       "651        False             0    False         14  \n",
       "660        False             0     True         10  \n",
       "723        False             0    False          3  \n",
       "771        False             0    False          0  \n",
       "787        False             0     True          0  \n",
       "817        False             0    False         24  \n",
       "825        False             0    False         23  \n",
       "948         True             0    False         14  \n",
       "958        False             0    False          4  \n",
       "989        False             0    False         28  \n",
       "1059       False             0     True         11  \n",
       "1061       False             0     True         11  \n",
       "1066       False             0    False         11  \n",
       "...          ...           ...      ...        ...  \n",
       "104945     False             0    False         18  \n",
       "104947     False             0    False         20  \n",
       "104957     False             0    False         14  \n",
       "104970     False             0     True         13  \n",
       "105051     False             0     True         21  \n",
       "105058     False             0     True         18  \n",
       "105061     False             0     True         10  \n",
       "105256     False             0    False          2  \n",
       "105345     False             0     True          2  \n",
       "105353     False             0    False          2  \n",
       "105378     False             0    False          4  \n",
       "105401     False             0     True          0  \n",
       "105426     False             0     True         28  \n",
       "105607     False             0    False         18  \n",
       "105615     False             0    False          4  \n",
       "105649     False             0     True          0  \n",
       "105657     False             0    False          4  \n",
       "105758     False             0    False          4  \n",
       "106080     False             0     True          7  \n",
       "106149     False             0    False         51  \n",
       "106156     False             0    False         35  \n",
       "106157     False             0    False         34  \n",
       "106159     False             0     True         34  \n",
       "106171     False             0     True         48  \n",
       "106172     False             0     True         51  \n",
       "106183     False             0    False         53  \n",
       "106190     False             0    False         35  \n",
       "106198     False             0    False         40  \n",
       "106204     False             0    False         55  \n",
       "106220     False             0    False         35  \n",
       "\n",
       "[2162 rows x 13 columns]"
      ]
     },
     "execution_count": 72,
     "metadata": {},
     "output_type": "execute_result"
    }
   ],
   "source": [
    "df_test.query('SMS_received == 0')\n"
   ]
  },
  {
   "cell_type": "markdown",
   "id": "english-transmission",
   "metadata": {},
   "source": [
    "-------------"
   ]
  },
  {
   "cell_type": "code",
   "execution_count": 73,
   "id": "italic-biodiversity",
   "metadata": {},
   "outputs": [],
   "source": [
    "def remove_duplicates_by_query(copy_dataframe, f_query_statement='', s_query_statement='', subset_lists=[], duplicate_keep=''):\n",
    "    \"\"\"\n",
    "    Function: investigating in dataset brings us that a new row is saved whenever an SMS is received or patient shows\n",
    "    Variables: \n",
    "      copy_dataframe : dataframe  to modify\n",
    "      f_query_statement: string; First query statement to filter dataset with data to modify\n",
    "      s_query_statement: string; Second query statement to refilter filtered data for rows to modify\n",
    "      subset_lists: list or array; list of subsets in duplicated function\n",
    "      duplicate_keep: string or bool; duplicated keep parameter which takes first last or false\n",
    "      \n",
    "    Drops rows in duplicates and keeps the most recent row of patient appointment ex : two rows one with SMS received zero; this is\n",
    "    row saved on scheduled day and one with SMS received one. Drop the row with SMS zero and leave recent row with SMS 1\n",
    "    SMS \n",
    "    \"\"\"\n",
    "    if(f_query_statement.strip() != ''):\n",
    "        df_view = copy_dataframe.query(f_query_statement)\n",
    "        df_view = df_view[df_view.duplicated(subset=subset_lists, keep=False)]\n",
    "    else:\n",
    "        if(duplicate_keep!= '' or duplicate_keep == False ):\n",
    "            df_view = copy_dataframe[copy_dataframe.duplicated(subset=subset_lists, keep=duplicate_keep)]\n",
    "        else:\n",
    "             df_view = copy_dataframe[copy_dataframe.duplicated(subset=subset_lists)]\n",
    "    df_view = df_view.query(s_query_statement)\n",
    "    li=df_view.index\n",
    "    print(len(li))\n",
    "    copy_dataframe.drop(li, axis=0, inplace=True)\n",
    "    copy_dataframe.reset_index(drop=True, inplace=True)"
   ]
  },
  {
   "cell_type": "markdown",
   "id": "skilled-browse",
   "metadata": {},
   "source": [
    "---------"
   ]
  },
  {
   "cell_type": "markdown",
   "id": "celtic-recruitment",
   "metadata": {},
   "source": [
    "### Define:\n",
    "Quality Issue 11: drop rows with duplicate scheduled and appointment dates having SMS_received = 0.<br>\n",
    "<em>Investigating in dataset brings us that a new row is saved whenever an SMS is received.</em>"
   ]
  },
  {
   "cell_type": "markdown",
   "id": "planned-fraction",
   "metadata": {},
   "source": [
    "### Code:"
   ]
  },
  {
   "cell_type": "code",
   "execution_count": 74,
   "id": "intended-walter",
   "metadata": {},
   "outputs": [
    {
     "name": "stdout",
     "output_type": "stream",
     "text": [
      "937\n"
     ]
    }
   ],
   "source": [
    "# Assess case 1\n",
    "remove_duplicates_by_query(copy_dataframe=df_medical_copy, f_query_statement='no_show == False', s_query_statement='SMS_received == 0'\n",
    "                           , subset_lists=['patient_id','scheduled_date', 'appointment_date'], duplicate_keep=False)"
   ]
  },
  {
   "cell_type": "code",
   "execution_count": 75,
   "id": "promotional-prime",
   "metadata": {},
   "outputs": [
    {
     "name": "stdout",
     "output_type": "stream",
     "text": [
      "440\n"
     ]
    }
   ],
   "source": [
    "# Assess Case 2\n",
    "remove_duplicates_by_query(copy_dataframe=df_medical_copy, f_query_statement='no_show == True', s_query_statement='SMS_received == 0'\n",
    "                           , subset_lists=['patient_id','scheduled_date', 'appointment_date'], duplicate_keep=False)"
   ]
  },
  {
   "cell_type": "code",
   "execution_count": 76,
   "id": "returning-asbestos",
   "metadata": {},
   "outputs": [
    {
     "name": "stdout",
     "output_type": "stream",
     "text": [
      "432\n"
     ]
    }
   ],
   "source": [
    "# Assess case 3\n",
    "remove_duplicates_by_query(copy_dataframe=df_medical_copy, f_query_statement='', s_query_statement='no_show == False'\n",
    "                           , subset_lists=['patient_id','scheduled_date', 'appointment_date'], duplicate_keep=False)"
   ]
  },
  {
   "cell_type": "markdown",
   "id": "controlling-mixture",
   "metadata": {},
   "source": [
    "### Test"
   ]
  },
  {
   "cell_type": "code",
   "execution_count": 77,
   "id": "reasonable-paragraph",
   "metadata": {},
   "outputs": [
    {
     "data": {
      "text/plain": [
       "False    83246\n",
       "True     21245\n",
       "Name: no_show, dtype: int64"
      ]
     },
     "execution_count": 77,
     "metadata": {},
     "output_type": "execute_result"
    }
   ],
   "source": [
    "df_medical_copy.no_show.value_counts()"
   ]
  },
  {
   "cell_type": "code",
   "execution_count": 78,
   "id": "entertaining-suspect",
   "metadata": {},
   "outputs": [
    {
     "data": {
      "text/plain": [
       "42192"
      ]
     },
     "execution_count": 78,
     "metadata": {},
     "output_type": "execute_result"
    }
   ],
   "source": [
    "df_medical_copy.patient_id.duplicated().sum()"
   ]
  },
  {
   "cell_type": "markdown",
   "id": "induced-surveillance",
   "metadata": {},
   "source": [
    "### Define\n",
    "Quality Issue 12: overlapping dates resolved but dropping rows with days_diff=0. These patients do have more than one row duplicated on patient_id and appointment date. So, we need the row with most accurate info."
   ]
  },
  {
   "cell_type": "markdown",
   "id": "boring-celebrity",
   "metadata": {},
   "source": [
    "### Code:"
   ]
  },
  {
   "cell_type": "code",
   "execution_count": 79,
   "id": "signed-validation",
   "metadata": {},
   "outputs": [
    {
     "name": "stdout",
     "output_type": "stream",
     "text": [
      "1852\n"
     ]
    }
   ],
   "source": [
    "# Overlapping dates\n",
    "remove_duplicates_by_query(copy_dataframe=df_medical_copy, f_query_statement='', s_query_statement='days_diff == 0 & no_show == False'\n",
    "                           , subset_lists=['patient_id', 'appointment_date'], duplicate_keep=False)"
   ]
  },
  {
   "cell_type": "markdown",
   "id": "ceramic-mainland",
   "metadata": {},
   "source": [
    "### Test:"
   ]
  },
  {
   "cell_type": "code",
   "execution_count": 80,
   "id": "returning-struggle",
   "metadata": {},
   "outputs": [
    {
     "data": {
      "text/plain": [
       "(102639, 13)"
      ]
     },
     "execution_count": 80,
     "metadata": {},
     "output_type": "execute_result"
    }
   ],
   "source": [
    "df_medical_copy.shape"
   ]
  },
  {
   "cell_type": "markdown",
   "id": "academic-engine",
   "metadata": {},
   "source": [
    "## Rearrange columns and save dataset [[7]](#ref_links7)"
   ]
  },
  {
   "cell_type": "code",
   "execution_count": 81,
   "id": "flexible-garden",
   "metadata": {},
   "outputs": [],
   "source": [
    "df_medical_copy = df_medical_copy[['patient_id', 'gender', 'scheduled_date',\n",
    "       'appointment_date','days_diff', 'neighbourhood', 'scholarship',\n",
    "       'hypertension', 'diabetes', 'alcoholism', 'handicap', 'SMS_received',\n",
    "       'no_show']]"
   ]
  },
  {
   "cell_type": "code",
   "execution_count": 82,
   "id": "floppy-laugh",
   "metadata": {},
   "outputs": [],
   "source": [
    "df_medical_copy.to_csv('Medical__NoShow.csv', index = False)"
   ]
  },
  {
   "cell_type": "markdown",
   "id": "paperback-cambridge",
   "metadata": {},
   "source": [
    "## Exploratory Data Analysis"
   ]
  },
  {
   "cell_type": "markdown",
   "id": "rocky-curve",
   "metadata": {},
   "source": [
    "It is now time to modify the cleaned dataset for analysis. For most patients, we have more than one appointment. In our analysis, we do not need the appointments with same difference in days for the same patient. To make it clearer, let us have this example: a patient with 4 appointments: one with difference in days 2, the other appointment also 2, the third appointment 3 , the fourth appointment 4. I do not need two rows for the same patient with the same symptoms and same data with difference in days 2, so drop one of the columns with days difference 2. Now,  the patient in our example has three rows for study. One with 2, one with three and finally one with 4. To achieve the explained case , here comes the following code: [[3]](#ref_links3)"
   ]
  },
  {
   "cell_type": "code",
   "execution_count": 83,
   "id": "postal-comparative",
   "metadata": {},
   "outputs": [],
   "source": [
    "# drop duplicates identical in values and days diff\n",
    "df_medical_copy.drop_duplicates(subset=['patient_id', 'gender', 'neighbourhood', 'scholarship', 'hypertension', 'diabetes', 'alcoholism', 'handicap', 'SMS_received', 'no_show', 'days_diff'], inplace=True)"
   ]
  },
  {
   "cell_type": "code",
   "execution_count": 84,
   "id": "understood-alignment",
   "metadata": {},
   "outputs": [
    {
     "data": {
      "text/plain": [
       "(93843, 13)"
      ]
     },
     "execution_count": 84,
     "metadata": {},
     "output_type": "execute_result"
    }
   ],
   "source": [
    "df_medical_copy.shape"
   ]
  },
  {
   "cell_type": "code",
   "execution_count": 85,
   "id": "likely-daniel",
   "metadata": {
    "scrolled": true
   },
   "outputs": [
    {
     "data": {
      "text/plain": [
       "31544"
      ]
     },
     "execution_count": 85,
     "metadata": {},
     "output_type": "execute_result"
    }
   ],
   "source": [
    "# unique appointments for each patient\n",
    "df_medical_copy.patient_id.duplicated().sum()"
   ]
  },
  {
   "cell_type": "markdown",
   "id": "documentary-lawsuit",
   "metadata": {},
   "source": [
    "## Analyses and Visualizations"
   ]
  },
  {
   "cell_type": "markdown",
   "id": "sustainable-sperm",
   "metadata": {},
   "source": [
    "#### What is the percentage of  shows vs no-shows? [[8]](#ref_links8)"
   ]
  },
  {
   "cell_type": "code",
   "execution_count": 86,
   "id": "judicial-amplifier",
   "metadata": {},
   "outputs": [
    {
     "data": {
      "image/png": "[encoded data removed]",
      "text/plain": [
       "<matplotlib.figure.Figure at 0x88ce349438>"
      ]
     },
     "metadata": {},
     "output_type": "display_data"
    }
   ],
   "source": [
    "a4_dims = (10, 8)\n",
    "fig, ax = plt.subplots(figsize =a4_dims)\n",
    "legend_label= ['Show', 'No Show']\n",
    "data = df_medical_copy.no_show.value_counts()\n",
    "arr_data = np.array(data)\n",
    "ax.pie(data, autopct='%1.2f%%', labels= legend_label, textprops={'fontsize': 13})\n",
    "ax.legend(legend_label, loc =\"center left\", fontsize = 14,  bbox_to_anchor =(1, 0, 0.5, 1))\n",
    "ax.axis('equal')  # Equal aspect ratio ensures that pie is drawn as a circle.\n",
    "plt.title('Medical Appointments Percentages', fontsize = 16)\n",
    "plt.show()\n"
   ]
  },
  {
   "cell_type": "markdown",
   "id": "effective-flood",
   "metadata": {},
   "source": [
    "It is great to see that patients who show are greater than patients who do not show. However, a 22.17% for no show patients is worth taking a closer look into their variables or columns."
   ]
  },
  {
   "cell_type": "code",
   "execution_count": 87,
   "id": "polar-breathing",
   "metadata": {},
   "outputs": [],
   "source": [
    "df_medical_noshow = df_medical_copy.query('no_show == True').copy()"
   ]
  },
  {
   "cell_type": "code",
   "execution_count": 88,
   "id": "coated-romania",
   "metadata": {},
   "outputs": [
    {
     "data": {
      "text/plain": [
       "True    20807\n",
       "Name: no_show, dtype: int64"
      ]
     },
     "execution_count": 88,
     "metadata": {},
     "output_type": "execute_result"
    }
   ],
   "source": [
    "df_medical_noshow.no_show.value_counts()"
   ]
  },
  {
   "cell_type": "markdown",
   "id": "competent-constitution",
   "metadata": {},
   "source": [
    "#### How do the symptoms of no show people vary? [[9]](#ref_links9)"
   ]
  },
  {
   "cell_type": "code",
   "execution_count": 89,
   "id": "patient-enterprise",
   "metadata": {},
   "outputs": [],
   "source": [
    "hypertension = df_medical_noshow.query('hypertension == True')['hypertension'].value_counts()\n",
    "diabetes = df_medical_noshow.query('diabetes == True')['diabetes'].value_counts()\n",
    "alcoholism = df_medical_noshow.query('alcoholism == True')['alcoholism'].value_counts()\n",
    "handicap = df_medical_noshow.query('handicap == True')['handicap'].value_counts()\n",
    "none_of_symptoms = 20808 - (hypertension + diabetes + alcoholism + handicap)\n",
    "y = np.array([hypertension.values[0], diabetes.values[0], alcoholism.values[0], handicap.values[0], none_of_symptoms.values[0]])"
   ]
  },
  {
   "cell_type": "code",
   "execution_count": 90,
   "id": "religious-general",
   "metadata": {},
   "outputs": [
    {
     "data": {
      "image/png": "[encoded data removed]",
      "text/plain": [
       "<matplotlib.figure.Figure at 0x88cfc52400>"
      ]
     },
     "metadata": {
      "needs_background": "light"
     },
     "output_type": "display_data"
    }
   ],
   "source": [
    "x= np.array(['Hypertension', 'Diabetes', 'Alcoholism', 'Handicap','None'])\n",
    "#-----\n",
    "a4_dims = (10, 8)\n",
    "fig, ax = plt.subplots(figsize =a4_dims)\n",
    "plt.xlabel('No Show Count', fontsize=13)\n",
    "plt.ylabel('Symptoms of No Show', fontsize=13)\n",
    "plt.title('No Show Appointments by Symptoms',  fontsize=16)\n",
    "ax.barh(x, y);"
   ]
  },
  {
   "cell_type": "markdown",
   "id": "considered-potential",
   "metadata": {},
   "source": [
    "Barchart shows that hypertension is the greatest of recorded cases. Diabetes comes next. We should not ignore though the handicap and alcoholism cases. Were these cases health condition revised from time to another? Were these cases asked if the timings they schedule are suitable with their health conditions. For handicap, who is the person in charge of appointment times? Finally, The None cases ; are they checked for their health conditions too from time to another?"
   ]
  },
  {
   "cell_type": "markdown",
   "id": "contained-store",
   "metadata": {},
   "source": [
    "#### How many of those who had symptoms recorded received an SMS?  [[10]](#ref_links10)"
   ]
  },
  {
   "cell_type": "code",
   "execution_count": 91,
   "id": "flying-charles",
   "metadata": {},
   "outputs": [],
   "source": [
    "SMS_hypertension = df_medical_noshow.query('hypertension == True')['SMS_received'].value_counts()\n",
    "SMS_diabetes = df_medical_noshow.query('diabetes == True')['SMS_received'].value_counts()\n",
    "SMS_alcoholism = df_medical_noshow.query('alcoholism == True')['SMS_received'].value_counts()\n",
    "SMS_handicap = df_medical_noshow.query('handicap == True')['SMS_received'].value_counts()"
   ]
  },
  {
   "cell_type": "code",
   "execution_count": 92,
   "id": "disturbed-leader",
   "metadata": {},
   "outputs": [
    {
     "data": {
      "image/png": "[encoded data removed]",
      "text/plain": [
       "<matplotlib.figure.Figure at 0x88d0288400>"
      ]
     },
     "metadata": {
      "needs_background": "light"
     },
     "output_type": "display_data"
    }
   ],
   "source": [
    "labels= np.array(['hypertension', 'diabetes', 'alcoholism', 'handicap'])\n",
    "zero_arr = np.array([SMS_hypertension.values[0], SMS_diabetes.values[0], SMS_alcoholism.values[0], SMS_handicap.values[0]])\n",
    "one_arr = np.array([SMS_hypertension.values[1], SMS_diabetes.values[1], SMS_alcoholism.values[1], SMS_handicap.values[1]])\n",
    "width = 0.40\n",
    "#-----\n",
    "a4_dims = (10, 8)\n",
    "fig, ax = plt.subplots(figsize =a4_dims)\n",
    "ax.bar(labels, zero_arr, width, label='No SMS recieved')\n",
    "ax.bar(labels, one_arr, width, bottom=zero_arr,\n",
    "       label='SMS received');\n",
    "ax.legend(fontsize=14)\n",
    "plt.xlabel('No Show Patient\\'s Symptoms', fontsize=13)\n",
    "plt.ylabel('SMS Notifications', fontsize=13)\n",
    "plt.title('SMS Received for Symptoms Recorded with No Show Patients ',  fontsize=16)\n",
    "#-----\n",
    "plt.show()"
   ]
  },
  {
   "cell_type": "markdown",
   "id": "mexican-plymouth",
   "metadata": {},
   "source": [
    "Despite their special symptoms that should be taken with care in appointments, we see most of them are not sent SMS reminder. Also, the ones who have SMS sent are just sent one message. Have we contacted these patients when they missed their appointments? Why don't we send more than one message to these patients? And those who were missed, why didn't they receive a message?"
   ]
  },
  {
   "cell_type": "markdown",
   "id": "false-distributor",
   "metadata": {},
   "source": [
    "#### How many of them do have a scholarship? [[8]](#ref_links8)"
   ]
  },
  {
   "cell_type": "code",
   "execution_count": 93,
   "id": "dried-variable",
   "metadata": {},
   "outputs": [
    {
     "data": {
      "image/png": "[encoded data removed]",
      "text/plain": [
       "<matplotlib.figure.Figure at 0x88cea486a0>"
      ]
     },
     "metadata": {},
     "output_type": "display_data"
    }
   ],
   "source": [
    "a4_dims = (10, 8)\n",
    "fig, ax = plt.subplots(figsize =a4_dims)\n",
    "legend_label= ['Has No Scholarship', 'Has Scholarship']\n",
    "data = df_medical_noshow.scholarship.value_counts()\n",
    "arr_data = np.array(data)\n",
    "ax.pie(data, autopct='%1.2f%%',labels= legend_label, textprops={'fontsize': 13})\n",
    "ax.legend(legend_label, loc =\"center left\",  fontsize=14, bbox_to_anchor =(1, 0, 0.5, 1))\n",
    "ax.axis('equal')  # Equal aspect ratio ensures that pie is drawn as a circle.\n",
    "plt.title('No Show Scholarship Percentages',  fontsize=16)\n",
    "plt.show()"
   ]
  },
  {
   "cell_type": "markdown",
   "id": "decent-process",
   "metadata": {},
   "source": [
    "A very little of them have a scholarship helping them get their medical treatment. Might the lack of scholarship be one of the reasons? Patients absolutely need to be contacted for this reason too, and suggestion to help them have scholarships or get them an alternative is greatly recommended."
   ]
  },
  {
   "cell_type": "markdown",
   "id": "announced-values",
   "metadata": {},
   "source": [
    "#### How do frequency of patients showing up to their appointment vary with difference in days between scheduled and appointment date? [[11]](#ref_links11)"
   ]
  },
  {
   "cell_type": "code",
   "execution_count": 94,
   "id": "proved-street",
   "metadata": {},
   "outputs": [],
   "source": [
    "# get patients who showed up to their appointments\n",
    "df_medical_show =  df_medical_copy.query('no_show == False').copy()"
   ]
  },
  {
   "cell_type": "code",
   "execution_count": 95,
   "id": "favorite-criminal",
   "metadata": {},
   "outputs": [],
   "source": [
    "p_show = df_medical_show.groupby([df_medical_show['days_diff']]).no_show.count()"
   ]
  },
  {
   "cell_type": "code",
   "execution_count": 96,
   "id": "arctic-square",
   "metadata": {},
   "outputs": [],
   "source": [
    "p_noshow = df_medical_noshow.groupby([df_medical_noshow['days_diff']]).no_show.count()"
   ]
  },
  {
   "cell_type": "code",
   "execution_count": 97,
   "id": "prompt-leisure",
   "metadata": {},
   "outputs": [
    {
     "data": {
      "image/png": "[encoded data removed]",
      "text/plain": [
       "<matplotlib.figure.Figure at 0x88cea485f8>"
      ]
     },
     "metadata": {
      "needs_background": "light"
     },
     "output_type": "display_data"
    }
   ],
   "source": [
    "a4_dims = (15, 10)\n",
    "fig, ax = plt.subplots(figsize=a4_dims)\n",
    "plt.plot(p_show)\n",
    "plt.plot(p_noshow)\n",
    "plt.legend(('show count', 'no-show count'), fontsize=14)\n",
    "plt.xlabel('Days difference (appointment date - scheduled date)', fontsize=13)\n",
    "plt.ylabel('Frequency of visits', fontsize=13);\n",
    "plt.title('show and no-show Counts against difference between appointment and scheduled dates',  fontsize=16);"
   ]
  },
  {
   "cell_type": "markdown",
   "id": "stock-lithuania",
   "metadata": {},
   "source": [
    "From the graph, it is clearly shown that as appointment day gets far away from scheduled day; patients are more vulnerable to miss their appointments. This case is not unexpected especially with symptoms recorded and lack of SMS received with no follow up procedures taken."
   ]
  },
  {
   "cell_type": "markdown",
   "id": "concrete-significance",
   "metadata": {},
   "source": [
    "## Limitations:"
   ]
  },
  {
   "cell_type": "markdown",
   "id": "combined-advance",
   "metadata": {},
   "source": [
    "#### Patient Id not loaded correctly: [[1]](#ref_links1)"
   ]
  },
  {
   "cell_type": "markdown",
   "id": "critical-rabbit",
   "metadata": {},
   "source": [
    "Patient Ids vary in digit numbers. Some do have 7, others have 13. In this case, pandas masks the numbers, placing trailing invisible zeros to the left of number. And since the numbers do not have a fixed form, pandas loads the datatype with the most accurate datatype close to column precision. In this case it loaded column as float. If we checked ParserBase class, then navigate to <em> _infer_types </em> function, we will see that varying input size of patient id caused pandas to interpret id as float."
   ]
  },
  {
   "cell_type": "markdown",
   "id": "reliable-syria",
   "metadata": {},
   "source": [
    "#### Appointment Id generation is incorrect: "
   ]
  },
  {
   "cell_type": "markdown",
   "id": "extra-transcript",
   "metadata": {},
   "source": [
    "A new appointment Id is generated anytime a new row is inserted. So, if an SMS is received or a patient attends, dataset records a new row (according to csv file) with a new appointment id. The limitation here is the program should always maintain the same ID for any recorded appointment. "
   ]
  },
  {
   "cell_type": "markdown",
   "id": "rubber-gospel",
   "metadata": {},
   "source": [
    "#### Timestamp in scheduled and appointment dates: [[2]](#ref_links2)"
   ]
  },
  {
   "cell_type": "markdown",
   "id": "endangered-rates",
   "metadata": {},
   "source": [
    "Scheduled date has a timestamp indicating time of scheduling for an appointment, but appointment date has no timestamp. The limitations here is the missing of timestamp in appointment prevented us from doing further studies on what times of day patients too miss their appointments. This is especially important for those with symtomps such as alcoholic. Overcomming this limitation can help us assist the patient to schedule the most commited appointments."
   ]
  },
  {
   "cell_type": "markdown",
   "id": "direct-orlando",
   "metadata": {},
   "source": [
    "#### Age column contains unrealistic data:"
   ]
  },
  {
   "cell_type": "markdown",
   "id": "thick-right",
   "metadata": {},
   "source": [
    "The ages in the dataset took unlogical path far away from the known and normal lifespan of a person. It would have been acceptable and expected to be very rare cases to have an age range of 90-98. But, the ages recorded exceeded 100, which caused a limitation of studying the varying ages missing their appointments and building any conclusion on it.  Another conjectured point of view is the patients were more than one in a single appointment such as those having handicap values of 2, 3, 4. Patients should be re-contacted for their correct ages."
   ]
  },
  {
   "cell_type": "markdown",
   "id": "pursuant-start",
   "metadata": {},
   "source": [
    "#### Handicap variable or column has values -2, 3, 4- Although it is boolean:"
   ]
  },
  {
   "cell_type": "markdown",
   "id": "broadband-airline",
   "metadata": {},
   "source": [
    "Handicap is a boolean variable, which specifies whether the patient is malformed or not. It is a boolean variable, but we find values like 2, 3, 4. These variables specify count not a symptom. Based on the previous explanation. It is expected that the single appointment was to be divided into 2 or 3 appointment, or these numbers indicate a medical condition. "
   ]
  },
  {
   "cell_type": "markdown",
   "id": "thrown-graham",
   "metadata": {},
   "source": [
    "#### More than one row recorded for the same appointment:"
   ]
  },
  {
   "cell_type": "markdown",
   "id": "shaped-removal",
   "metadata": {},
   "source": [
    "More than one patients scheduled more than one appointment. This is a normal case with no issues. The main issue is if we imagined we have a program which contains a form. The form gets filled everyday either with new appointments or with modification to existing appointments. New appointment is a new row, so no issue in this, but what about modifying an appointment. Whenever an update is added to an appointment, the program opens a new row for the patient with same details, and a different appointment id. Appointment issue is already discussed, but also the modication need to be modified on the same row to avoid duplication and losing data integrity. So, modification to appointments needs a revisit."
   ]
  },
  {
   "cell_type": "markdown",
   "id": "above-worthy",
   "metadata": {},
   "source": [
    "#### Other variables should be added to dataset:"
   ]
  },
  {
   "cell_type": "markdown",
   "id": "meaning-sphere",
   "metadata": {},
   "source": [
    "The dataset needs extra columns to achieve the needed data structure mapped to its semantics. There are numerous ways to shape this dataset. I will try to give some of them. The suggested columns are:<br>\n",
    "<strong>Medical speciality</strong>:this dataset is from which speciality whether internal medicine section, neurology section or any other or mixed dataset from different sections.<br>\n",
    "<strong>Phone call</strong>: The patient should be contacted for an appointment with phone call too. The speech to speech contact ensures the patient really is reminded of his or her apointment. Phone call should be the priority followed by an SMS to called number.<br>\n",
    "<strong>symptioms companion</strong>: patients with symptoms should also have a companion, who is too contacted for their appointments especially those handicap and alcoholic or in case or urgency. The companion name, phone number, relativity to patient and much more.\n",
    "<strong>Other symptoms</strong>: In this world, we have numerous symptoms that prevents people from doing their daily activities not just show to their appointments. Patients need to be clearly contacted for if they have other symptoms.<br>\n",
    "<strong> Incident occurred</strong>: Not only the symptoms , age , neighbourhood that prevent patients from their appointment, but also other incidents. A patient might had have a car accident for example while on his way to the hospital. A patient might have got a sudden illness and fever on the same appointment day. These are incidents and much more that might be taken into consideration.<br>\n",
    "\n",
    "Of course doctor name, hospital name, patient history, and many more."
   ]
  },
  {
   "cell_type": "markdown",
   "id": "current-graphics",
   "metadata": {},
   "source": [
    "## Conclusion:"
   ]
  },
  {
   "cell_type": "markdown",
   "id": "comparable-writer",
   "metadata": {},
   "source": [
    "The dataset is incomplete and needs a lot of variables or columns to have a complete consistent structure. A lot of errors causing duplicate rows need to be fixed example: saving new row when SMS received. The current variables or columns need a comprehensive revision which involves contacting the patients for more information or detail. "
   ]
  },
  {
   "cell_type": "markdown",
   "id": "emotional-nomination",
   "metadata": {},
   "source": [
    "## References:"
   ]
  },
  {
   "cell_type": "markdown",
   "id": "greek-background",
   "metadata": {},
   "source": [
    "<a id = 'ref_links1'></a>\n",
    "[1] Patient Id float datatype reason: <br>\n",
    "https://github.com/pandas-dev/pandas/blob/v0.22.0/pandas/io/parsers.py <br>\n",
    "https://www.datacamp.com/community/tutorials/pandas-tutorial-dataframe-python <br>\n",
    "https://stackoverflow.com/questions/37796916/pandas-read-sql-integer-became-float <br>"
   ]
  },
  {
   "cell_type": "markdown",
   "id": "underlying-cheese",
   "metadata": {},
   "source": [
    "<a id = 'ref_links2'></a>\n",
    "[2] Convert to datetime: <br>\n",
    "https://stackoverflow.com/questions/26763344/convert-pandas-column-to-datetime <br>\n",
    "https://stackoverflow.com/questions/45858155/removing-the-timestamp-from-a-datetime-in-pandas-dataframe <br>"
   ]
  },
  {
   "cell_type": "markdown",
   "id": "linear-spirit",
   "metadata": {},
   "source": [
    "<a id = 'ref_links3'></a>\n",
    "[3] duplicated:<br>\n",
    "https://www.geeksforgeeks.org/accessing-attributes-methods-python/ <br>\n",
    "https://github.com/pandas-dev/pandas/blob/59b2db14f9c47a1b34da9efc12d708d43bcc893f/pandas/core/algorithms.py#L514 <br>\n",
    "https://www.geeksforgeeks.org/find-duplicate-rows-in-a-dataframe-based-on-all-or-selected-columns/ <br>"
   ]
  },
  {
   "cell_type": "markdown",
   "id": "understanding-bathroom",
   "metadata": {},
   "source": [
    "<a id = 'ref_links4'></a>\n",
    "[4] Replace value:<br>\n",
    "https://www.geeksforgeeks.org/replace-the-column-contains-the-values-yes-and-no-with-true-and-false-in-python-pandas/ <br>\n",
    "https://stackoverflow.com/questions/43897296/pandas-converting-yes-no-to-true-false-failing <br>"
   ]
  },
  {
   "cell_type": "markdown",
   "id": "exposed-chile",
   "metadata": {},
   "source": [
    "<a id = 'ref_links5'></a>\n",
    "[5] Add column days-diff: <br>\n",
    "https://www.datasciencemadesimple.com/difference-two-dates-days-weeks-months-years-pandas-python-2/ <br>\n",
    "https://www.geeksforgeeks.org/python-program-to-find-number-of-days-between-two-given-dates/ <br>\n"
   ]
  },
  {
   "cell_type": "markdown",
   "id": "immune-capability",
   "metadata": {},
   "source": [
    "<a id = 'ref_links6'></a>\n",
    "[6] Drop columns < 0 <br>\n",
    "https://www.geeksforgeeks.org/drop-rows-from-the-dataframe-based-on-certain-condition-applied-on-a-column/ <br>"
   ]
  },
  {
   "cell_type": "markdown",
   "id": "focal-therapy",
   "metadata": {},
   "source": [
    "<a id = 'ref_links7'></a>\n",
    "[7] Reorder columns: <br>\n",
    "https://erikrood.com/Python_References/change_order_dataframe_columns_final.html"
   ]
  },
  {
   "cell_type": "markdown",
   "id": "laden-cartoon",
   "metadata": {},
   "source": [
    "<a id = 'ref_links8'></a>\n",
    "[8] Pie chart:<br>\n",
    "https://stackabuse.com/matplotlib-pie-chart-tutorial-and-examples/ <br>\n",
    "https://www.geeksforgeeks.org/plot-a-pie-chart-in-python-using-matplotlib/ <br>\n",
    "https://www.tutorialspoint.com/matplotlib/matplotlib_pie_chart.htm <br>\n",
    "https://stackoverflow.com/questions/7082345/how-to-set-the-labels-size-on-a-pie-chart-in-python <br>"
   ]
  },
  {
   "cell_type": "markdown",
   "id": "intimate-corner",
   "metadata": {},
   "source": [
    "<a id = 'ref_links9'></a>\n",
    "[9] barh:<br>\n",
    "https://www.geeksforgeeks.org/matplotlib-pyplot-barh-function-in-python/ <br>\n",
    "https://matplotlib.org/stable/gallery/lines_bars_and_markers/bar_label_demo.html#sphx-glr-gallery-lines-bars-and-markers-bar-label-demo-py <br>"
   ]
  },
  {
   "cell_type": "markdown",
   "id": "artistic-double",
   "metadata": {},
   "source": [
    "<a id = 'ref_links10'></a>\n",
    "[10] Stacked bar: <br>\n",
    "https://matplotlib.org/stable/gallery/lines_bars_and_markers/bar_stacked.html"
   ]
  },
  {
   "cell_type": "markdown",
   "id": "numerical-study",
   "metadata": {},
   "source": [
    "<a id = 'ref_links11'></a>\n",
    "[11] matplotlib lineplot and Seaborn lineplot(from 0.11 + new version packages only) <br>\n",
    "https://stackabuse.com/matplotlib-line-plot-tutorial-and-examples/ <br>\n",
    "https://stackabuse.com/add-a-legend-to-figure-in-matplotlib/<br>\n",
    "https://www.geeksforgeeks.org/matplotlib-pyplot-legend-in-python/#:~:text=A%20legend%20is%20an%20area,best%E2%80%9D%20(upper%20left).<br>\n",
    "https://dfrieds.com/data-analysis/create-year-month-column.html <br>\n",
    "https://pandas.pydata.org/pandas-docs/version/0.25.0/reference/api/pandas.DataFrame.sort_values.html <br>\n",
    "https://www.geeksforgeeks.org/seaborn-lineplot-method-in-python/ <br>\n",
    "https://www.geeksforgeeks.org/lineplot-using-seaborn-in-python/ <br>\n",
    "https://stackoverflow.com/questions/52308749/how-do-i-create-a-multiline-plot-using-seaborn <br>"
   ]
  },
  {
   "cell_type": "markdown",
   "id": "collect-effect",
   "metadata": {},
   "source": [
    "[12] Font size in graphs:<br>\n",
    "https://www.geeksforgeeks.org/how-to-change-legend-font-size-in-matplotlib/ <br>\n",
    "https://stackabuse.com/change-font-size-in-matplotlib/ <br>"
   ]
  },
  {
   "cell_type": "markdown",
   "id": "laden-underground",
   "metadata": {},
   "source": [
    "[13] Graph and title renaming:<br>\n",
    "https://www.anychart.com/blog/2017/04/05/chart-captions-title-graph-tips/"
   ]
  }
 ],
 "metadata": {
  "kernelspec": {
   "display_name": "Python 3",
   "language": "python",
   "name": "python3"
  },
  "language_info": {
   "codemirror_mode": {
    "name": "ipython",
    "version": 3
   },
   "file_extension": ".py",
   "mimetype": "text/x-python",
   "name": "python",
   "nbconvert_exporter": "python",
   "pygments_lexer": "ipython3",
   "version": "3.6.3"
  }
 },
 "nbformat": 4,
 "nbformat_minor": 5
}
